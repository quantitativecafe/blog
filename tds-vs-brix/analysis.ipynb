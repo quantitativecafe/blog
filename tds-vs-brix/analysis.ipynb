{
 "cells": [
  {
   "cell_type": "code",
   "execution_count": 1,
   "id": "cb1b7522",
   "metadata": {},
   "outputs": [],
   "source": [
    "import numpy as np\n",
    "import pandas as pd\n",
    "import matplotlib.pyplot as plt\n",
    "from scipy.stats import norm\n",
    "from scipy.optimize import minimize\n",
    "from scipy.optimize import curve_fit\n",
    "import emcee\n",
    "import corner\n",
    "from IPython.display import display, Math\n",
    "import re\n",
    "import os"
   ]
  },
  {
   "cell_type": "code",
   "execution_count": 2,
   "id": "93ca6d88",
   "metadata": {},
   "outputs": [
    {
     "data": {
      "text/html": [
       "\n",
       "<style>\n",
       ".output_png {\n",
       "    display: table-cell;\n",
       "    text-align: center;\n",
       "    vertical-align: middle;\n",
       "}\n",
       "</style>\n"
      ],
      "text/plain": [
       "<IPython.core.display.HTML object>"
      ]
     },
     "execution_count": 2,
     "metadata": {},
     "output_type": "execute_result"
    }
   ],
   "source": [
    "from IPython.core.display import HTML\n",
    "\n",
    "# Center plots\n",
    "HTML(\"\"\"\n",
    "<style>\n",
    ".output_png {\n",
    "    display: table-cell;\n",
    "    text-align: center;\n",
    "    vertical-align: middle;\n",
    "}\n",
    "</style>\n",
    "\"\"\")"
   ]
  },
  {
   "cell_type": "markdown",
   "id": "418abc2a",
   "metadata": {},
   "source": [
    "# The data\n",
    "\n",
    "We start by reading some data."
   ]
  },
  {
   "cell_type": "code",
   "execution_count": 3,
   "id": "15819644",
   "metadata": {},
   "outputs": [
    {
     "data": {
      "text/html": [
       "<div>\n",
       "<style scoped>\n",
       "    .dataframe tbody tr th:only-of-type {\n",
       "        vertical-align: middle;\n",
       "    }\n",
       "\n",
       "    .dataframe tbody tr th {\n",
       "        vertical-align: top;\n",
       "    }\n",
       "\n",
       "    .dataframe thead th {\n",
       "        text-align: right;\n",
       "    }\n",
       "</style>\n",
       "<table border=\"1\" class=\"dataframe\">\n",
       "  <thead>\n",
       "    <tr style=\"text-align: right;\">\n",
       "      <th></th>\n",
       "      <th>trial_id</th>\n",
       "      <th>sample_id</th>\n",
       "      <th>weight_empty_boat</th>\n",
       "      <th>brix_percent</th>\n",
       "      <th>weight_boat_plus_liquid</th>\n",
       "      <th>weight_dry_1</th>\n",
       "      <th>weight_dry_2</th>\n",
       "      <th>weight_dry_3</th>\n",
       "      <th>weight_dry_4</th>\n",
       "      <th>weight_dry_5</th>\n",
       "      <th>weight_dry_6</th>\n",
       "      <th>weight_dry_7</th>\n",
       "      <th>notes</th>\n",
       "    </tr>\n",
       "    <tr>\n",
       "      <th>id</th>\n",
       "      <th></th>\n",
       "      <th></th>\n",
       "      <th></th>\n",
       "      <th></th>\n",
       "      <th></th>\n",
       "      <th></th>\n",
       "      <th></th>\n",
       "      <th></th>\n",
       "      <th></th>\n",
       "      <th></th>\n",
       "      <th></th>\n",
       "      <th></th>\n",
       "      <th></th>\n",
       "    </tr>\n",
       "  </thead>\n",
       "  <tbody>\n",
       "    <tr>\n",
       "      <th>38</th>\n",
       "      <td>4</td>\n",
       "      <td>7</td>\n",
       "      <td>0.438</td>\n",
       "      <td>2.8</td>\n",
       "      <td>3.493</td>\n",
       "      <td>0.513</td>\n",
       "      <td>0.509</td>\n",
       "      <td>0.510</td>\n",
       "      <td>0.512</td>\n",
       "      <td>0.511</td>\n",
       "      <td>0.510</td>\n",
       "      <td>0.510</td>\n",
       "      <td>NaN</td>\n",
       "    </tr>\n",
       "    <tr>\n",
       "      <th>39</th>\n",
       "      <td>4</td>\n",
       "      <td>8</td>\n",
       "      <td>0.435</td>\n",
       "      <td>2.0</td>\n",
       "      <td>3.584</td>\n",
       "      <td>0.493</td>\n",
       "      <td>0.490</td>\n",
       "      <td>0.490</td>\n",
       "      <td>0.492</td>\n",
       "      <td>0.492</td>\n",
       "      <td>0.492</td>\n",
       "      <td>0.491</td>\n",
       "      <td>NaN</td>\n",
       "    </tr>\n",
       "    <tr>\n",
       "      <th>40</th>\n",
       "      <td>4</td>\n",
       "      <td>9</td>\n",
       "      <td>0.433</td>\n",
       "      <td>1.5</td>\n",
       "      <td>3.488</td>\n",
       "      <td>0.473</td>\n",
       "      <td>0.470</td>\n",
       "      <td>0.471</td>\n",
       "      <td>0.474</td>\n",
       "      <td>0.474</td>\n",
       "      <td>0.472</td>\n",
       "      <td>0.473</td>\n",
       "      <td>NaN</td>\n",
       "    </tr>\n",
       "    <tr>\n",
       "      <th>41</th>\n",
       "      <td>4</td>\n",
       "      <td>10</td>\n",
       "      <td>0.435</td>\n",
       "      <td>1.1</td>\n",
       "      <td>3.551</td>\n",
       "      <td>0.464</td>\n",
       "      <td>0.462</td>\n",
       "      <td>0.460</td>\n",
       "      <td>0.466</td>\n",
       "      <td>0.463</td>\n",
       "      <td>0.462</td>\n",
       "      <td>0.465</td>\n",
       "      <td>NaN</td>\n",
       "    </tr>\n",
       "    <tr>\n",
       "      <th>42</th>\n",
       "      <td>4</td>\n",
       "      <td>11</td>\n",
       "      <td>0.436</td>\n",
       "      <td>0.8</td>\n",
       "      <td>3.448</td>\n",
       "      <td>0.459</td>\n",
       "      <td>0.456</td>\n",
       "      <td>0.455</td>\n",
       "      <td>0.458</td>\n",
       "      <td>0.457</td>\n",
       "      <td>0.457</td>\n",
       "      <td>0.458</td>\n",
       "      <td>NaN</td>\n",
       "    </tr>\n",
       "  </tbody>\n",
       "</table>\n",
       "</div>"
      ],
      "text/plain": [
       "    trial_id  sample_id  weight_empty_boat  brix_percent  \\\n",
       "id                                                         \n",
       "38         4          7              0.438           2.8   \n",
       "39         4          8              0.435           2.0   \n",
       "40         4          9              0.433           1.5   \n",
       "41         4         10              0.435           1.1   \n",
       "42         4         11              0.436           0.8   \n",
       "\n",
       "    weight_boat_plus_liquid  weight_dry_1  weight_dry_2  weight_dry_3  \\\n",
       "id                                                                      \n",
       "38                    3.493         0.513         0.509         0.510   \n",
       "39                    3.584         0.493         0.490         0.490   \n",
       "40                    3.488         0.473         0.470         0.471   \n",
       "41                    3.551         0.464         0.462         0.460   \n",
       "42                    3.448         0.459         0.456         0.455   \n",
       "\n",
       "    weight_dry_4  weight_dry_5  weight_dry_6  weight_dry_7 notes  \n",
       "id                                                                \n",
       "38         0.512         0.511         0.510         0.510   NaN  \n",
       "39         0.492         0.492         0.492         0.491   NaN  \n",
       "40         0.474         0.474         0.472         0.473   NaN  \n",
       "41         0.466         0.463         0.462         0.465   NaN  \n",
       "42         0.458         0.457         0.457         0.458   NaN  "
      ]
     },
     "execution_count": 3,
     "metadata": {},
     "output_type": "execute_result"
    }
   ],
   "source": [
    "trials = pd.read_csv('trials.csv', index_col=0)\n",
    "measurements = pd.read_csv('measurements.csv', index_col=0)\n",
    "measurements.tail()"
   ]
  },
  {
   "cell_type": "markdown",
   "id": "3473256e",
   "metadata": {},
   "source": [
    "The weight measurements during drying are organized as columns in the measurements table. However, it will make more sense here to rearrange these columns as separate samples."
   ]
  },
  {
   "cell_type": "code",
   "execution_count": 4,
   "id": "7e157d5f",
   "metadata": {},
   "outputs": [
    {
     "data": {
      "text/html": [
       "<div>\n",
       "<style scoped>\n",
       "    .dataframe tbody tr th:only-of-type {\n",
       "        vertical-align: middle;\n",
       "    }\n",
       "\n",
       "    .dataframe tbody tr th {\n",
       "        vertical-align: top;\n",
       "    }\n",
       "\n",
       "    .dataframe thead th {\n",
       "        text-align: right;\n",
       "    }\n",
       "</style>\n",
       "<table border=\"1\" class=\"dataframe\">\n",
       "  <thead>\n",
       "    <tr style=\"text-align: right;\">\n",
       "      <th></th>\n",
       "      <th>trial_id</th>\n",
       "      <th>sample_id</th>\n",
       "      <th>weight_empty_boat</th>\n",
       "      <th>brix_percent</th>\n",
       "      <th>weight_boat_plus_liquid</th>\n",
       "      <th>notes</th>\n",
       "      <th>weight_id</th>\n",
       "      <th>dry_weight</th>\n",
       "    </tr>\n",
       "  </thead>\n",
       "  <tbody>\n",
       "    <tr>\n",
       "      <th>289</th>\n",
       "      <td>4</td>\n",
       "      <td>7</td>\n",
       "      <td>0.438</td>\n",
       "      <td>2.8</td>\n",
       "      <td>3.493</td>\n",
       "      <td>NaN</td>\n",
       "      <td>7</td>\n",
       "      <td>0.510</td>\n",
       "    </tr>\n",
       "    <tr>\n",
       "      <th>290</th>\n",
       "      <td>4</td>\n",
       "      <td>8</td>\n",
       "      <td>0.435</td>\n",
       "      <td>2.0</td>\n",
       "      <td>3.584</td>\n",
       "      <td>NaN</td>\n",
       "      <td>7</td>\n",
       "      <td>0.491</td>\n",
       "    </tr>\n",
       "    <tr>\n",
       "      <th>291</th>\n",
       "      <td>4</td>\n",
       "      <td>9</td>\n",
       "      <td>0.433</td>\n",
       "      <td>1.5</td>\n",
       "      <td>3.488</td>\n",
       "      <td>NaN</td>\n",
       "      <td>7</td>\n",
       "      <td>0.473</td>\n",
       "    </tr>\n",
       "    <tr>\n",
       "      <th>292</th>\n",
       "      <td>4</td>\n",
       "      <td>10</td>\n",
       "      <td>0.435</td>\n",
       "      <td>1.1</td>\n",
       "      <td>3.551</td>\n",
       "      <td>NaN</td>\n",
       "      <td>7</td>\n",
       "      <td>0.465</td>\n",
       "    </tr>\n",
       "    <tr>\n",
       "      <th>293</th>\n",
       "      <td>4</td>\n",
       "      <td>11</td>\n",
       "      <td>0.436</td>\n",
       "      <td>0.8</td>\n",
       "      <td>3.448</td>\n",
       "      <td>NaN</td>\n",
       "      <td>7</td>\n",
       "      <td>0.458</td>\n",
       "    </tr>\n",
       "  </tbody>\n",
       "</table>\n",
       "</div>"
      ],
      "text/plain": [
       "     trial_id  sample_id  weight_empty_boat  brix_percent  \\\n",
       "289         4          7              0.438           2.8   \n",
       "290         4          8              0.435           2.0   \n",
       "291         4          9              0.433           1.5   \n",
       "292         4         10              0.435           1.1   \n",
       "293         4         11              0.436           0.8   \n",
       "\n",
       "     weight_boat_plus_liquid notes  weight_id  dry_weight  \n",
       "289                    3.493   NaN          7       0.510  \n",
       "290                    3.584   NaN          7       0.491  \n",
       "291                    3.488   NaN          7       0.473  \n",
       "292                    3.551   NaN          7       0.465  \n",
       "293                    3.448   NaN          7       0.458  "
      ]
     },
     "execution_count": 4,
     "metadata": {},
     "output_type": "execute_result"
    }
   ],
   "source": [
    "value_vars = [col for col in measurements if col.startswith('weight_dry')]\n",
    "id_vars = [ele for ele in measurements.columns if ele not in value_vars]\n",
    "measurements = measurements.melt(id_vars=id_vars, value_vars=value_vars, \n",
    "                                 var_name='weight_id', value_name='dry_weight')\n",
    "measurements['weight_id'] = measurements['weight_id'].apply(lambda x: int(re.search(r'\\d+', x)[0]))\n",
    "measurements = measurements.dropna(subset=['dry_weight'])\n",
    "measurements.tail()"
   ]
  },
  {
   "cell_type": "markdown",
   "id": "9e63dcd8",
   "metadata": {},
   "source": [
    "Weight measurement \\#3 and \\#4 represent the same sample--these are samples taken in the evening after the oven was turned off, and in the morning before it was turned on. We see this reflected in the weights of the samples, which don't change significantly. To clarify the analysis that follows, let's remove measurement \\#4 from the data set."
   ]
  },
  {
   "cell_type": "code",
   "execution_count": 5,
   "id": "46f56d3e",
   "metadata": {},
   "outputs": [
    {
     "data": {
      "text/html": [
       "<div>\n",
       "<style scoped>\n",
       "    .dataframe tbody tr th:only-of-type {\n",
       "        vertical-align: middle;\n",
       "    }\n",
       "\n",
       "    .dataframe tbody tr th {\n",
       "        vertical-align: top;\n",
       "    }\n",
       "\n",
       "    .dataframe thead th {\n",
       "        text-align: right;\n",
       "    }\n",
       "</style>\n",
       "<table border=\"1\" class=\"dataframe\">\n",
       "  <thead>\n",
       "    <tr style=\"text-align: right;\">\n",
       "      <th></th>\n",
       "      <th>trial_id</th>\n",
       "      <th>sample_id</th>\n",
       "      <th>weight_empty_boat</th>\n",
       "      <th>brix_percent</th>\n",
       "      <th>weight_boat_plus_liquid</th>\n",
       "      <th>notes</th>\n",
       "      <th>weight_id</th>\n",
       "      <th>dry_weight</th>\n",
       "    </tr>\n",
       "  </thead>\n",
       "  <tbody>\n",
       "    <tr>\n",
       "      <th>289</th>\n",
       "      <td>4</td>\n",
       "      <td>7</td>\n",
       "      <td>0.438</td>\n",
       "      <td>2.8</td>\n",
       "      <td>3.493</td>\n",
       "      <td>NaN</td>\n",
       "      <td>6</td>\n",
       "      <td>0.510</td>\n",
       "    </tr>\n",
       "    <tr>\n",
       "      <th>290</th>\n",
       "      <td>4</td>\n",
       "      <td>8</td>\n",
       "      <td>0.435</td>\n",
       "      <td>2.0</td>\n",
       "      <td>3.584</td>\n",
       "      <td>NaN</td>\n",
       "      <td>6</td>\n",
       "      <td>0.491</td>\n",
       "    </tr>\n",
       "    <tr>\n",
       "      <th>291</th>\n",
       "      <td>4</td>\n",
       "      <td>9</td>\n",
       "      <td>0.433</td>\n",
       "      <td>1.5</td>\n",
       "      <td>3.488</td>\n",
       "      <td>NaN</td>\n",
       "      <td>6</td>\n",
       "      <td>0.473</td>\n",
       "    </tr>\n",
       "    <tr>\n",
       "      <th>292</th>\n",
       "      <td>4</td>\n",
       "      <td>10</td>\n",
       "      <td>0.435</td>\n",
       "      <td>1.1</td>\n",
       "      <td>3.551</td>\n",
       "      <td>NaN</td>\n",
       "      <td>6</td>\n",
       "      <td>0.465</td>\n",
       "    </tr>\n",
       "    <tr>\n",
       "      <th>293</th>\n",
       "      <td>4</td>\n",
       "      <td>11</td>\n",
       "      <td>0.436</td>\n",
       "      <td>0.8</td>\n",
       "      <td>3.448</td>\n",
       "      <td>NaN</td>\n",
       "      <td>6</td>\n",
       "      <td>0.458</td>\n",
       "    </tr>\n",
       "  </tbody>\n",
       "</table>\n",
       "</div>"
      ],
      "text/plain": [
       "     trial_id  sample_id  weight_empty_boat  brix_percent  \\\n",
       "289         4          7              0.438           2.8   \n",
       "290         4          8              0.435           2.0   \n",
       "291         4          9              0.433           1.5   \n",
       "292         4         10              0.435           1.1   \n",
       "293         4         11              0.436           0.8   \n",
       "\n",
       "     weight_boat_plus_liquid notes  weight_id  dry_weight  \n",
       "289                    3.493   NaN          6       0.510  \n",
       "290                    3.584   NaN          6       0.491  \n",
       "291                    3.488   NaN          6       0.473  \n",
       "292                    3.551   NaN          6       0.465  \n",
       "293                    3.448   NaN          6       0.458  "
      ]
     },
     "execution_count": 5,
     "metadata": {},
     "output_type": "execute_result"
    }
   ],
   "source": [
    "measurements = measurements[measurements['weight_id'] != 4]\n",
    "measurements['weight_id'] = measurements['weight_id'].apply(lambda x: x - 1 if x > 4 else x)\n",
    "measurements.tail()"
   ]
  },
  {
   "cell_type": "markdown",
   "id": "b2b6a1a5",
   "metadata": {},
   "source": [
    "Now let's calculate TDS for each of the dry weights."
   ]
  },
  {
   "cell_type": "code",
   "execution_count": 6,
   "id": "f64fc3fc",
   "metadata": {},
   "outputs": [
    {
     "data": {
      "text/html": [
       "<div>\n",
       "<style scoped>\n",
       "    .dataframe tbody tr th:only-of-type {\n",
       "        vertical-align: middle;\n",
       "    }\n",
       "\n",
       "    .dataframe tbody tr th {\n",
       "        vertical-align: top;\n",
       "    }\n",
       "\n",
       "    .dataframe thead th {\n",
       "        text-align: right;\n",
       "    }\n",
       "</style>\n",
       "<table border=\"1\" class=\"dataframe\">\n",
       "  <thead>\n",
       "    <tr style=\"text-align: right;\">\n",
       "      <th></th>\n",
       "      <th>trial_id</th>\n",
       "      <th>sample_id</th>\n",
       "      <th>weight_empty_boat</th>\n",
       "      <th>brix_percent</th>\n",
       "      <th>weight_boat_plus_liquid</th>\n",
       "      <th>notes</th>\n",
       "      <th>weight_id</th>\n",
       "      <th>dry_weight</th>\n",
       "      <th>weight_dissolved</th>\n",
       "      <th>weight_solid</th>\n",
       "      <th>tds</th>\n",
       "    </tr>\n",
       "  </thead>\n",
       "  <tbody>\n",
       "    <tr>\n",
       "      <th>289</th>\n",
       "      <td>4</td>\n",
       "      <td>7</td>\n",
       "      <td>0.438</td>\n",
       "      <td>2.8</td>\n",
       "      <td>3.493</td>\n",
       "      <td>NaN</td>\n",
       "      <td>6</td>\n",
       "      <td>0.510</td>\n",
       "      <td>3.055</td>\n",
       "      <td>0.072</td>\n",
       "      <td>0.023568</td>\n",
       "    </tr>\n",
       "    <tr>\n",
       "      <th>290</th>\n",
       "      <td>4</td>\n",
       "      <td>8</td>\n",
       "      <td>0.435</td>\n",
       "      <td>2.0</td>\n",
       "      <td>3.584</td>\n",
       "      <td>NaN</td>\n",
       "      <td>6</td>\n",
       "      <td>0.491</td>\n",
       "      <td>3.149</td>\n",
       "      <td>0.056</td>\n",
       "      <td>0.017783</td>\n",
       "    </tr>\n",
       "    <tr>\n",
       "      <th>291</th>\n",
       "      <td>4</td>\n",
       "      <td>9</td>\n",
       "      <td>0.433</td>\n",
       "      <td>1.5</td>\n",
       "      <td>3.488</td>\n",
       "      <td>NaN</td>\n",
       "      <td>6</td>\n",
       "      <td>0.473</td>\n",
       "      <td>3.055</td>\n",
       "      <td>0.040</td>\n",
       "      <td>0.013093</td>\n",
       "    </tr>\n",
       "    <tr>\n",
       "      <th>292</th>\n",
       "      <td>4</td>\n",
       "      <td>10</td>\n",
       "      <td>0.435</td>\n",
       "      <td>1.1</td>\n",
       "      <td>3.551</td>\n",
       "      <td>NaN</td>\n",
       "      <td>6</td>\n",
       "      <td>0.465</td>\n",
       "      <td>3.116</td>\n",
       "      <td>0.030</td>\n",
       "      <td>0.009628</td>\n",
       "    </tr>\n",
       "    <tr>\n",
       "      <th>293</th>\n",
       "      <td>4</td>\n",
       "      <td>11</td>\n",
       "      <td>0.436</td>\n",
       "      <td>0.8</td>\n",
       "      <td>3.448</td>\n",
       "      <td>NaN</td>\n",
       "      <td>6</td>\n",
       "      <td>0.458</td>\n",
       "      <td>3.012</td>\n",
       "      <td>0.022</td>\n",
       "      <td>0.007304</td>\n",
       "    </tr>\n",
       "  </tbody>\n",
       "</table>\n",
       "</div>"
      ],
      "text/plain": [
       "     trial_id  sample_id  weight_empty_boat  brix_percent  \\\n",
       "289         4          7              0.438           2.8   \n",
       "290         4          8              0.435           2.0   \n",
       "291         4          9              0.433           1.5   \n",
       "292         4         10              0.435           1.1   \n",
       "293         4         11              0.436           0.8   \n",
       "\n",
       "     weight_boat_plus_liquid notes  weight_id  dry_weight  weight_dissolved  \\\n",
       "289                    3.493   NaN          6       0.510             3.055   \n",
       "290                    3.584   NaN          6       0.491             3.149   \n",
       "291                    3.488   NaN          6       0.473             3.055   \n",
       "292                    3.551   NaN          6       0.465             3.116   \n",
       "293                    3.448   NaN          6       0.458             3.012   \n",
       "\n",
       "     weight_solid       tds  \n",
       "289         0.072  0.023568  \n",
       "290         0.056  0.017783  \n",
       "291         0.040  0.013093  \n",
       "292         0.030  0.009628  \n",
       "293         0.022  0.007304  "
      ]
     },
     "execution_count": 6,
     "metadata": {},
     "output_type": "execute_result"
    }
   ],
   "source": [
    "measurements['weight_dissolved'] = measurements['weight_boat_plus_liquid'] - measurements['weight_empty_boat']\n",
    "measurements['weight_solid'] = measurements['dry_weight'] - measurements['weight_empty_boat']\n",
    "measurements['tds'] = measurements['weight_solid'] / measurements['weight_dissolved']\n",
    "measurements.tail()"
   ]
  },
  {
   "cell_type": "markdown",
   "id": "8a69d824",
   "metadata": {},
   "source": [
    "Let's see what this looks like."
   ]
  },
  {
   "cell_type": "code",
   "execution_count": 7,
   "id": "cab390e5",
   "metadata": {},
   "outputs": [
    {
     "data": {
      "text/plain": [
       "<matplotlib.legend.Legend at 0x27364da1970>"
      ]
     },
     "execution_count": 7,
     "metadata": {},
     "output_type": "execute_result"
    },
    {
     "data": {
      "image/png": "[encoded data removed]",
      "text/plain": [
       "<Figure size 1080x648 with 1 Axes>"
      ]
     },
     "metadata": {
      "needs_background": "light"
     },
     "output_type": "display_data"
    }
   ],
   "source": [
    "# Create the figure\n",
    "fig, ax = plt.subplots(figsize=(15,9))\n",
    "#fig.patch.set_facecolor('white')\n",
    "\n",
    "# Label the axes\n",
    "ax.set_xlabel('Brix')\n",
    "ax.set_ylabel('Total Solids')\n",
    "\n",
    "for (trial_id, weight_id), df in measurements.groupby(['trial_id', 'weight_id']):\n",
    "    # Get plot data\n",
    "    xs = np.array(df['brix_percent'] / 100.)\n",
    "    ys = np.array(df['tds'])\n",
    "    \n",
    "    # Get trial description\n",
    "    label = trials['description'][trial_id] + f', weight #{weight_id}'\n",
    "\n",
    "    # Plot the data\n",
    "    p = ax.plot(xs, ys, label=label, marker='o', linestyle='None')\n",
    "\n",
    "# Add a legend to the plot\n",
    "ax.legend()"
   ]
  },
  {
   "cell_type": "markdown",
   "id": "3dcb73bc",
   "metadata": {},
   "source": [
    "If we focus on just the driest samples in the second experiment:"
   ]
  },
  {
   "cell_type": "code",
   "execution_count": 8,
   "id": "1978c55e",
   "metadata": {},
   "outputs": [
    {
     "data": {
      "text/plain": [
       "<matplotlib.legend.Legend at 0x27366ea6f10>"
      ]
     },
     "execution_count": 8,
     "metadata": {},
     "output_type": "execute_result"
    },
    {
     "data": {
      "image/png": "[encoded data removed]",
      "text/plain": [
       "<Figure size 1080x648 with 1 Axes>"
      ]
     },
     "metadata": {
      "needs_background": "light"
     },
     "output_type": "display_data"
    }
   ],
   "source": [
    "# Create the figure\n",
    "fig, ax = plt.subplots(figsize=(15,9))\n",
    "#fig.patch.set_facecolor('white')\n",
    "\n",
    "# Label the axes\n",
    "ax.set_xlabel('Brix')\n",
    "ax.set_ylabel('Total Solids')\n",
    "\n",
    "# Plot labels\n",
    "labels = ['Experiment #2, no filter', 'Experiment #2, Chemex filter']\n",
    "\n",
    "for i, trial_id in enumerate([3, 4]):\n",
    "    one_trial = measurements[measurements['trial_id'] == trial_id]\n",
    "    weight_id = one_trial['weight_id'].max()\n",
    "    df = one_trial[one_trial['weight_id'] == weight_id]\n",
    "\n",
    "    # Get plot data\n",
    "    xs = np.array(df['brix_percent'] / 100.)\n",
    "    ys = np.array(df['tds'])\n",
    "\n",
    "    # Get trial description\n",
    "    label = labels[i]\n",
    "\n",
    "    # Plot the data\n",
    "    p = ax.plot(xs, ys, label=label, marker='o', linestyle='None', color=f'C{i}')\n",
    "\n",
    "# Add a legend to the plot\n",
    "ax.legend()"
   ]
  },
  {
   "cell_type": "markdown",
   "id": "083feaea",
   "metadata": {},
   "source": [
    "Now let's fit a line to each trial and each drying time."
   ]
  },
  {
   "cell_type": "code",
   "execution_count": 9,
   "id": "bd544400",
   "metadata": {},
   "outputs": [
    {
     "data": {
      "text/html": [
       "<div>\n",
       "<style scoped>\n",
       "    .dataframe tbody tr th:only-of-type {\n",
       "        vertical-align: middle;\n",
       "    }\n",
       "\n",
       "    .dataframe tbody tr th {\n",
       "        vertical-align: top;\n",
       "    }\n",
       "\n",
       "    .dataframe thead th {\n",
       "        text-align: right;\n",
       "    }\n",
       "</style>\n",
       "<table border=\"1\" class=\"dataframe\">\n",
       "  <thead>\n",
       "    <tr style=\"text-align: right;\">\n",
       "      <th></th>\n",
       "      <th>trial_id</th>\n",
       "      <th>weight_id</th>\n",
       "      <th>slope</th>\n",
       "    </tr>\n",
       "  </thead>\n",
       "  <tbody>\n",
       "    <tr>\n",
       "      <th>0</th>\n",
       "      <td>1</td>\n",
       "      <td>1</td>\n",
       "      <td>0.910167</td>\n",
       "    </tr>\n",
       "    <tr>\n",
       "      <th>1</th>\n",
       "      <td>1</td>\n",
       "      <td>2</td>\n",
       "      <td>0.885939</td>\n",
       "    </tr>\n",
       "    <tr>\n",
       "      <th>2</th>\n",
       "      <td>1</td>\n",
       "      <td>3</td>\n",
       "      <td>0.877679</td>\n",
       "    </tr>\n",
       "    <tr>\n",
       "      <th>3</th>\n",
       "      <td>2</td>\n",
       "      <td>1</td>\n",
       "      <td>0.886642</td>\n",
       "    </tr>\n",
       "    <tr>\n",
       "      <th>4</th>\n",
       "      <td>2</td>\n",
       "      <td>2</td>\n",
       "      <td>0.861454</td>\n",
       "    </tr>\n",
       "    <tr>\n",
       "      <th>5</th>\n",
       "      <td>2</td>\n",
       "      <td>3</td>\n",
       "      <td>0.858908</td>\n",
       "    </tr>\n",
       "    <tr>\n",
       "      <th>6</th>\n",
       "      <td>3</td>\n",
       "      <td>1</td>\n",
       "      <td>0.953220</td>\n",
       "    </tr>\n",
       "    <tr>\n",
       "      <th>7</th>\n",
       "      <td>3</td>\n",
       "      <td>2</td>\n",
       "      <td>0.920638</td>\n",
       "    </tr>\n",
       "    <tr>\n",
       "      <th>8</th>\n",
       "      <td>3</td>\n",
       "      <td>3</td>\n",
       "      <td>0.912951</td>\n",
       "    </tr>\n",
       "    <tr>\n",
       "      <th>9</th>\n",
       "      <td>3</td>\n",
       "      <td>4</td>\n",
       "      <td>0.900213</td>\n",
       "    </tr>\n",
       "    <tr>\n",
       "      <th>10</th>\n",
       "      <td>3</td>\n",
       "      <td>5</td>\n",
       "      <td>0.898262</td>\n",
       "    </tr>\n",
       "    <tr>\n",
       "      <th>11</th>\n",
       "      <td>3</td>\n",
       "      <td>6</td>\n",
       "      <td>0.895198</td>\n",
       "    </tr>\n",
       "    <tr>\n",
       "      <th>12</th>\n",
       "      <td>4</td>\n",
       "      <td>1</td>\n",
       "      <td>0.882651</td>\n",
       "    </tr>\n",
       "    <tr>\n",
       "      <th>13</th>\n",
       "      <td>4</td>\n",
       "      <td>2</td>\n",
       "      <td>0.865805</td>\n",
       "    </tr>\n",
       "    <tr>\n",
       "      <th>14</th>\n",
       "      <td>4</td>\n",
       "      <td>3</td>\n",
       "      <td>0.857557</td>\n",
       "    </tr>\n",
       "    <tr>\n",
       "      <th>15</th>\n",
       "      <td>4</td>\n",
       "      <td>4</td>\n",
       "      <td>0.857500</td>\n",
       "    </tr>\n",
       "    <tr>\n",
       "      <th>16</th>\n",
       "      <td>4</td>\n",
       "      <td>5</td>\n",
       "      <td>0.852782</td>\n",
       "    </tr>\n",
       "    <tr>\n",
       "      <th>17</th>\n",
       "      <td>4</td>\n",
       "      <td>6</td>\n",
       "      <td>0.852199</td>\n",
       "    </tr>\n",
       "  </tbody>\n",
       "</table>\n",
       "</div>"
      ],
      "text/plain": [
       "    trial_id  weight_id     slope\n",
       "0          1          1  0.910167\n",
       "1          1          2  0.885939\n",
       "2          1          3  0.877679\n",
       "3          2          1  0.886642\n",
       "4          2          2  0.861454\n",
       "5          2          3  0.858908\n",
       "6          3          1  0.953220\n",
       "7          3          2  0.920638\n",
       "8          3          3  0.912951\n",
       "9          3          4  0.900213\n",
       "10         3          5  0.898262\n",
       "11         3          6  0.895198\n",
       "12         4          1  0.882651\n",
       "13         4          2  0.865805\n",
       "14         4          3  0.857557\n",
       "15         4          4  0.857500\n",
       "16         4          5  0.852782\n",
       "17         4          6  0.852199"
      ]
     },
     "execution_count": 9,
     "metadata": {},
     "output_type": "execute_result"
    }
   ],
   "source": [
    "res = []\n",
    "\n",
    "for (trial_id, weight_id), df in measurements.groupby(['trial_id', 'weight_id']):\n",
    "    # Get plot data\n",
    "    xs = np.array(df['brix_percent'] / 100.)\n",
    "    ys = np.array(df['tds'])\n",
    "    \n",
    "    # Get linear regression\n",
    "    m, _, _, _ = np.linalg.lstsq(xs[:,np.newaxis], ys, rcond=None)\n",
    "    \n",
    "    # Save regression\n",
    "    res.append((trial_id, weight_id, m[0]))\n",
    "\n",
    "slopes = pd.DataFrame(res, columns=['trial_id', 'weight_id', 'slope'])\n",
    "slopes"
   ]
  },
  {
   "cell_type": "markdown",
   "id": "c779261a",
   "metadata": {},
   "source": [
    "Again we can plot this:"
   ]
  },
  {
   "cell_type": "code",
   "execution_count": 10,
   "id": "1e2756a8",
   "metadata": {},
   "outputs": [
    {
     "data": {
      "image/png": "[encoded data removed]",
      "text/plain": [
       "<Figure size 1080x648 with 1 Axes>"
      ]
     },
     "metadata": {
      "needs_background": "light"
     },
     "output_type": "display_data"
    }
   ],
   "source": [
    "# Create the figure\n",
    "fig, ax = plt.subplots(figsize=(15,9))\n",
    "#fig.patch.set_facecolor('white')\n",
    "\n",
    "# Label the axes\n",
    "ax.set_xlabel('Brix')\n",
    "ax.set_ylabel('Total Solids')\n",
    "\n",
    "# Plot labels\n",
    "labels = ['Experiment #2, no filter', 'Experiment #2, Chemex filter']\n",
    "\n",
    "for i, trial_id in enumerate([3, 4]):\n",
    "    one_trial = measurements[measurements['trial_id'] == trial_id]\n",
    "    weight_id = one_trial['weight_id'].max()\n",
    "    df = one_trial[one_trial['weight_id'] == weight_id]\n",
    "\n",
    "    # Get plot data\n",
    "    xs = np.array(df['brix_percent'] / 100.)\n",
    "    ys = np.array(df['tds'])\n",
    "\n",
    "    # Get trial description\n",
    "    label = labels[i]\n",
    "\n",
    "    # Plot the data\n",
    "    p = ax.plot(xs, ys, label=label, marker='o', linestyle='None', color=f'C{i}')\n",
    "\n",
    "# Add a legend to the plot\n",
    "ax.legend()\n",
    "\n",
    "for i, trial_id in enumerate([3, 4]):\n",
    "    one_trial = measurements[measurements['trial_id'] == trial_id]\n",
    "    weight_id = one_trial['weight_id'].max()\n",
    "\n",
    "    # Plot best fit\n",
    "    xs = np.linspace(0., 0.19, 2)\n",
    "    m = slopes['slope'][(slopes['weight_id'] == weight_id) & (slopes['trial_id'] == trial_id)].values[0]\n",
    "    ys = m * xs\n",
    "    color = f'C{i}'\n",
    "    ax.plot(xs, ys, color=color)\n",
    "    \n",
    "    # Get slope in plot\n",
    "    p1 = ax.transData.transform_point((xs[0], ys[0]))\n",
    "    p2 = ax.transData.transform_point((xs[1], ys[1]))\n",
    "    dy = (p2[1] - p1[1])\n",
    "    dx = (p2[0] - p1[0])\n",
    "    rotn = np.degrees(np.arctan2(dy, dx))\n",
    "    \n",
    "    # Get label position\n",
    "    xylabel = ((xs[0]+xs[1])/2, (ys[0]+ys[1])/2)\n",
    "    if trial_id == 3: xytext = (-14, 20)\n",
    "    else: xytext = (14, -20)\n",
    "    \n",
    "    # Get label\n",
    "    label = r'$\\mathrm{TS} = ' + '{slope:.2f}'.format(slope=m) + r'\\times \\mathrm{Brix}$'\n",
    "    \n",
    "    # Draw annotation\n",
    "    ax.annotate(label, xy=xylabel, xytext=xytext, textcoords='offset points', ha='center', va='center', rotation=rotn, color=color, fontsize=16)\n",
    "    \n",
    "# Get limits\n",
    "xlim = ax.get_xlim()\n",
    "ylim = ax.get_ylim()"
   ]
  },
  {
   "cell_type": "markdown",
   "id": "8dd42de1",
   "metadata": {},
   "source": [
    "# Measurement error\n",
    "\n",
    "Total dissolved solids (TDS) is given by the following equation:\n",
    "\n",
    "$$\n",
    "\\begin{gathered}\n",
    "\\text{TDS} = \\frac{m_\\text{solid}}{m_\\text{dissolved}} = \\frac{m_\\text{dry} - m_\\text{empty}}{m_\\text{full} - m_\\text{empty}}\n",
    "\\end{gathered}\n",
    "$$\n",
    "\n",
    "Then we have:\n",
    "\n",
    "$$\n",
    "\\begin{gathered}\n",
    "\\frac{\\partial \\, \\text{TDS}}{\\partial m_\\text{dry}} = \\frac{\\partial}{\\partial m_\\text{dry}} \\frac{m_\\text{dry} - m_\\text{empty}}{m_\\text{full} - m_\\text{empty}} = \\frac{1}{m_\\text{full} - m_\\text{empty}} \\\\\n",
    "\\end{gathered}\n",
    "$$\n",
    "\n",
    "and\n",
    "\n",
    "$$\n",
    "\\begin{aligned}\n",
    "\\frac{\\partial \\, \\text{TDS}}{\\partial m_\\text{full}} &= \\frac{\\partial}{\\partial m_\\text{full}} \\frac{m_\\text{dry} - m_\\text{empty}}{m_\\text{full} - m_\\text{empty}} \\\\\n",
    "&= \\left[ \\frac{\\partial}{\\partial m_\\text{full}} (m_\\text{dry} - m_\\text{empty}) \\right] \\left[ \\frac{1}{m_\\text{full} - m_\\text{empty}} \\right] + (m_\\text{dry} - m_\\text{empty}) \\frac{\\partial}{\\partial m_\\text{full}} \\frac{1}{(m_\\text{full} - m_\\text{empty})} \\\\\n",
    "&= -\\frac{m_\\text{dry} - m_\\text{empty}}{(m_\\text{full} - m_\\text{empty})^2}\n",
    "\\end{aligned}\n",
    "$$\n",
    "\n",
    "and\n",
    "\n",
    "$$\n",
    "\\begin{aligned}\n",
    "\\frac{\\partial \\, \\text{TDS}}{\\partial m_\\text{empty}} &= \\frac{\\partial}{\\partial m_\\text{empty}} \\frac{m_\\text{dry} - m_\\text{empty}}{m_\\text{full} - m_\\text{empty}} \\\\\n",
    "&= \\left[ \\frac{\\partial}{\\partial m_\\text{empty}} (m_\\text{dry} - m_\\text{empty}) \\right] \\left[ \\frac{1}{m_\\text{full} - m_\\text{empty}} \\right] + (m_\\text{dry} - m_\\text{empty}) \\frac{\\partial}{\\partial m_\\text{empty}} \\frac{1}{(m_\\text{full} - m_\\text{empty})} \\\\\n",
    "&= -\\frac{1}{m_\\text{full} - m_\\text{empty}} + \\frac{m_\\text{dry} - m_\\text{empty}}{(m_\\text{full} - m_\\text{empty})^2} \\\\\n",
    "&= -\\frac{m_\\text{full} - m_\\text{empty}}{(m_\\text{full} - m_\\text{empty})^2} + \\frac{m_\\text{dry} - m_\\text{empty}}{(m_\\text{full} - m_\\text{empty})^2} \\\\\n",
    "&= -\\frac{m_\\text{full} - m_\\text{dry}}{(m_\\text{full} - m_\\text{empty})^2} \\\\\n",
    "\\end{aligned}\n",
    "$$\n",
    "\n",
    "Then:\n",
    "\n",
    "$$\n",
    "\\begin{aligned}\n",
    "\\sigma^2_\\text{TDS} &= \\left( \\frac{\\partial \\, \\text{TDS}}{\\partial m_\\text{dry}} \\sigma_m \\right)^2 +  \\left( \\frac{\\partial \\, \\text{TDS}}{\\partial m_\\text{full}} \\sigma_m \\right)^2 +  \\left( \\frac{\\partial \\, \\text{TDS}}{\\partial m_\\text{empty}} \\sigma_m \\right)^2 \\\\\n",
    "&= \\left( \\frac{1}{m_\\text{full} - m_\\text{empty}} \\sigma_m \\right)^2 +  \\left( -\\frac{m_\\text{dry} - m_\\text{empty}}{(m_\\text{full} - m_\\text{empty})^2} \\sigma_m \\right)^2 +  \\left( -\\frac{m_\\text{full} - m_\\text{dry}}{(m_\\text{full} - m_\\text{empty})^2} \\sigma_m \\right)^2 \\\\\n",
    "&= \\left[ 1 +  \\left( \\frac{m_\\text{dry} - m_\\text{empty}}{m_\\text{full} - m_\\text{empty}} \\right)^2 +  \\left( \\frac{m_\\text{full} - m_\\text{dry}}{m_\\text{full} - m_\\text{empty}} \\right)^2 \\right] \\left( \\frac{\\sigma_m}{m_\\text{full} - m_\\text{empty}} \\right)^2 \\\\\n",
    "&= \\left[ 1 +  \\left( \\frac{m_\\text{solid}}{m_\\text{dissolved}} \\right)^2 +  \\left(1 - \\frac{m_\\text{solid}}{m_\\text{dissolved}} \\right)^2 \\right] \\left( \\frac{\\sigma_m}{m_\\text{dissolved}} \\right)^2\n",
    "\\end{aligned}\n",
    "$$"
   ]
  },
  {
   "cell_type": "markdown",
   "id": "80359e44",
   "metadata": {},
   "source": [
    "Let's calculate this for each sample."
   ]
  },
  {
   "cell_type": "code",
   "execution_count": 11,
   "id": "6d0e6edb",
   "metadata": {},
   "outputs": [
    {
     "data": {
      "text/html": [
       "<div>\n",
       "<style scoped>\n",
       "    .dataframe tbody tr th:only-of-type {\n",
       "        vertical-align: middle;\n",
       "    }\n",
       "\n",
       "    .dataframe tbody tr th {\n",
       "        vertical-align: top;\n",
       "    }\n",
       "\n",
       "    .dataframe thead th {\n",
       "        text-align: right;\n",
       "    }\n",
       "</style>\n",
       "<table border=\"1\" class=\"dataframe\">\n",
       "  <thead>\n",
       "    <tr style=\"text-align: right;\">\n",
       "      <th></th>\n",
       "      <th>trial_id</th>\n",
       "      <th>sample_id</th>\n",
       "      <th>weight_empty_boat</th>\n",
       "      <th>brix_percent</th>\n",
       "      <th>weight_boat_plus_liquid</th>\n",
       "      <th>notes</th>\n",
       "      <th>weight_id</th>\n",
       "      <th>dry_weight</th>\n",
       "      <th>weight_dissolved</th>\n",
       "      <th>weight_solid</th>\n",
       "      <th>tds</th>\n",
       "      <th>s_tds</th>\n",
       "    </tr>\n",
       "  </thead>\n",
       "  <tbody>\n",
       "    <tr>\n",
       "      <th>289</th>\n",
       "      <td>4</td>\n",
       "      <td>7</td>\n",
       "      <td>0.438</td>\n",
       "      <td>2.8</td>\n",
       "      <td>3.493</td>\n",
       "      <td>NaN</td>\n",
       "      <td>6</td>\n",
       "      <td>0.510</td>\n",
       "      <td>3.055</td>\n",
       "      <td>0.072</td>\n",
       "      <td>0.023568</td>\n",
       "      <td>0.000915</td>\n",
       "    </tr>\n",
       "    <tr>\n",
       "      <th>290</th>\n",
       "      <td>4</td>\n",
       "      <td>8</td>\n",
       "      <td>0.435</td>\n",
       "      <td>2.0</td>\n",
       "      <td>3.584</td>\n",
       "      <td>NaN</td>\n",
       "      <td>6</td>\n",
       "      <td>0.491</td>\n",
       "      <td>3.149</td>\n",
       "      <td>0.056</td>\n",
       "      <td>0.017783</td>\n",
       "      <td>0.000890</td>\n",
       "    </tr>\n",
       "    <tr>\n",
       "      <th>291</th>\n",
       "      <td>4</td>\n",
       "      <td>9</td>\n",
       "      <td>0.433</td>\n",
       "      <td>1.5</td>\n",
       "      <td>3.488</td>\n",
       "      <td>NaN</td>\n",
       "      <td>6</td>\n",
       "      <td>0.473</td>\n",
       "      <td>3.055</td>\n",
       "      <td>0.040</td>\n",
       "      <td>0.013093</td>\n",
       "      <td>0.000920</td>\n",
       "    </tr>\n",
       "    <tr>\n",
       "      <th>292</th>\n",
       "      <td>4</td>\n",
       "      <td>10</td>\n",
       "      <td>0.435</td>\n",
       "      <td>1.1</td>\n",
       "      <td>3.551</td>\n",
       "      <td>NaN</td>\n",
       "      <td>6</td>\n",
       "      <td>0.465</td>\n",
       "      <td>3.116</td>\n",
       "      <td>0.030</td>\n",
       "      <td>0.009628</td>\n",
       "      <td>0.000903</td>\n",
       "    </tr>\n",
       "    <tr>\n",
       "      <th>293</th>\n",
       "      <td>4</td>\n",
       "      <td>11</td>\n",
       "      <td>0.436</td>\n",
       "      <td>0.8</td>\n",
       "      <td>3.448</td>\n",
       "      <td>NaN</td>\n",
       "      <td>6</td>\n",
       "      <td>0.458</td>\n",
       "      <td>3.012</td>\n",
       "      <td>0.022</td>\n",
       "      <td>0.007304</td>\n",
       "      <td>0.000936</td>\n",
       "    </tr>\n",
       "  </tbody>\n",
       "</table>\n",
       "</div>"
      ],
      "text/plain": [
       "     trial_id  sample_id  weight_empty_boat  brix_percent  \\\n",
       "289         4          7              0.438           2.8   \n",
       "290         4          8              0.435           2.0   \n",
       "291         4          9              0.433           1.5   \n",
       "292         4         10              0.435           1.1   \n",
       "293         4         11              0.436           0.8   \n",
       "\n",
       "     weight_boat_plus_liquid notes  weight_id  dry_weight  weight_dissolved  \\\n",
       "289                    3.493   NaN          6       0.510             3.055   \n",
       "290                    3.584   NaN          6       0.491             3.149   \n",
       "291                    3.488   NaN          6       0.473             3.055   \n",
       "292                    3.551   NaN          6       0.465             3.116   \n",
       "293                    3.448   NaN          6       0.458             3.012   \n",
       "\n",
       "     weight_solid       tds     s_tds  \n",
       "289         0.072  0.023568  0.000915  \n",
       "290         0.056  0.017783  0.000890  \n",
       "291         0.040  0.013093  0.000920  \n",
       "292         0.030  0.009628  0.000903  \n",
       "293         0.022  0.007304  0.000936  "
      ]
     },
     "execution_count": 11,
     "metadata": {},
     "output_type": "execute_result"
    }
   ],
   "source": [
    "s_brix = 0.002\n",
    "s_m = 0.002\n",
    "measurements['s_tds'] = np.sqrt((1 + (measurements['weight_solid'] / measurements['weight_dissolved'])**2 + (1 - measurements['weight_solid'] / measurements['weight_dissolved'])**2)) * (s_m / measurements['weight_dissolved'])\n",
    "measurements.tail()"
   ]
  },
  {
   "cell_type": "markdown",
   "id": "a5d8027d",
   "metadata": {},
   "source": [
    "Now we can plot the results with error bars."
   ]
  },
  {
   "cell_type": "code",
   "execution_count": 12,
   "id": "6945335a",
   "metadata": {},
   "outputs": [
    {
     "data": {
      "text/plain": [
       "<matplotlib.legend.Legend at 0x273674b1b20>"
      ]
     },
     "execution_count": 12,
     "metadata": {},
     "output_type": "execute_result"
    },
    {
     "data": {
      "image/png": "[encoded data removed]",
      "text/plain": [
       "<Figure size 1080x648 with 1 Axes>"
      ]
     },
     "metadata": {
      "needs_background": "light"
     },
     "output_type": "display_data"
    }
   ],
   "source": [
    "# Create the figure\n",
    "fig, ax = plt.subplots(figsize=(15,9))\n",
    "#fig.patch.set_facecolor('white')\n",
    "\n",
    "# Label the axes\n",
    "ax.set_xlabel('Brix')\n",
    "ax.set_ylabel('Total Solids')\n",
    "\n",
    "# Plot labels\n",
    "labels = ['Experiment #2, Chemex filter']\n",
    "\n",
    "for i, trial_id in enumerate([4]):\n",
    "    one_trial = measurements[measurements['trial_id'] == trial_id]\n",
    "    weight_id = one_trial['weight_id'].max()\n",
    "    df = one_trial[one_trial['weight_id'] == weight_id]\n",
    "\n",
    "    # Get plot data\n",
    "    xs = np.array(df['brix_percent'] / 100.)\n",
    "    ys = np.array(df['tds'])\n",
    "\n",
    "    # Get trial description\n",
    "    label = labels[i]\n",
    "\n",
    "    # Plot the data\n",
    "    p = ax.plot(xs, ys, label=label, marker='o', linestyle='None', color=f'C1')\n",
    "    ax.errorbar(xs, ys, xerr=s_brix, yerr=df['s_tds'], linestyle='None', capsize=5, color=p[0].get_color())\n",
    "\n",
    "    # Plot best fit\n",
    "    xs = np.linspace(0., 0.19, 2)\n",
    "    m = slopes['slope'][(slopes['weight_id'] == weight_id) & (slopes['trial_id'] == trial_id)].values[0]\n",
    "    ys = m * xs\n",
    "    ax.plot(xs, ys, color=p[0].get_color())\n",
    "\n",
    "# Add a legend to the plot\n",
    "ax.legend()"
   ]
  },
  {
   "cell_type": "markdown",
   "id": "9c0d9277",
   "metadata": {},
   "source": [
    "We can also plot the residuals:"
   ]
  },
  {
   "cell_type": "code",
   "execution_count": 13,
   "id": "33643faa",
   "metadata": {},
   "outputs": [
    {
     "data": {
      "text/plain": [
       "<matplotlib.legend.Legend at 0x27367510760>"
      ]
     },
     "execution_count": 13,
     "metadata": {},
     "output_type": "execute_result"
    },
    {
     "data": {
      "image/png": "[encoded data removed]",
      "text/plain": [
       "<Figure size 1080x648 with 1 Axes>"
      ]
     },
     "metadata": {
      "needs_background": "light"
     },
     "output_type": "display_data"
    }
   ],
   "source": [
    "# Create the figure\n",
    "fig, ax = plt.subplots(figsize=(15,9))\n",
    "#fig.patch.set_facecolor('white')\n",
    "\n",
    "# Label the axes\n",
    "ax.set_xlabel('Brix')\n",
    "ax.set_ylabel('Total Solids (Residual)')\n",
    "\n",
    "# Plot labels\n",
    "labels = ['Experiment #2, Chemex filter']\n",
    "\n",
    "for i, trial_id in enumerate([4]):\n",
    "    one_trial = measurements[measurements['trial_id'] == trial_id]\n",
    "    weight_id = one_trial['weight_id'].max()\n",
    "    df = one_trial[one_trial['weight_id'] == weight_id]\n",
    "\n",
    "    # Get plot data\n",
    "    xs = np.array(df['brix_percent'] / 100.)\n",
    "    ys = np.array(df['tds'])\n",
    "\n",
    "    # Get best fit\n",
    "    m = slopes['slope'][(slopes['weight_id'] == weight_id) & (slopes['trial_id'] == trial_id)].values[0]\n",
    "    ys_fit = m * xs\n",
    "\n",
    "    # Plot residuals\n",
    "    ax.scatter(xs, ys - ys_fit, color='C1', label=labels[i])\n",
    "\n",
    "# Make plot symmetrical\n",
    "yrange = np.max(np.abs(ax.get_ylim()))\n",
    "ax.set_ylim((-yrange, yrange))\n",
    "\n",
    "# Draw horizontal line at y = 0\n",
    "plt.axhline(y=0., color='k', lw=1)\n",
    "\n",
    "# Add a legend to the plot\n",
    "ax.legend()"
   ]
  },
  {
   "cell_type": "markdown",
   "id": "87cb1b15",
   "metadata": {},
   "source": [
    "# Maximum likelihood\n",
    "\n",
    "Next, we're going to fit the model to our data by maximizing the likelihood of the data given a particular set of model parameters. First, we assign a zero-based index to each of our trials."
   ]
  },
  {
   "cell_type": "code",
   "execution_count": 14,
   "id": "f5aedeb1",
   "metadata": {},
   "outputs": [
    {
     "data": {
      "text/html": [
       "<div>\n",
       "<style scoped>\n",
       "    .dataframe tbody tr th:only-of-type {\n",
       "        vertical-align: middle;\n",
       "    }\n",
       "\n",
       "    .dataframe tbody tr th {\n",
       "        vertical-align: top;\n",
       "    }\n",
       "\n",
       "    .dataframe thead th {\n",
       "        text-align: right;\n",
       "    }\n",
       "</style>\n",
       "<table border=\"1\" class=\"dataframe\">\n",
       "  <thead>\n",
       "    <tr style=\"text-align: right;\">\n",
       "      <th></th>\n",
       "      <th>trial_id</th>\n",
       "      <th>sample_id</th>\n",
       "      <th>weight_empty_boat</th>\n",
       "      <th>brix_percent</th>\n",
       "      <th>weight_boat_plus_liquid</th>\n",
       "      <th>notes</th>\n",
       "      <th>weight_id</th>\n",
       "      <th>dry_weight</th>\n",
       "      <th>weight_dissolved</th>\n",
       "      <th>weight_solid</th>\n",
       "      <th>tds</th>\n",
       "      <th>s_tds</th>\n",
       "      <th>config_id</th>\n",
       "    </tr>\n",
       "  </thead>\n",
       "  <tbody>\n",
       "    <tr>\n",
       "      <th>289</th>\n",
       "      <td>4</td>\n",
       "      <td>7</td>\n",
       "      <td>0.438</td>\n",
       "      <td>2.8</td>\n",
       "      <td>3.493</td>\n",
       "      <td>NaN</td>\n",
       "      <td>6</td>\n",
       "      <td>0.510</td>\n",
       "      <td>3.055</td>\n",
       "      <td>0.072</td>\n",
       "      <td>0.023568</td>\n",
       "      <td>0.000915</td>\n",
       "      <td>3</td>\n",
       "    </tr>\n",
       "    <tr>\n",
       "      <th>290</th>\n",
       "      <td>4</td>\n",
       "      <td>8</td>\n",
       "      <td>0.435</td>\n",
       "      <td>2.0</td>\n",
       "      <td>3.584</td>\n",
       "      <td>NaN</td>\n",
       "      <td>6</td>\n",
       "      <td>0.491</td>\n",
       "      <td>3.149</td>\n",
       "      <td>0.056</td>\n",
       "      <td>0.017783</td>\n",
       "      <td>0.000890</td>\n",
       "      <td>3</td>\n",
       "    </tr>\n",
       "    <tr>\n",
       "      <th>291</th>\n",
       "      <td>4</td>\n",
       "      <td>9</td>\n",
       "      <td>0.433</td>\n",
       "      <td>1.5</td>\n",
       "      <td>3.488</td>\n",
       "      <td>NaN</td>\n",
       "      <td>6</td>\n",
       "      <td>0.473</td>\n",
       "      <td>3.055</td>\n",
       "      <td>0.040</td>\n",
       "      <td>0.013093</td>\n",
       "      <td>0.000920</td>\n",
       "      <td>3</td>\n",
       "    </tr>\n",
       "    <tr>\n",
       "      <th>292</th>\n",
       "      <td>4</td>\n",
       "      <td>10</td>\n",
       "      <td>0.435</td>\n",
       "      <td>1.1</td>\n",
       "      <td>3.551</td>\n",
       "      <td>NaN</td>\n",
       "      <td>6</td>\n",
       "      <td>0.465</td>\n",
       "      <td>3.116</td>\n",
       "      <td>0.030</td>\n",
       "      <td>0.009628</td>\n",
       "      <td>0.000903</td>\n",
       "      <td>3</td>\n",
       "    </tr>\n",
       "    <tr>\n",
       "      <th>293</th>\n",
       "      <td>4</td>\n",
       "      <td>11</td>\n",
       "      <td>0.436</td>\n",
       "      <td>0.8</td>\n",
       "      <td>3.448</td>\n",
       "      <td>NaN</td>\n",
       "      <td>6</td>\n",
       "      <td>0.458</td>\n",
       "      <td>3.012</td>\n",
       "      <td>0.022</td>\n",
       "      <td>0.007304</td>\n",
       "      <td>0.000936</td>\n",
       "      <td>3</td>\n",
       "    </tr>\n",
       "  </tbody>\n",
       "</table>\n",
       "</div>"
      ],
      "text/plain": [
       "     trial_id  sample_id  weight_empty_boat  brix_percent  \\\n",
       "289         4          7              0.438           2.8   \n",
       "290         4          8              0.435           2.0   \n",
       "291         4          9              0.433           1.5   \n",
       "292         4         10              0.435           1.1   \n",
       "293         4         11              0.436           0.8   \n",
       "\n",
       "     weight_boat_plus_liquid notes  weight_id  dry_weight  weight_dissolved  \\\n",
       "289                    3.493   NaN          6       0.510             3.055   \n",
       "290                    3.584   NaN          6       0.491             3.149   \n",
       "291                    3.488   NaN          6       0.473             3.055   \n",
       "292                    3.551   NaN          6       0.465             3.116   \n",
       "293                    3.448   NaN          6       0.458             3.012   \n",
       "\n",
       "     weight_solid       tds     s_tds  config_id  \n",
       "289         0.072  0.023568  0.000915          3  \n",
       "290         0.056  0.017783  0.000890          3  \n",
       "291         0.040  0.013093  0.000920          3  \n",
       "292         0.030  0.009628  0.000903          3  \n",
       "293         0.022  0.007304  0.000936          3  "
      ]
     },
     "execution_count": 14,
     "metadata": {},
     "output_type": "execute_result"
    }
   ],
   "source": [
    "# Assign config id to each trial/measurement\n",
    "trials['config_id'] = range(len(trials))\n",
    "measurements = pd.merge(measurements, trials['config_id'], how='left', left_on='trial_id', right_index=True)\n",
    "measurements.tail()"
   ]
  },
  {
   "cell_type": "markdown",
   "id": "712fde5d",
   "metadata": {},
   "source": [
    "Then we convert our tables into arrays."
   ]
  },
  {
   "cell_type": "code",
   "execution_count": 15,
   "id": "1b431005",
   "metadata": {},
   "outputs": [
    {
     "data": {
      "text/plain": [
       "array([ 0,  0,  0,  0,  0,  0,  0,  0,  0,  0,  3,  3,  3,  3,  3,  3,  3,\n",
       "        3,  3,  3,  3,  6,  6,  6,  6,  6,  6,  6,  6,  6,  6, 12, 12, 12,\n",
       "       12, 12, 12, 12, 12, 12, 12, 12,  1,  1,  1,  1,  1,  1,  1,  1,  1,\n",
       "        1,  4,  4,  4,  4,  4,  4,  4,  4,  4,  4,  4,  7,  7,  7,  7,  7,\n",
       "        7,  7,  7,  7,  7, 13, 13, 13, 13, 13, 13, 13, 13, 13, 13, 13,  2,\n",
       "        2,  2,  2,  2,  2,  2,  2,  2,  2,  5,  5,  5,  5,  5,  5,  5,  5,\n",
       "        5,  5,  5,  8,  8,  8,  8,  8,  8,  8,  8,  8,  8, 14, 14, 14, 14,\n",
       "       14, 14, 14, 14, 14, 14, 14,  9,  9,  9,  9,  9,  9,  9,  9,  9,  9,\n",
       "       15, 15, 15, 15, 15, 15, 15, 15, 15, 15, 15, 10, 10, 10, 10, 10, 10,\n",
       "       10, 10, 10, 10, 16, 16, 16, 16, 16, 16, 16, 16, 16, 16, 16, 11, 11,\n",
       "       11, 11, 11, 11, 11, 11, 11, 11, 17, 17, 17, 17, 17, 17, 17, 17, 17,\n",
       "       17, 17], dtype=int64)"
      ]
     },
     "execution_count": 15,
     "metadata": {},
     "output_type": "execute_result"
    }
   ],
   "source": [
    "# Get experiment data\n",
    "expt_brix = measurements['brix_percent'].values / 100.\n",
    "expt_tds = measurements['tds'].values\n",
    "sigma_tds = measurements['s_tds'].values\n",
    "config_id = measurements.groupby(['trial_id', 'weight_id']).ngroup().values\n",
    "N = int(config_id.max() + 1)\n",
    "config_id"
   ]
  },
  {
   "cell_type": "markdown",
   "id": "d7a308bd",
   "metadata": {},
   "source": [
    "Now we'll define the probability distribution for a single measurement."
   ]
  },
  {
   "cell_type": "code",
   "execution_count": 16,
   "id": "d8f4a83e",
   "metadata": {},
   "outputs": [],
   "source": [
    "def get_pdf(X, Y, brix, tds, s_brix, s_tds):\n",
    "    return norm.pdf(X, brix, s_brix) * norm.pdf(Y, tds, s_tds)"
   ]
  },
  {
   "cell_type": "markdown",
   "id": "0bf59510",
   "metadata": {},
   "source": [
    "Next, we integrate the individual distributions along the model curve to get the individual likelihood for that curve."
   ]
  },
  {
   "cell_type": "code",
   "execution_count": 17,
   "id": "21b7ddc8",
   "metadata": {},
   "outputs": [],
   "source": [
    "def single_likelihood(theta, brix, tds, s_brix, s_tds, config_id_i):\n",
    "    m = theta[config_id_i]\n",
    "    xs = np.linspace(brix - s_brix * 10., brix + s_brix * 10., 201)\n",
    "    ys = m * xs\n",
    "    zs = get_pdf(xs, ys, brix, tds, s_brix, s_tds)\n",
    "    zs = (zs[:-1] + zs[1:]) / 2.\n",
    "    return sum(zs) * (xs[1] - xs[0])"
   ]
  },
  {
   "cell_type": "markdown",
   "id": "bd8f787a",
   "metadata": {},
   "source": [
    "To get the likelihood for a set of measurements, we multiply the likelihoods for the individual measurements. Equivalently, we can get the log-likelihood for the set of measurements by adding up the log-likelihoods of the individual measurements."
   ]
  },
  {
   "cell_type": "code",
   "execution_count": 18,
   "id": "0646b048",
   "metadata": {},
   "outputs": [],
   "source": [
    "def log_likelihood(theta, brix, tds, s_brix, s_tds, config_id):\n",
    "    likelihoods = [single_likelihood(theta, brix_i, tds_i, s_brix, s_tds_i, config_id_i) \n",
    "                   for brix_i, tds_i, s_tds_i, config_id_i in zip(brix, tds, sigma_tds, config_id)]\n",
    "    if np.all(np.array(likelihoods) > 0):\n",
    "        return sum(np.log(likelihoods))\n",
    "    else:\n",
    "        return -np.inf"
   ]
  },
  {
   "cell_type": "markdown",
   "id": "37ed497e",
   "metadata": {},
   "source": [
    "Now we can maximize likelihood to find the best fit curve for each configuration."
   ]
  },
  {
   "cell_type": "code",
   "execution_count": 19,
   "id": "67ff61e7",
   "metadata": {},
   "outputs": [
    {
     "data": {
      "text/plain": [
       "array([0.91000168, 0.88550998, 0.87724535, 0.8861143 , 0.86103073,\n",
       "       0.85832997, 0.95329822, 0.92046412, 0.91274799, 0.89998309,\n",
       "       0.89806299, 0.89503478, 0.88268681, 0.86589815, 0.85740755,\n",
       "       0.85710047, 0.85255574, 0.85184139])"
      ]
     },
     "execution_count": 19,
     "metadata": {},
     "output_type": "execute_result"
    }
   ],
   "source": [
    "nll = lambda *args: -log_likelihood(*args)\n",
    "\n",
    "# Initial values\n",
    "initial = np.array([0.85] * N)\n",
    "\n",
    "# Maximize likelihood\n",
    "soln = minimize(nll, initial, args=(expt_brix, expt_tds, s_brix, sigma_tds, config_id), \n",
    "                method='Nelder-Mead')\n",
    "\n",
    "fit_theta = soln.x\n",
    "fit_theta"
   ]
  },
  {
   "cell_type": "markdown",
   "id": "8537eb5e",
   "metadata": {},
   "source": [
    "Let's plot this."
   ]
  },
  {
   "cell_type": "code",
   "execution_count": 20,
   "id": "a2af668d",
   "metadata": {},
   "outputs": [
    {
     "data": {
      "text/plain": [
       "<matplotlib.legend.Legend at 0x27368c7ba00>"
      ]
     },
     "execution_count": 20,
     "metadata": {},
     "output_type": "execute_result"
    },
    {
     "data": {
      "image/png": "[encoded data removed]",
      "text/plain": [
       "<Figure size 1080x648 with 1 Axes>"
      ]
     },
     "metadata": {
      "needs_background": "light"
     },
     "output_type": "display_data"
    }
   ],
   "source": [
    "# Create the figure\n",
    "fig, ax = plt.subplots(figsize=(15,9))\n",
    "#fig.patch.set_facecolor('white')\n",
    "\n",
    "# Label the axes\n",
    "ax.set_xlabel('Weight number')\n",
    "ax.set_ylabel('TS / Brix')\n",
    "\n",
    "for i in range(N):\n",
    "    trial_id = measurements[config_id == i]['trial_id'].values[0]\n",
    "    weight_id = measurements[config_id == i]['weight_id'].values[0]\n",
    "    \n",
    "    color = trials['config_id'][trial_id]\n",
    "    \n",
    "    if weight_id == 1: label = trials['description'][trial_id]\n",
    "    else:              label = None\n",
    "\n",
    "    ax.scatter([weight_id], [fit_theta[i]], marker='o', color=f'C{color}', label=label)\n",
    "    \n",
    "# Add a legend to the plot\n",
    "ax.legend()"
   ]
  },
  {
   "cell_type": "markdown",
   "id": "d262ebbc",
   "metadata": {},
   "source": [
    "# Markov chain Monte Carlo\n",
    "\n",
    "Now we set up Markov chain Monte Carlo. First we define the prior and posterior."
   ]
  },
  {
   "cell_type": "code",
   "execution_count": 21,
   "id": "e48683c7",
   "metadata": {},
   "outputs": [],
   "source": [
    "def log_prior(theta):\n",
    "    m_i = theta\n",
    "    if np.all(m_i >= 0):\n",
    "        return -np.sum(np.log(m_i))\n",
    "    else:\n",
    "        return -np.inf\n",
    "\n",
    "def log_posterior(theta, brix, tds, s_brix, s_tds, config_id):\n",
    "    lp = log_prior(theta)\n",
    "    ll = log_likelihood(theta, brix, tds, s_brix, s_tds, config_id)\n",
    "    if np.isfinite(lp) and np.isfinite(ll) :\n",
    "        return lp + ll\n",
    "    else:\n",
    "        return -np.inf"
   ]
  },
  {
   "cell_type": "markdown",
   "id": "4059cdf2",
   "metadata": {},
   "source": [
    "Now we set up the optimization parameters."
   ]
  },
  {
   "cell_type": "code",
   "execution_count": 22,
   "id": "308ea120",
   "metadata": {},
   "outputs": [],
   "source": [
    "ndim = 1  # number of parameters in the model\n",
    "nwalkers = 2 * ndim  # number of MCMC walkers\n",
    "nburn = 1000  # \"burn-in\" period to let chains stabilize\n",
    "nthin = 100 # thin by about half the autocorrelation time\n",
    "nsteps = 10000  # number of MCMC steps to take"
   ]
  },
  {
   "cell_type": "markdown",
   "id": "0d67d6df",
   "metadata": {},
   "source": [
    "And finally we sample the distribution using emcee."
   ]
  },
  {
   "cell_type": "code",
   "execution_count": 23,
   "id": "8178f143",
   "metadata": {},
   "outputs": [],
   "source": [
    "# Get filename for cached data\n",
    "filename = 'emcee/saved.csv'\n",
    "\n",
    "if os.path.exists(filename):\n",
    "    # Load samples from cache\n",
    "    flat_samples = np.loadtxt(filename, delimiter=',')\n",
    "else:\n",
    "    np.random.seed(42)\n",
    "\n",
    "    # Initialize saved samples\n",
    "    flat_samples = np.empty((int((nsteps - nburn) / nthin) * nwalkers, 0))\n",
    "\n",
    "    for i in range(N):\n",
    "        # Get data for this configuration\n",
    "        expt_brix_i = expt_brix[config_id == i]\n",
    "        expt_tds_i = expt_tds[config_id == i]\n",
    "        sigma_tds_i = sigma_tds[config_id == i]\n",
    "\n",
    "        # Iniitalize the walkers\n",
    "        starting_guesses = fit_theta[i:i+1] + [1e-4] * np.random.randn(nwalkers, ndim)\n",
    "\n",
    "        # Run sampler\n",
    "        sampler = emcee.EnsembleSampler(nwalkers, ndim, log_posterior, \n",
    "                                        args=[expt_brix_i, expt_tds_i, s_brix, sigma_tds_i, [0] * len(expt_brix_i)])\n",
    "        sampler.run_mcmc(starting_guesses, nsteps, progress=True)\n",
    "\n",
    "        # Display autocorrelation time\n",
    "        sampler.get_autocorr_time(quiet=True)\n",
    "\n",
    "        # Append samples\n",
    "        fs = sampler.get_chain(discard=nburn, thin=nthin, flat=True)\n",
    "        flat_samples = np.append(flat_samples, fs, axis=1)\n",
    "    \n",
    "    # Save samples\n",
    "    np.savetxt(filename, flat_samples, delimiter=',')"
   ]
  },
  {
   "cell_type": "markdown",
   "id": "c54a024f",
   "metadata": {},
   "source": [
    "First, let's get the fit parameters for each configuration."
   ]
  },
  {
   "cell_type": "code",
   "execution_count": 24,
   "id": "07cf9708",
   "metadata": {},
   "outputs": [
    {
     "name": "stdout",
     "output_type": "stream",
     "text": [
      "0: Rosso Two Wheel, 6.5 bar, grind 1.00, no filter, weight #1\n"
     ]
    },
    {
     "data": {
      "text/latex": [
       "$\\displaystyle \\mathrm{m} = 0.9099_{-0.0078}^{0.0079}$"
      ],
      "text/plain": [
       "<IPython.core.display.Math object>"
      ]
     },
     "metadata": {},
     "output_type": "display_data"
    },
    {
     "name": "stdout",
     "output_type": "stream",
     "text": [
      "1: Rosso Two Wheel, 6.5 bar, grind 1.00, no filter, weight #2\n"
     ]
    },
    {
     "data": {
      "text/latex": [
       "$\\displaystyle \\mathrm{m} = 0.8856_{-0.0068}^{0.0062}$"
      ],
      "text/plain": [
       "<IPython.core.display.Math object>"
      ]
     },
     "metadata": {},
     "output_type": "display_data"
    },
    {
     "name": "stdout",
     "output_type": "stream",
     "text": [
      "2: Rosso Two Wheel, 6.5 bar, grind 1.00, no filter, weight #3\n"
     ]
    },
    {
     "data": {
      "text/latex": [
       "$\\displaystyle \\mathrm{m} = 0.8777_{-0.0059}^{0.0069}$"
      ],
      "text/plain": [
       "<IPython.core.display.Math object>"
      ]
     },
     "metadata": {},
     "output_type": "display_data"
    },
    {
     "name": "stdout",
     "output_type": "stream",
     "text": [
      "3: Rosso Two Wheel, 6.5 bar, grind 1.00, Chemex filter after shot, weight #1\n"
     ]
    },
    {
     "data": {
      "text/latex": [
       "$\\displaystyle \\mathrm{m} = 0.8856_{-0.0066}^{0.0083}$"
      ],
      "text/plain": [
       "<IPython.core.display.Math object>"
      ]
     },
     "metadata": {},
     "output_type": "display_data"
    },
    {
     "name": "stdout",
     "output_type": "stream",
     "text": [
      "4: Rosso Two Wheel, 6.5 bar, grind 1.00, Chemex filter after shot, weight #2\n"
     ]
    },
    {
     "data": {
      "text/latex": [
       "$\\displaystyle \\mathrm{m} = 0.8607_{-0.0067}^{0.0080}$"
      ],
      "text/plain": [
       "<IPython.core.display.Math object>"
      ]
     },
     "metadata": {},
     "output_type": "display_data"
    },
    {
     "name": "stdout",
     "output_type": "stream",
     "text": [
      "5: Rosso Two Wheel, 6.5 bar, grind 1.00, Chemex filter after shot, weight #3\n"
     ]
    },
    {
     "data": {
      "text/latex": [
       "$\\displaystyle \\mathrm{m} = 0.8586_{-0.0065}^{0.0071}$"
      ],
      "text/plain": [
       "<IPython.core.display.Math object>"
      ]
     },
     "metadata": {},
     "output_type": "display_data"
    },
    {
     "name": "stdout",
     "output_type": "stream",
     "text": [
      "6: Rosso Two Wheel, 6.5 bar, grind 1.00, no filter, weight #1\n"
     ]
    },
    {
     "data": {
      "text/latex": [
       "$\\displaystyle \\mathrm{m} = 0.9538_{-0.0068}^{0.0070}$"
      ],
      "text/plain": [
       "<IPython.core.display.Math object>"
      ]
     },
     "metadata": {},
     "output_type": "display_data"
    },
    {
     "name": "stdout",
     "output_type": "stream",
     "text": [
      "7: Rosso Two Wheel, 6.5 bar, grind 1.00, no filter, weight #2\n"
     ]
    },
    {
     "data": {
      "text/latex": [
       "$\\displaystyle \\mathrm{m} = 0.9211_{-0.0076}^{0.0062}$"
      ],
      "text/plain": [
       "<IPython.core.display.Math object>"
      ]
     },
     "metadata": {},
     "output_type": "display_data"
    },
    {
     "name": "stdout",
     "output_type": "stream",
     "text": [
      "8: Rosso Two Wheel, 6.5 bar, grind 1.00, no filter, weight #3\n"
     ]
    },
    {
     "data": {
      "text/latex": [
       "$\\displaystyle \\mathrm{m} = 0.9125_{-0.0072}^{0.0072}$"
      ],
      "text/plain": [
       "<IPython.core.display.Math object>"
      ]
     },
     "metadata": {},
     "output_type": "display_data"
    },
    {
     "name": "stdout",
     "output_type": "stream",
     "text": [
      "9: Rosso Two Wheel, 6.5 bar, grind 1.00, no filter, weight #4\n"
     ]
    },
    {
     "data": {
      "text/latex": [
       "$\\displaystyle \\mathrm{m} = 0.9006_{-0.0075}^{0.0068}$"
      ],
      "text/plain": [
       "<IPython.core.display.Math object>"
      ]
     },
     "metadata": {},
     "output_type": "display_data"
    },
    {
     "name": "stdout",
     "output_type": "stream",
     "text": [
      "10: Rosso Two Wheel, 6.5 bar, grind 1.00, no filter, weight #5\n"
     ]
    },
    {
     "data": {
      "text/latex": [
       "$\\displaystyle \\mathrm{m} = 0.8979_{-0.0065}^{0.0070}$"
      ],
      "text/plain": [
       "<IPython.core.display.Math object>"
      ]
     },
     "metadata": {},
     "output_type": "display_data"
    },
    {
     "name": "stdout",
     "output_type": "stream",
     "text": [
      "11: Rosso Two Wheel, 6.5 bar, grind 1.00, no filter, weight #6\n"
     ]
    },
    {
     "data": {
      "text/latex": [
       "$\\displaystyle \\mathrm{m} = 0.8959_{-0.0073}^{0.0065}$"
      ],
      "text/plain": [
       "<IPython.core.display.Math object>"
      ]
     },
     "metadata": {},
     "output_type": "display_data"
    },
    {
     "name": "stdout",
     "output_type": "stream",
     "text": [
      "12: Rosso Two Wheel, 6.5 bar, grind 1.00, Chemex filter after shot, weight #1\n"
     ]
    },
    {
     "data": {
      "text/latex": [
       "$\\displaystyle \\mathrm{m} = 0.8816_{-0.0067}^{0.0088}$"
      ],
      "text/plain": [
       "<IPython.core.display.Math object>"
      ]
     },
     "metadata": {},
     "output_type": "display_data"
    },
    {
     "name": "stdout",
     "output_type": "stream",
     "text": [
      "13: Rosso Two Wheel, 6.5 bar, grind 1.00, Chemex filter after shot, weight #2\n"
     ]
    },
    {
     "data": {
      "text/latex": [
       "$\\displaystyle \\mathrm{m} = 0.8659_{-0.0070}^{0.0074}$"
      ],
      "text/plain": [
       "<IPython.core.display.Math object>"
      ]
     },
     "metadata": {},
     "output_type": "display_data"
    },
    {
     "name": "stdout",
     "output_type": "stream",
     "text": [
      "14: Rosso Two Wheel, 6.5 bar, grind 1.00, Chemex filter after shot, weight #3\n"
     ]
    },
    {
     "data": {
      "text/latex": [
       "$\\displaystyle \\mathrm{m} = 0.8554_{-0.0059}^{0.0084}$"
      ],
      "text/plain": [
       "<IPython.core.display.Math object>"
      ]
     },
     "metadata": {},
     "output_type": "display_data"
    },
    {
     "name": "stdout",
     "output_type": "stream",
     "text": [
      "15: Rosso Two Wheel, 6.5 bar, grind 1.00, Chemex filter after shot, weight #4\n"
     ]
    },
    {
     "data": {
      "text/latex": [
       "$\\displaystyle \\mathrm{m} = 0.8565_{-0.0068}^{0.0068}$"
      ],
      "text/plain": [
       "<IPython.core.display.Math object>"
      ]
     },
     "metadata": {},
     "output_type": "display_data"
    },
    {
     "name": "stdout",
     "output_type": "stream",
     "text": [
      "16: Rosso Two Wheel, 6.5 bar, grind 1.00, Chemex filter after shot, weight #5\n"
     ]
    },
    {
     "data": {
      "text/latex": [
       "$\\displaystyle \\mathrm{m} = 0.8538_{-0.0085}^{0.0068}$"
      ],
      "text/plain": [
       "<IPython.core.display.Math object>"
      ]
     },
     "metadata": {},
     "output_type": "display_data"
    },
    {
     "name": "stdout",
     "output_type": "stream",
     "text": [
      "17: Rosso Two Wheel, 6.5 bar, grind 1.00, Chemex filter after shot, weight #6\n"
     ]
    },
    {
     "data": {
      "text/latex": [
       "$\\displaystyle \\mathrm{m} = 0.8520_{-0.0069}^{0.0074}$"
      ],
      "text/plain": [
       "<IPython.core.display.Math object>"
      ]
     },
     "metadata": {},
     "output_type": "display_data"
    }
   ],
   "source": [
    "labels = ['m']\n",
    "txt = \"\\mathrm{{{3}}} = {0:.4f}_{{-{1:.4f}}}^{{{2:.4f}}}\"\n",
    "\n",
    "for i in range(N):\n",
    "    trial_id = measurements[config_id == i]['trial_id'].values[0]\n",
    "    weight_id = measurements[config_id == i]['weight_id'].values[0]\n",
    "\n",
    "    print(f'{i}: ' + trials['description'][trial_id] + f', weight #{weight_id}')\n",
    "\n",
    "    fs = flat_samples[:, [i]]\n",
    "\n",
    "    mcmc = np.percentile(fs[:, 0], [16, 50, 84])\n",
    "    q = np.diff(mcmc)\n",
    "    display(Math(txt.format(mcmc[1], q[0], q[1], labels[0])))"
   ]
  },
  {
   "cell_type": "markdown",
   "id": "51cfb1df",
   "metadata": {},
   "source": [
    "We can plot the slope of the dry sample in experiment \\#2:"
   ]
  },
  {
   "cell_type": "code",
   "execution_count": 25,
   "id": "55743a92",
   "metadata": {},
   "outputs": [
    {
     "data": {
      "text/plain": [
       "<matplotlib.legend.Legend at 0x273693dd310>"
      ]
     },
     "execution_count": 25,
     "metadata": {},
     "output_type": "execute_result"
    },
    {
     "data": {
      "image/png": "[encoded data removed]",
      "text/plain": [
       "<Figure size 1080x648 with 1 Axes>"
      ]
     },
     "metadata": {
      "needs_background": "light"
     },
     "output_type": "display_data"
    }
   ],
   "source": [
    "def plot_fit(ax, brix, m, color=None, label=None):\n",
    "    tds = m * brix\n",
    "    \n",
    "    # Draw maximum likelihood curve\n",
    "    traj, = ax.plot(brix, tds, color=color, label=label)\n",
    "\n",
    "def plot_points(ax, brix, tds, color=None, label=None):\n",
    "    # Draw data points\n",
    "    ax.scatter(brix, tds, color=color, label=label)\n",
    "    \n",
    "def plot_labels(ax):\n",
    "    ax.set_xlabel('Brix')\n",
    "    ax.set_ylabel('Total Solids')\n",
    "\n",
    "def plot_credible_interval(ax, brix, samples, color=None):\n",
    "    m = samples\n",
    "\n",
    "    tds = m * brix\n",
    "    tds_lower, tds_upper = np.percentile(tds, [16, 84], axis=0)\n",
    "\n",
    "    # Plot 95% credible interval\n",
    "    plt.fill(np.append(brix, brix[::-1]), \n",
    "             np.append(tds_upper, tds_lower[::-1]), \n",
    "             color=color, alpha=0.2)\n",
    "\n",
    "def plot_annotation(ax, brix, samples, color, trial_id):\n",
    "    # Get slope\n",
    "    mcmc = np.percentile(samples[:, 0], [16, 50, 84])\n",
    "    q = np.diff(mcmc)\n",
    "    \n",
    "    # Get best fit line\n",
    "    tds = mcmc[1] * brix\n",
    "    \n",
    "    # Get slope in plot\n",
    "    p1 = ax.transData.transform_point((brix[0], tds[0]))\n",
    "    p2 = ax.transData.transform_point((brix[-1], tds[-1]))\n",
    "    dy = (p2[1] - p1[1])\n",
    "    dx = (p2[0] - p1[0])\n",
    "    rotn = np.degrees(np.arctan2(dy, dx))\n",
    "    \n",
    "    # Get label position\n",
    "    xylabel = ((brix[0]+brix[-1])/2, (tds[0]+tds[-1])/2)\n",
    "    if trial_id == 3: xytext = (-14, 20)\n",
    "    else: xytext = (14, -20)\n",
    "\n",
    "    # Get label\n",
    "    label = r'$\\mathrm{TS} = ' + r'({slope:.4f} \\pm {dev:.4f})'.format(slope=mcmc[1], dev=max(q[0], q[1])) + r'\\times \\mathrm{Brix}$'\n",
    "    \n",
    "    # Draw annotation\n",
    "    ax.annotate(label, xy=xylabel, xytext=xytext, textcoords='offset points', ha='center', va='center', rotation=rotn, color=color, fontsize=16)\n",
    "\n",
    "# Plot labels\n",
    "labels = ['Experiment #2, no filter', 'Experiment #2, Chemex filter']\n",
    "\n",
    "#fig, ax = plt.subplots(figsize=(9,9), dpi=300)\n",
    "#fig.patch.set_facecolor('white')\n",
    "\n",
    "fig, ax = plt.subplots(figsize=(15,9))\n",
    "\n",
    "plot_labels(ax)\n",
    "\n",
    "ci = 0\n",
    "for i in range(N):\n",
    "    trial_id = measurements[config_id == i]['trial_id'].values[0]\n",
    "    weight_id = measurements[config_id == i]['weight_id'].values[0]\n",
    "    \n",
    "    if not trial_id in [3, 4]:\n",
    "        continue    \n",
    "    if weight_id != measurements['weight_id'][measurements['trial_id'] == trial_id].max():\n",
    "        continue\n",
    "\n",
    "    one_trial = measurements[measurements['trial_id'] == trial_id]\n",
    "    df = one_trial[one_trial['weight_id'] == weight_id]\n",
    "\n",
    "    # Get flat samples this shot\n",
    "    fs = flat_samples[:, [i]]\n",
    "    \n",
    "    # Get best fit parameters\n",
    "    fit_m = np.percentile(fs[:, 0], 50)\n",
    "\n",
    "    # Get plot colour and label\n",
    "    color = f'C{ci}'\n",
    "    label = labels[ci]\n",
    "\n",
    "    # Plot maximum likelihood fit\n",
    "    plot_fit(ax, \n",
    "             np.linspace(0., 0.19, 201), \n",
    "             fit_m, \n",
    "             color)\n",
    "\n",
    "    # Plot points\n",
    "    plot_points(ax, df['brix_percent'] / 100., df['tds'], color, label)\n",
    "\n",
    "    # Plot 95% credible interval\n",
    "    plot_credible_interval(ax, \n",
    "                           np.linspace(0., 0.19, 201), \n",
    "                           fs, color)\n",
    "    \n",
    "    plot_annotation(ax, \n",
    "                    np.linspace(0., 0.19, 201), \n",
    "                    fs, color, trial_id)\n",
    "    \n",
    "    ci += 1\n",
    "\n",
    "plt.xlim(xlim)\n",
    "plt.ylim(ylim)\n",
    "\n",
    "ax.legend()"
   ]
  },
  {
   "cell_type": "markdown",
   "id": "fc1b3ec9",
   "metadata": {},
   "source": [
    "Finally, we plot drying progress for all experiments."
   ]
  },
  {
   "cell_type": "code",
   "execution_count": 26,
   "id": "ad54ad98",
   "metadata": {},
   "outputs": [
    {
     "data": {
      "text/plain": [
       "<matplotlib.legend.Legend at 0x273673d93d0>"
      ]
     },
     "execution_count": 26,
     "metadata": {},
     "output_type": "execute_result"
    },
    {
     "data": {
      "image/png": "[encoded data removed]",
      "text/plain": [
       "<Figure size 1080x648 with 1 Axes>"
      ]
     },
     "metadata": {
      "needs_background": "light"
     },
     "output_type": "display_data"
    }
   ],
   "source": [
    "# Create the figure\n",
    "fig, ax = plt.subplots(figsize=(15,9))\n",
    "#fig.patch.set_facecolor('white')\n",
    "\n",
    "# Label the axes\n",
    "ax.set_xlabel('Measurement number')\n",
    "ax.set_ylabel('Total Solids / Brix')\n",
    "\n",
    "labels = {1: 'Experiment #1, no filter', \n",
    "          2: 'Experiment #1, Chemex filter', \n",
    "          3: 'Experiment #2, no filter', \n",
    "          4: 'Experiment #2, Chemex filter'}\n",
    "\n",
    "for i in range(N):\n",
    "    trial_id = measurements[config_id == i]['trial_id'].values[0]\n",
    "    weight_id = measurements[config_id == i]['weight_id'].values[0]\n",
    "    color = trials['config_id'][trial_id + 2 if trial_id < 3 else trial_id - 2]\n",
    "    offset = -0.05 if i < 6 else 0.05\n",
    "    \n",
    "    if weight_id == 1:\n",
    "        label = labels[trial_id]\n",
    "    else:\n",
    "        label = None\n",
    "\n",
    "    fs = flat_samples[:, [i]]\n",
    "\n",
    "    mcmc = np.percentile(fs[:, 0], [16, 50, 84])\n",
    "    q = np.diff(mcmc)\n",
    "    \n",
    "    ax.errorbar([weight_id + offset], [mcmc[1]], yerr=[[q[0]], [q[1]]], capsize=5, color=f'C{color}')\n",
    "    ax.scatter([weight_id + offset], [mcmc[1]], marker='o', color=f'C{color}', label=label)\n",
    "    \n",
    "# Add a legend to the plot\n",
    "ax.legend()"
   ]
  }
 ],
 "metadata": {
  "kernelspec": {
   "display_name": "Python 3",
   "language": "python",
   "name": "python3"
  },
  "language_info": {
   "codemirror_mode": {
    "name": "ipython",
    "version": 3
   },
   "file_extension": ".py",
   "mimetype": "text/x-python",
   "name": "python",
   "nbconvert_exporter": "python",
   "pygments_lexer": "ipython3",
   "version": "3.9.5"
  }
 },
 "nbformat": 4,
 "nbformat_minor": 5
}
