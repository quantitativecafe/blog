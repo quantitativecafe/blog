{
 "cells": [
  {
   "cell_type": "code",
   "execution_count": 1,
   "id": "4f6dbcc5",
   "metadata": {},
   "outputs": [],
   "source": [
    "import numpy as np\n",
    "import pandas as pd\n",
    "import matplotlib.pyplot as plt\n",
    "from scipy.integrate import odeint"
   ]
  },
  {
   "cell_type": "code",
   "execution_count": 2,
   "id": "15be1b32",
   "metadata": {},
   "outputs": [
    {
     "data": {
      "text/html": [
       "\n",
       "<style>\n",
       ".output_png {\n",
       "    display: table-cell;\n",
       "    text-align: center;\n",
       "    vertical-align: middle;\n",
       "}\n",
       "</style>\n"
      ],
      "text/plain": [
       "<IPython.core.display.HTML object>"
      ]
     },
     "execution_count": 2,
     "metadata": {},
     "output_type": "execute_result"
    }
   ],
   "source": [
    "from IPython.core.display import HTML\n",
    "\n",
    "# Center plots\n",
    "HTML(\"\"\"\n",
    "<style>\n",
    ".output_png {\n",
    "    display: table-cell;\n",
    "    text-align: center;\n",
    "    vertical-align: middle;\n",
    "}\n",
    "</style>\n",
    "\"\"\")"
   ]
  },
  {
   "cell_type": "markdown",
   "id": "c2013aba",
   "metadata": {},
   "source": [
    "We define some things for $\\LaTeX$ here.\n",
    "$\n",
    "\\def\\D{\\mathrm{d}}\n",
    "\\def\\T{\\mathsf{T}}\n",
    "$"
   ]
  },
  {
   "cell_type": "markdown",
   "id": "aa53538f",
   "metadata": {},
   "source": [
    "# A simplified model\n",
    "\n",
    "Let's look at a simplified version of the model proposed by Moroney et al., 2019<sup>[1]</sup>. The simplified model is divided into a single solid phase and a liquid phase. Mass transfer between the phases is described by the following equation:\n",
    "\n",
    "$$\n",
    "\\frac{\\partial m_i}{\\partial t} = k_{sl} A (c_s - c_l)\n",
    "$$\n",
    "\n",
    "Here, $\\partial m_i / \\partial t$ is the mass transfer rate of soluble coffee across the interface between the solid and liquid phases, $k_{sl}$ is the mass transfer coefficient, $A$ is the effective interface area, $c_s$ is the concentration of soluble coffee in the solid phase, and $c_l$ is the concentration in the liquid phase. We can express this in terms of the surface area per unit volume, $A_i$, for the coffee grains:\n",
    "\n",
    "$$\n",
    "\\frac{\\partial m_i}{\\partial t} = k_{sl} A_i V_s (c_s - c_l)\n",
    "$$\n",
    "\n",
    "Here, $V_s$ is the volume of the solid phase. We can define the volume fraction of the solid phase as follows:\n",
    "\n",
    "$$\n",
    "\\alpha_s = \\frac{V_s}{V}\n",
    "$$\n",
    "\n",
    "where $V$ is the total volume of the packed bed. Then we have:\n",
    "\n",
    "$$\n",
    "\\frac{\\partial m_i}{\\partial t} = k_{sl} A_i \\alpha_s V (c_s - c_l)\n",
    "$$"
   ]
  },
  {
   "cell_type": "markdown",
   "id": "e2696477",
   "metadata": {},
   "source": [
    "For the liquid phase, we introduce a fluid velocity $v_l$. Soluble coffee moves across the interface with the solid phase and also with the flow of water through the puck. This gives us:\n",
    "\n",
    "$$\n",
    "\\frac{\\partial m_l}{\\partial t} = -v_l \\frac{\\partial m_l}{\\partial z} + \\frac{\\partial m_i}{\\partial t} = -v_l \\frac{\\partial m_l}{\\partial z} + k_{sl} A_i \\alpha_s V (c_s - c_l) \\tag{1}\n",
    "$$\n",
    "\n",
    "For the solid phase, the only change in concentration comes from coffee moving across the interface with the liquid phase. So:\n",
    "\n",
    "$$\n",
    "\\frac{\\partial m_s}{\\partial t} = -\\frac{\\partial m_i}{\\partial t} = -k_{sl} A_i \\alpha_s V (c_s - c_l) \\tag{2}\n",
    "$$"
   ]
  },
  {
   "cell_type": "markdown",
   "id": "f1f4383f",
   "metadata": {},
   "source": [
    "We want to express Equations (1) and (2) in terms of concentration. We can calculate the concentration of soluble coffee within the liquid phase as:\n",
    "\n",
    "$$\n",
    "c_l = \\frac{m_l}{V_l} = \\frac{m_l}{(1 - \\alpha_s) V}\n",
    "$$\n",
    "\n",
    "The coffee grains have a porous structure, with intragranular porosity $\\phi_v$ given by:\n",
    "\n",
    "$$\n",
    "\\phi_v = \\frac{V_v}{V_s}\n",
    "$$\n",
    "\n",
    "Here, $V_v$ is the volume of the pore space containing soluble coffee. Then we can calculate the concentration of soluble coffee within the pore space as:\n",
    "\n",
    "$$\n",
    "c_s = \\frac{m_s}{V_v} = \\frac{m_s}{\\phi_v V_s} = \\frac{m_s}{\\phi_v \\alpha_s V}\n",
    "$$\n",
    "\n",
    "Then Equations (1) and (2) become:\n",
    "\n",
    "$$\n",
    "\\begin{gather}\n",
    "\\frac{\\partial c_l}{\\partial t} = -v_l \\frac{\\partial c_l}{\\partial z} + \\frac{k_{sl} A_i \\alpha_s}{1 - \\alpha_s} (c_s - c_l) \\tag{3}\\\\\n",
    "\\frac{\\partial c_s}{\\partial t} = -\\frac{k_{sl} A_i}{\\phi_v} (c_s - c_l) \\tag{4}\n",
    "\\end{gather}\n",
    "$$\n",
    "\n",
    "These are the same as Equations (10) and (11) in Moroney et al., with:\n",
    "\n",
    "$$\n",
    "k_{sl} = \\frac{h_{sl}}{\\alpha_s}, \\quad A_i = \\frac{6 \\alpha_s}{d_s}, \\quad 1 - \\alpha_s = \\alpha_l\n",
    "$$\n",
    "\n",
    "It will be easier to work with Equations (3) and (4) if we set:\n",
    "\n",
    "$$\n",
    "\\boxed{\n",
    "K_l = \\frac{k_{sl} A_i \\alpha_s}{1 - \\alpha_s}, \\quad K_s = \\frac{k_{sl} A_i}{\\phi_v}\n",
    "}\n",
    "$$\n",
    "\n",
    "Then:\n",
    "\n",
    "$$\n",
    "\\boxed{\n",
    "\\frac{\\partial c_l}{\\partial t} = -v_l \\frac{\\partial c_l}{\\partial z} + K_l (c_s - c_l), \\quad\n",
    "\\frac{\\partial c_s}{\\partial t} = -K_s (c_s - c_l)\n",
    "}\n",
    "$$"
   ]
  },
  {
   "cell_type": "markdown",
   "id": "6f4b9ab8",
   "metadata": {},
   "source": [
    "# The homogeneous solution\n",
    "\n",
    "Let's look at a single horizontal slice of the packed bed, with thickness $\\Delta z$. We arrange our measurements as shown in the figure below:\n",
    "\n",
    "<img src=points.png width=500/>\n",
    "\n",
    "We can use a backward difference to eliminate the spatial derivative. Then our system of equations becomes:\n",
    "\n",
    "$$\n",
    "\\frac{\\partial c_l}{\\partial t} = -v_l \\frac{c_l - c_l'}{\\Delta z} + K_l \\left( c_s - \\frac{c_l + c_l'}{2} \\right), \\quad\n",
    "\\frac{\\partial c_s}{\\partial t} = -K_s \\left( c_s - \\frac{c_l + c_l'}{2} \\right)\n",
    "$$\n",
    "\n",
    "These equations form a system of linear nonhomogeneous differential equations. We start by looking at the associated homogeneous equations, by setting $c_l' = 0$. As it happens, this corresponds with a single-layer model where fresh water is introduced at the top of the packed bed.\n",
    "\n",
    "$$\n",
    "\\frac{\\partial c_l}{\\partial t} = -v_l \\frac{c_l}{\\Delta z} + K_l \\left( c_s - \\frac{c_l}{2} \\right), \\quad\n",
    "\\frac{\\partial c_s}{\\partial t} = -K_s \\left( c_s - \\frac{c_l}{2} \\right)\n",
    "$$\n",
    "\n",
    "If we substitute $u_l = v_l / \\Delta z$, we get:\n",
    "\n",
    "$$\n",
    "\\begin{gather}\n",
    "\\frac{\\partial c_l}{\\partial t} = -u_l c_l + K_l \\left( c_s - \\frac{c_l}{2} \\right), \\tag{5} \\\\\n",
    "\\frac{\\partial c_s}{\\partial t} = -K_s \\left( c_s - \\frac{c_l}{2} \\right) \\tag{6}\n",
    "\\end{gather}\n",
    "$$\n",
    "\n",
    "We can solve this by the method of elimination. First we differentiate Equation (5):\n",
    "\n",
    "$$\n",
    "\\frac{\\partial^2}{\\partial t^2} c_l = \\left( -u_l - \\frac{K_l}{2} \\right) \\frac{\\partial}{\\partial t} c_l + K_l \\frac{\\partial}{\\partial t} c_s\n",
    "$$\n",
    "\n",
    "Now we substitute Equation (6):\n",
    "\n",
    "$$\n",
    "\\frac{\\partial^2}{\\partial t^2} c_l = \\left( -u_l - \\frac{K_l}{2} \\right) \\frac{\\partial}{\\partial t} c_l - K_l K_s \\left( c_s - \\frac{c_l}{2} \\right) \\tag{7}\n",
    "$$\n",
    "\n",
    "If we express Equation (5) in terms of $c_s$, we get:\n",
    "\n",
    "$$\n",
    "K_l c_s = \\frac{\\partial}{\\partial t} c_l + \\left( u_l + \\frac{K_l}{2} \\right) c_l \\tag{8}\n",
    "$$\n",
    "\n",
    "Substituting Equation (8) into Equation (7) gives us a second order linear homogeneous equation:\n",
    "\n",
    "$$\n",
    "\\begin{align}\n",
    "\\frac{\\partial^2}{\\partial t^2} c_l &= \\left( -u_l - \\frac{K_l}{2} \\right) \\frac{\\partial}{\\partial t} c_l - K_s \\left( \\frac{\\partial}{\\partial t} c_l + \\left( u_l + \\frac{K_l}{2} \\right) c_l \\right) + K_l K_s \\frac{c_l}{2} \\\\\n",
    "&= \\left( -u_l - \\frac{K_l}{2} - K_s \\right) \\frac{\\partial}{\\partial t} c_l - K_s u_l c_l \\tag{9}\n",
    "\\end{align}\n",
    "$$\n",
    "\n",
    "To solve this equation, we need to find the roots of the characteristic equation:\n",
    "\n",
    "$$\n",
    "\\lambda^2 + \\left( u_l + \\frac{K_l}{2} + K_s \\right) \\lambda + K_s u_l = 0\n",
    "$$\n",
    "\n",
    "The roots are:\n",
    "\n",
    "$$\n",
    "\\lambda_{1,2} = \\frac{1}{2} \\left( -\\left( u_l + \\frac{K_l}{2} + K_s \\right) \\pm \\sqrt{\\left( u_l + \\frac{K_l}{2} + K_s \\right)^2 - 4 K_s u_l} \\right)\n",
    "$$\n",
    "\n",
    "The solution to Equation (9) is then:\n",
    "\n",
    "$$\n",
    "\\begin{align}\n",
    "c_l(t) &= C_1 e^{\\lambda_1 t} + C_2 e^{\\lambda_2 t} \\\\\n",
    "&= C_1 e^{-\\frac{A + B}{2} t} + C_2 e^{-\\frac{A - B}{2} t} \\tag{10}\\\\\n",
    "\\end{align}\n",
    "$$\n",
    "\n",
    "where\n",
    "\n",
    "$$\n",
    "\\boxed{\n",
    "A = u_l + \\frac{K_l}{2} + K_s, \\quad B = \\sqrt{A^2 - 4 K_s u_l}\n",
    "}\n",
    "$$\n",
    "\n",
    "To get an expression for $c_s(t)$, we differentiate Equation (10):\n",
    "\n",
    "$$\n",
    "\\frac{\\partial}{\\partial t} c_l = -\\frac{A + B}{2} C_1 e^{-\\frac{A + B}{2} t} - \\frac{A - B}{2} C_2 e^{-\\frac{A - B}{2} t}\n",
    "$$\n",
    "\n",
    "and substitute Equation (5) on the left side:\n",
    "\n",
    "$$\n",
    "-u_l c_l + K_l \\left( c_s - \\frac{c_l}{2} \\right) = -\\frac{A + B}{2} C_1 e^{-\\frac{A + B}{2} t} - \\frac{A - B}{2} C_2 e^{-\\frac{A - B}{2} t}\n",
    "$$\n",
    "\n",
    "Now we subsitute Equation (10) on the left side:\n",
    "\n",
    "$$\n",
    "K_l c_s - \\left( u_l + \\frac{K_l}{2} \\right) \\left( C_1 e^{-\\frac{A + B}{2} t} + C_2 e^{-\\frac{A - B}{2} t} \\right) = -\\frac{A + B}{2} C_1 e^{-\\frac{A + B}{2} t} - \\frac{A - B}{2} C_2 e^{-\\frac{A - B}{2} t}\n",
    "$$\n",
    "\n",
    "This gives us:\n",
    "\n",
    "$$\n",
    "\\begin{align}\n",
    "c_s(t) &= \\frac{1}{K_l} \\left( u_l + \\frac{K_l}{2} \\right) \\left( C_1 e^{-\\frac{A + B}{2} t} + C_2 e^{-\\frac{A - B}{2} t} \\right) -\\frac{A + B}{2 K_l} C_1 e^{-\\frac{A + B}{2} t} - \\frac{A - B}{2 K_l} C_2 e^{-\\frac{A - B}{2} t} \\\\\n",
    "&= \\frac{A - K_s}{K_l} \\left( C_1 e^{-\\frac{A + B}{2} t} + C_2 e^{-\\frac{A - B}{2} t} \\right) -\\frac{A + B}{2 K_l} C_1 e^{-\\frac{A + B}{2} t} - \\frac{A - B}{2 K_l} C_2 e^{-\\frac{A - B}{2} t} \\\\\n",
    "&= \\left( -\\frac{A + B}{2 K_l} + \\frac{A - K_s}{K_l} \\right) C_1 e^{-\\frac{A + B}{2} t} + \\left( -\\frac{A - B}{2 K_l} + \\frac{A - K_s}{K_l} \\right) C_2 e^{-\\frac{A - B}{2} t} \\\\\n",
    "&= \\frac{2 A - 2 K_s - A - B}{2 K_l} C_1 e^{-\\frac{A + B}{2} t} + \\frac{2 A - 2 K_s - A + B}{2 K_l} C_2 e^{-\\frac{A - B}{2} t} \\\\\n",
    "&= \\frac{A - B - 2 K_s}{2 K_l} C_1 e^{-\\frac{A + B}{2} t} + \\frac{A + B - 2 K_s}{2 K_l} C_2 e^{-\\frac{A - B}{2} t}\n",
    "\\end{align}\n",
    "$$\n",
    "\n",
    "If we set:\n",
    "\n",
    "$$\n",
    "\\boxed{\n",
    "Z_1 = \\frac{A - B - 2 K_s}{2 K_l}, \\quad Z_2 = \\frac{A + B - 2 K_s}{2 K_l}\n",
    "}\n",
    "$$\n",
    "\n",
    "then the solutions become:\n",
    "\n",
    "$$\n",
    "\\boxed{\n",
    "c_l(t) = C_1 e^{-\\frac{A + B}{2} t} + C_2 e^{-\\frac{A - B}{2} t}, \\quad c_s(t) = Z_1 C_1 e^{-\\frac{A + B}{2} t} + Z_2 C_2 e^{-\\frac{A - B}{2} t}\n",
    "}\n",
    "$$"
   ]
  },
  {
   "cell_type": "markdown",
   "id": "92fd8f5e",
   "metadata": {},
   "source": [
    "# Initial conditions\n",
    "\n",
    "Evaluating the homogeneous solution at $t=0$, we get:\n",
    "\n",
    "$$\n",
    "c_l(0) = C_1 + C_2, \\quad c_s(0) = Z_1 C_1 + Z_2 C_2\n",
    "$$\n",
    "\n",
    "Solving for $C_1$ and $C_2$:\n",
    "\n",
    "$$\n",
    "\\begin{gather}\n",
    "\\begin{bmatrix}\n",
    "c_l(0) \\\\ c_s(0)\n",
    "\\end{bmatrix}\n",
    "=\n",
    "\\begin{bmatrix}\n",
    "1 & 1 \\\\\n",
    "Z_1 & Z_2\n",
    "\\end{bmatrix}\n",
    "\\begin{bmatrix}\n",
    "C_1 \\\\ C_2\n",
    "\\end{bmatrix} \\Rightarrow \\\\\n",
    "\\begin{bmatrix}\n",
    "1 & 1 \\\\\n",
    "Z_1 & Z_2\n",
    "\\end{bmatrix}^{-1}\n",
    "\\begin{bmatrix}\n",
    "c_l(0) \\\\ c_s(0)\n",
    "\\end{bmatrix}\n",
    "=\n",
    "\\begin{bmatrix}\n",
    "C_1 \\\\ C_2\n",
    "\\end{bmatrix} \\Rightarrow \\\\\n",
    "\\frac{1}{Z_2 - Z_1}\n",
    "\\begin{bmatrix}\n",
    "Z_2 & -1 \\\\\n",
    "-Z_1 & 1\n",
    "\\end{bmatrix}\n",
    "\\begin{bmatrix}\n",
    "c_l(0) \\\\ c_s(0)\n",
    "\\end{bmatrix}\n",
    "=\n",
    "\\begin{bmatrix}\n",
    "C_1 \\\\ C_2\n",
    "\\end{bmatrix} \\\\\n",
    "\\end{gather}\n",
    "$$\n",
    "\n",
    "This gives us:\n",
    "\n",
    "$$\n",
    "\\boxed{\n",
    "C_1 = \\frac{Z_2 c_l(0) - c_s(0)}{Z_2 - Z_1}, \\quad C_2 = -\\frac{Z_1 c_l(0) - c_s(0)}{Z_2 - Z_1}\n",
    "}\n",
    "$$"
   ]
  },
  {
   "cell_type": "markdown",
   "id": "290a9c34",
   "metadata": {},
   "source": [
    "# Comparison with experimental data\n",
    "\n",
    "Let's consider the single phase fine grind experiment from Moroney et al.:\n",
    "\n",
    "| Paramter | Value |\n",
    "|:-------:|:-:|\n",
    "| $$v_l$$ | $$7.62 \\times 10^{-3}\\,\\text{m}\\,\\text{s}^{-1}$$ |\n",
    "| $$L$$ | $$0.0405\\,\\text{m}$$ |\n",
    "| $$h_{sl}$$ | $$4.47076 \\times 10^{-7}\\,\\text{m}\\,\\text{s}^{-1}$$ |\n",
    "| $$A_i$$ | $$1.5083 \\times 10^5\\,\\text{m}^{-1}$$ |\n",
    "| $$\\phi_v$$ | $$0.56$$  |\n",
    "| $$\\alpha_s$$ | $$0.8$$ |\n",
    "| $$c_s(0)$$ | $$358.587\\,\\text{kg}\\,\\text{m}^3$$ |\n",
    "\n",
    "The value of $h_{sl}$ given in the paper is incorrect. The value given, $4.31562 \\times 10^{-4}\\,\\text{m}\\,\\text{s}^{-1}$, needs to be divided by the density of water at room temperature, $965.3\\,\\text{kg}\\,\\text{m}^{-3}$, which gives $h_{sl} = 4.47076 \\times 10^{-7}\\,\\text{m}\\,\\text{s}^{-1}$.\n",
    "\n",
    "We get $A_i$ using this equation given in the paper:\n",
    "\n",
    "$$\n",
    "A_i = \\frac{6 \\alpha_s}{d_s} = \\frac{6 \\times 0.8}{3.1823 \\times 10^{-5}\\,\\text{m}} = 1.5083 \\times 10^5\\,\\text{m}^{-1}\n",
    "$$\n",
    "\n",
    "We get $v_l$ from the specified flow rate of $250\\,\\text{ml}\\,\\text{min}^{-1}$ as follows:"
   ]
  },
  {
   "cell_type": "code",
   "execution_count": 3,
   "id": "2e2a6034",
   "metadata": {},
   "outputs": [
    {
     "data": {
      "text/plain": [
       "0.0076201734698791235"
      ]
     },
     "execution_count": 3,
     "metadata": {},
     "output_type": "execute_result"
    }
   ],
   "source": [
    "model_a_l = 0.2\n",
    "model_Q = 250. / (1e2)**3 / 60.\n",
    "model_A = np.pi * (59e-3 / 2)**2\n",
    "model_v_l = model_Q / (model_a_l * model_A)\n",
    "model_v_l"
   ]
  },
  {
   "cell_type": "markdown",
   "id": "e9c15a71",
   "metadata": {},
   "source": [
    "No we calculate $u_l$, $K_l$, and $K_s$:"
   ]
  },
  {
   "cell_type": "code",
   "execution_count": 4,
   "id": "10aabc8e",
   "metadata": {},
   "outputs": [
    {
     "data": {
      "text/plain": [
       "(0.18814814814814815, 0.33716236540000005, 0.150518913125)"
      ]
     },
     "execution_count": 4,
     "metadata": {},
     "output_type": "execute_result"
    }
   ],
   "source": [
    "model_v_l = 7.62e-3\n",
    "model_L = 0.0405\n",
    "model_h_sl = 4.47076e-7\n",
    "model_A_i = 1.5083e5\n",
    "model_phi_v = 0.56\n",
    "model_a_s = 0.8\n",
    "model_c_s_0 = 358.587\n",
    "\n",
    "model_u_l = model_v_l / model_L\n",
    "model_K_l = (model_h_sl * model_A_i) / (1 - model_a_s)\n",
    "model_K_s = (model_h_sl * model_A_i) / (model_phi_v * model_a_s)\n",
    "model_u_l, model_K_l, model_K_s"
   ]
  },
  {
   "cell_type": "markdown",
   "id": "bd06ae84",
   "metadata": {},
   "source": [
    "This gives us $A$ and $B$:"
   ]
  },
  {
   "cell_type": "code",
   "execution_count": 5,
   "id": "7b3865f1",
   "metadata": {},
   "outputs": [
    {
     "data": {
      "text/plain": [
       "(0.5072482439731482, 0.37950146501809384)"
      ]
     },
     "execution_count": 5,
     "metadata": {},
     "output_type": "execute_result"
    }
   ],
   "source": [
    "model_A = model_u_l + model_K_l / 2. + model_K_s\n",
    "model_B = np.sqrt(model_A**2 - 4 * model_K_s * model_u_l)\n",
    "model_A, model_B"
   ]
  },
  {
   "cell_type": "markdown",
   "id": "530f8110",
   "metadata": {},
   "source": [
    "And $Z_1$ and $Z_2$:"
   ]
  },
  {
   "cell_type": "code",
   "execution_count": 6,
   "id": "5a14655c",
   "metadata": {},
   "outputs": [
    {
     "data": {
      "text/plain": [
       "(-0.2569845645277728, 0.8685902444158762)"
      ]
     },
     "execution_count": 6,
     "metadata": {},
     "output_type": "execute_result"
    }
   ],
   "source": [
    "model_Z_1 = (model_A - model_B - 2 * model_K_s) / (2 * model_K_l)\n",
    "model_Z_2 = (model_A + model_B - 2 * model_K_s) / (2 * model_K_l)\n",
    "model_Z_1, model_Z_2"
   ]
  },
  {
   "cell_type": "markdown",
   "id": "8711c63a",
   "metadata": {},
   "source": [
    "Let's see how the analytic solution compares with experimental results. First we load the data from Moroney et al."
   ]
  },
  {
   "cell_type": "code",
   "execution_count": 7,
   "id": "eca98ebc",
   "metadata": {},
   "outputs": [
    {
     "data": {
      "text/html": [
       "<div>\n",
       "<style scoped>\n",
       "    .dataframe tbody tr th:only-of-type {\n",
       "        vertical-align: middle;\n",
       "    }\n",
       "\n",
       "    .dataframe tbody tr th {\n",
       "        vertical-align: top;\n",
       "    }\n",
       "\n",
       "    .dataframe thead th {\n",
       "        text-align: right;\n",
       "    }\n",
       "</style>\n",
       "<table border=\"1\" class=\"dataframe\">\n",
       "  <thead>\n",
       "    <tr style=\"text-align: right;\">\n",
       "      <th></th>\n",
       "      <th>x</th>\n",
       "      <th>y</th>\n",
       "    </tr>\n",
       "  </thead>\n",
       "  <tbody>\n",
       "    <tr>\n",
       "      <th>0</th>\n",
       "      <td>4.975124</td>\n",
       "      <td>211.842105</td>\n",
       "    </tr>\n",
       "    <tr>\n",
       "      <th>1</th>\n",
       "      <td>11.940299</td>\n",
       "      <td>150.000000</td>\n",
       "    </tr>\n",
       "    <tr>\n",
       "      <th>2</th>\n",
       "      <td>18.905473</td>\n",
       "      <td>76.315789</td>\n",
       "    </tr>\n",
       "    <tr>\n",
       "      <th>3</th>\n",
       "      <td>24.875622</td>\n",
       "      <td>43.421053</td>\n",
       "    </tr>\n",
       "    <tr>\n",
       "      <th>4</th>\n",
       "      <td>32.835821</td>\n",
       "      <td>27.631579</td>\n",
       "    </tr>\n",
       "  </tbody>\n",
       "</table>\n",
       "</div>"
      ],
      "text/plain": [
       "           x           y\n",
       "0   4.975124  211.842105\n",
       "1  11.940299  150.000000\n",
       "2  18.905473   76.315789\n",
       "3  24.875622   43.421053\n",
       "4  32.835821   27.631579"
      ]
     },
     "execution_count": 7,
     "metadata": {},
     "output_type": "execute_result"
    }
   ],
   "source": [
    "expt = pd.read_csv('fine_expt_data.csv', header=None, names=['x', 'y'])\n",
    "expt.head()"
   ]
  },
  {
   "cell_type": "markdown",
   "id": "046e6f97",
   "metadata": {},
   "source": [
    "Then we plot the model and experimental results."
   ]
  },
  {
   "cell_type": "code",
   "execution_count": 8,
   "id": "04a936a9",
   "metadata": {},
   "outputs": [
    {
     "data": {
      "text/plain": [
       "<matplotlib.legend.Legend at 0x23a4f923a90>"
      ]
     },
     "execution_count": 8,
     "metadata": {},
     "output_type": "execute_result"
    },
    {
     "data": {
      "image/png": "[encoded data removed]",
      "text/plain": [
       "<Figure size 1080x648 with 1 Axes>"
      ]
     },
     "metadata": {
      "needs_background": "light"
     },
     "output_type": "display_data"
    }
   ],
   "source": [
    "def get_model_c_l(t, c_l_0, c_s_0):\n",
    "    # Get cefficients\n",
    "    C_1 = (model_Z_2 * c_l_0 - c_s_0) / (model_Z_2 - model_Z_1)\n",
    "    C_2 = -(model_Z_1 * c_l_0 - c_s_0) / (model_Z_2 - model_Z_1)\n",
    "\n",
    "    # Get model values\n",
    "    c_l_1 = np.exp(-(model_A + model_B) / 2. * model_t)\n",
    "    c_l_2 = np.exp(-(model_A - model_B) / 2. * model_t)\n",
    "    return  C_1 * c_l_1 + C_2 * c_l_2\n",
    "\n",
    "# Initial conditions\n",
    "model_c_l_0 = 0.\n",
    "\n",
    "# Get model values\n",
    "model_t = np.linspace(0., 250., 2500)\n",
    "model_c_l = get_model_c_l(model_t, model_c_l_0, model_c_s_0)\n",
    "\n",
    "# Plot the values\n",
    "fig, ax = plt.subplots(figsize=(15,9))\n",
    "ax.plot(model_t, model_c_l, label='Analytic solution (1 layer)')\n",
    "\n",
    "# Plot the experimental data\n",
    "ax.scatter(expt['x'], expt['y'], label='Experiment')\n",
    "\n",
    "# Label the axes\n",
    "ax.set_xlabel('Time (s)')\n",
    "ax.set_ylabel('Concentration of Soluble Coffee in Liquid Phase (kg/m^3)')\n",
    "\n",
    "# Add a legend\n",
    "plt.legend()"
   ]
  },
  {
   "cell_type": "markdown",
   "id": "76b6c907",
   "metadata": {},
   "source": [
    "# Comparison with numerical model\n",
    "\n",
    "Let's compare with the numerical model we developed previously. We adapt the model to use a single solid phase, with the puck initially wetted with clean water--the same initial conditions used by Moroney et al."
   ]
  },
  {
   "cell_type": "code",
   "execution_count": 9,
   "id": "6c7e6d4b",
   "metadata": {},
   "outputs": [],
   "source": [
    "class Model(object):\n",
    "    def __init__(self, rate=250., time=250., layers=1):\n",
    "        self.a_l = 0.2\n",
    "        self.a_s = 0.8\n",
    "\n",
    "        self.Q = rate / (1e2)**3 / 60.\n",
    "        self.A = np.pi * (59e-3 / 2)**2\n",
    "        self.v_l = self.Q / (self.a_l * self.A)\n",
    "\n",
    "        self.L = 0.0405\n",
    "        self.N = layers\n",
    "        self.dz = self.L / self.N\n",
    "\n",
    "        self.d_s = 3.1823e-5\n",
    "\n",
    "        self.rho_l = 965.3\n",
    "        self.h_sl = 4.31562e-4 / self.rho_l\n",
    "\n",
    "        self.D_v = self.d_s * self.h_sl\n",
    "\n",
    "        self.phi_v = 0.56\n",
    "\n",
    "        self.dt = 0.05\n",
    "        self.num_t = round(time / self.dt)\n",
    "\n",
    "        self.c_s = 358.587\n",
    "\n",
    "        self.args = (self.v_l, self.dz, self.D_v, self.a_s, self.a_l, self.d_s, self.phi_v)\n",
    "        self.args_without_flow = (0., self.dz, self.D_v, self.a_s, self.a_l, self.d_s, self.phi_v)\n",
    "\n",
    "    @staticmethod\n",
    "    def Ai(D_v, a_s, a_l, d_s):\n",
    "        return (6. * D_v * a_s) / (a_l * d_s**2)\n",
    "\n",
    "    @staticmethod\n",
    "    def G(D_v, a_s, a_l, d_s, c_s, c_l):\n",
    "        return Model.Ai(D_v, a_s, a_l, d_s) * (c_s - c_l)\n",
    "\n",
    "    @staticmethod\n",
    "    def H(D_v, phi_v, d_s, c_s, c_l):\n",
    "        return (6. * D_v) / (phi_v * d_s**2) * (c_s - c_l)\n",
    "\n",
    "    @staticmethod\n",
    "    def update(y, t, v_l, dz, D_v, a_s, a_l, d_s, phi_v):\n",
    "        # Parse the interleaved data\n",
    "        c_l = y[::2]\n",
    "        c_s = y[1::2]\n",
    "\n",
    "        # Initialize the return value\n",
    "        dy_dt = np.empty_like(y)\n",
    "\n",
    "        # Interleaved views of the return value\n",
    "        dcl_dt = dy_dt[::2]\n",
    "        dcs_dt = dy_dt[1::2]\n",
    "\n",
    "        # Compute derivatives\n",
    "        dcl_dt[0] = -v_l * c_l[0] / dz + \\\n",
    "            Model.G(D_v, a_s, a_l, d_s, c_s[0], c_l[0])\n",
    "        dcl_dt[1:] = -v_l * (c_l[1:] - c_l[:-1]) / dz + \\\n",
    "            Model.G(D_v, a_s, a_l, d_s, c_s[1:], c_l[1:])\n",
    "\n",
    "        dcs_dt[:] = -Model.H(D_v, phi_v, d_s, c_s, c_l)\n",
    "\n",
    "        return dy_dt\n",
    "    \n",
    "    def initial_conditions(self):\n",
    "        # Initial values\n",
    "        cl_0 = np.array([0.] * self.N)\n",
    "        cs_0 = np.array([self.c_s] * self.N)\n",
    "\n",
    "        y0 = np.empty(2 * self.N)\n",
    "        y0[::2] = cl_0\n",
    "        y0[1::2] = cs_0\n",
    "\n",
    "        return y0\n",
    "    \n",
    "    def run_model(self):\n",
    "        # Initial conditions\n",
    "        y0 = self.initial_conditions()\n",
    "\n",
    "        # Simulation time\n",
    "        t = np.linspace(0., self.num_t * self.dt, self.num_t)\n",
    "\n",
    "        # Model the shot\n",
    "        sol = odeint(Model.update, y0, t, self.args, ml=2, mu=1)\n",
    "\n",
    "        return t, sol\n",
    "    \n",
    "    def do_plot(self, ax, t, sol, label=None, ls=None):\n",
    "        # Get values at the outlet\n",
    "        c_l = sol[:,-2]\n",
    "\n",
    "        # Plot the values\n",
    "        ax.plot(t, c_l, ls=ls, label=label)"
   ]
  },
  {
   "cell_type": "markdown",
   "id": "1103fc5f",
   "metadata": {},
   "source": [
    "Now we run the model."
   ]
  },
  {
   "cell_type": "code",
   "execution_count": 10,
   "id": "503e3959",
   "metadata": {},
   "outputs": [
    {
     "data": {
      "text/plain": [
       "<matplotlib.legend.Legend at 0x23a520bfa30>"
      ]
     },
     "execution_count": 10,
     "metadata": {},
     "output_type": "execute_result"
    },
    {
     "data": {
      "image/png": "[encoded data removed]",
      "text/plain": [
       "<Figure size 1080x648 with 1 Axes>"
      ]
     },
     "metadata": {
      "needs_background": "light"
     },
     "output_type": "display_data"
    }
   ],
   "source": [
    "# Plot the analytic model\n",
    "fig, ax = plt.subplots(figsize=(15,9))\n",
    "ax.plot(model_t, model_c_l, label='Analytic solution (1 layer)')\n",
    "\n",
    "# Plot the experimental data\n",
    "ax.scatter(expt['x'], expt['y'], label='Experiment')\n",
    "\n",
    "# Plot the numerical model\n",
    "model = Model(rate=250., time=250., layers=100)\n",
    "t, sol = model.run_model()\n",
    "model.do_plot(ax, t, sol, ls='--', label='Numerical model (100 layers)')\n",
    "\n",
    "# Label the axes\n",
    "ax.set_xlabel('Time (s)')\n",
    "ax.set_ylabel('Concentration of Soluble Coffee in Liquid Phase (kg/m^3)')\n",
    "\n",
    "# Add a legend\n",
    "plt.legend()"
   ]
  },
  {
   "cell_type": "markdown",
   "id": "d4e28162",
   "metadata": {},
   "source": [
    "This is very good agreement with the numerical model. Moroney et al. optimized the mass transfer coefficients in the numerical model to fit the experimental data, so we would expect to get an even better result if we re-optimized those parameters to fit the analytic solution."
   ]
  },
  {
   "cell_type": "markdown",
   "id": "7dc6e90c",
   "metadata": {},
   "source": [
    "# Transient and steady state behaviour\n",
    "\n",
    "One reason I wanted to look at an analytic solution is because they can sometimes give insight into the dynamics underlying a process. For example, in this case we can break the analytic solution into two parts:\n",
    "\n",
    "$$\n",
    "c_l(t) = C_1 c_{l,1}(t) + C_2 c_{l,2}(t)\n",
    "$$\n",
    "\n",
    "with\n",
    "\n",
    "$$\n",
    "c_{l,1}(t) = e^{-\\frac{A + B}{2} t}, \\quad \n",
    "c_{l,2}(t) = e^{-\\frac{A - B}{2} t}\n",
    "$$\n",
    "\n",
    "Let's see if we can figure out what each of these parts contributes to the full solution. Since\n",
    "\n",
    "$$\n",
    "A = u_l + \\frac{K_l}{2} + K_s, \\quad B = \\sqrt{A^2 - 4 K_s u_l}\n",
    "$$\n",
    "\n",
    "we see that\n",
    "\n",
    "$$\n",
    "A \\ge B \\ge 0 \\quad \\Rightarrow \\quad A + B \\ge A - B \\ge 0\n",
    "$$\n",
    "\n",
    "So, as $t \\to \\infty$, $c_{l,1}(t)$ will approach zero more quickly than $c_{l,2}(t)$. We can think of $c_{l,1}(t)$ as a \"transient\" behaviour and $c_{l,2}(t)$ as the \"steady state\" behaviour.\n",
    "\n",
    "Let's plot the two solutions, using the parameters given above."
   ]
  },
  {
   "cell_type": "code",
   "execution_count": 11,
   "id": "ca60ef46",
   "metadata": {},
   "outputs": [
    {
     "data": {
      "text/plain": [
       "<matplotlib.legend.Legend at 0x23a519efe80>"
      ]
     },
     "execution_count": 11,
     "metadata": {},
     "output_type": "execute_result"
    },
    {
     "data": {
      "image/png": "[encoded data removed]",
      "text/plain": [
       "<Figure size 1080x648 with 1 Axes>"
      ]
     },
     "metadata": {
      "needs_background": "light"
     },
     "output_type": "display_data"
    }
   ],
   "source": [
    "# Plot the values\n",
    "fig, ax = plt.subplots(figsize=(15,9))\n",
    "\n",
    "# Get cefficients\n",
    "model_C_1 = (model_Z_2 * model_c_l_0 - model_c_s_0) / (model_Z_2 - model_Z_1)\n",
    "model_C_2 = -(model_Z_1 * model_c_l_0 - model_c_s_0) / (model_Z_2 - model_Z_1)\n",
    "\n",
    "# Get model values\n",
    "model_c_l_1 = np.exp(-(model_A + model_B) / 2. * model_t)\n",
    "model_c_l_2 = np.exp(-(model_A - model_B) / 2. * model_t)\n",
    "\n",
    "# Plot results\n",
    "ax.plot(model_t, model_C_1 * model_c_l_1, label='Transient solution')\n",
    "ax.plot(model_t, model_C_2 * model_c_l_2, label='Steady state solution')\n",
    "ax.plot(model_t, model_c_l, 'k--', label='Combined solution')\n",
    "\n",
    "# Label the axes\n",
    "ax.set_xlabel('Time (s)')\n",
    "ax.set_ylabel('Concentration of Soluble Coffee in Liquid Phase (kg/m^3)')\n",
    "\n",
    "# Add a legend\n",
    "plt.legend()"
   ]
  },
  {
   "cell_type": "markdown",
   "id": "460866cb",
   "metadata": {},
   "source": [
    "We can see that the early response is driven by $c_{l,1}$, but as time goes on, $c_{l,2}$ dominates. We can think of the steady state solution as where the extraction \"wants\" to be, and the transient solution as how it gets there.\n",
    "\n",
    "What conditions would lead the transient solution to vanish? In this case, we would have:\n",
    "\n",
    "$$\n",
    "C_1 = 0 \\quad \\Rightarrow \\quad \\frac{Z_2 c_l(0) - c_s(0)}{Z_2 - Z_1} = 0 \\quad \\Rightarrow \\quad \\frac{c_s(0)}{c_l(0)} = Z_2 = \\frac{A + B - 2 K_s}{2 K_l}\n",
    "$$\n",
    "\n",
    "If $c_s(0) / c_l(0) < Z_2$, then we have an excess of soluble coffee in the liquid phase, and the concentration will initially drop to meet the steady state curve; on the other hand, if $c_s(0) / c_l(0) > Z_2$, then we have a deficit of soluble coffee in the liquid phase, and the concentration will initially rise to meet the steady state curve. These two cases are shown in the plot below."
   ]
  },
  {
   "cell_type": "code",
   "execution_count": 12,
   "id": "66ebf73f",
   "metadata": {},
   "outputs": [
    {
     "data": {
      "text/plain": [
       "<matplotlib.legend.Legend at 0x23a51e95340>"
      ]
     },
     "execution_count": 12,
     "metadata": {},
     "output_type": "execute_result"
    },
    {
     "data": {
      "image/png": "[encoded data removed]",
      "text/plain": [
       "<Figure size 1080x648 with 1 Axes>"
      ]
     },
     "metadata": {
      "needs_background": "light"
     },
     "output_type": "display_data"
    }
   ],
   "source": [
    "# Get model values\n",
    "c_l_eq = get_model_c_l(model_t, model_c_s_0 / model_Z_2, model_c_s_0)\n",
    "c_l_gt = get_model_c_l(model_t, model_c_s_0 / model_Z_2 * 1.3, model_c_s_0)\n",
    "c_l_lt = get_model_c_l(model_t, model_c_s_0 / model_Z_2 * 0.7, model_c_s_0)\n",
    "\n",
    "# Plot results\n",
    "fig, ax = plt.subplots(figsize=(15,9))\n",
    "ax.plot(model_t, c_l_lt, label='Deficit in liquid phase')\n",
    "ax.plot(model_t, c_l_gt, label='Excess in liquid phase')\n",
    "ax.plot(model_t, c_l_eq, 'k--', label='Steady state solution')\n",
    "\n",
    "# Label the axes\n",
    "ax.set_xlabel('Time (s)')\n",
    "ax.set_ylabel('Concentration of Soluble Coffee in Liquid Phase (kg/m^3)')\n",
    "\n",
    "# Add a legend\n",
    "plt.legend()"
   ]
  },
  {
   "cell_type": "markdown",
   "id": "f3222400",
   "metadata": {},
   "source": [
    "How would we get an excess or deficit of soluble coffee in the liquid phase?\n",
    "\n",
    "The most obvious example is preinfusion. In this case, we pump water through the puck until it's completely wetted, then we stop the flow of water. Coffee is no longer carried away by the flow of water, so it accumulates in the liquid phase. When we start the flow of water again, the first liquid to come out of the portafilter contains an excess of soluble coffee.\n",
    "\n",
    "This may also occur as a normal part of the wetting process. For example, if the ground coffee doesn't pass solubles to the liquid phase as efficiently until it's completely wetted, then we would expect the first drops out of the portafilter to contain a deficit of soluble coffee, compared to the steady state solution."
   ]
  },
  {
   "cell_type": "markdown",
   "id": "1643e453",
   "metadata": {},
   "source": [
    "# Conclusion\n",
    "\n",
    "We have developed an analytic solution to a simplified model of espresso extraction. This model ties the underlying physical attributes of the ground coffee to things we can observe--i.e., the concentration of soluble coffee in the liquid coming out of the portafilter.\n",
    "\n",
    "Next, we will try to use this model to infer the physical attributes from experimental measurements of total dissolved solids."
   ]
  },
  {
   "cell_type": "markdown",
   "id": "d2163ccb",
   "metadata": {},
   "source": [
    "# References\n",
    "\n",
    "[1] https://doi.org/10.1371/journal.pone.0219906"
   ]
  }
 ],
 "metadata": {
  "kernelspec": {
   "display_name": "Python 3",
   "language": "python",
   "name": "python3"
  },
  "language_info": {
   "codemirror_mode": {
    "name": "ipython",
    "version": 3
   },
   "file_extension": ".py",
   "mimetype": "text/x-python",
   "name": "python",
   "nbconvert_exporter": "python",
   "pygments_lexer": "ipython3",
   "version": "3.9.5"
  }
 },
 "nbformat": 4,
 "nbformat_minor": 5
}
