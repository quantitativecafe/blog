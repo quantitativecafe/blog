{
 "cells": [
  {
   "cell_type": "code",
   "execution_count": 1,
   "id": "8bd2a920",
   "metadata": {},
   "outputs": [],
   "source": [
    "import numpy as np\n",
    "import pandas as pd\n",
    "import matplotlib.pyplot as plt\n",
    "from scipy.stats import norm\n",
    "from scipy.optimize import minimize\n",
    "from scipy.optimize import dual_annealing"
   ]
  },
  {
   "cell_type": "code",
   "execution_count": 2,
   "id": "6631dbf5",
   "metadata": {},
   "outputs": [
    {
     "data": {
      "text/html": [
       "\n",
       "<style>\n",
       ".output_png {\n",
       "    display: table-cell;\n",
       "    text-align: center;\n",
       "    vertical-align: middle;\n",
       "}\n",
       "</style>\n"
      ],
      "text/plain": [
       "<IPython.core.display.HTML object>"
      ]
     },
     "execution_count": 2,
     "metadata": {},
     "output_type": "execute_result"
    }
   ],
   "source": [
    "from IPython.core.display import HTML\n",
    "\n",
    "# Center plots\n",
    "HTML(\"\"\"\n",
    "<style>\n",
    ".output_png {\n",
    "    display: table-cell;\n",
    "    text-align: center;\n",
    "    vertical-align: middle;\n",
    "}\n",
    "</style>\n",
    "\"\"\")"
   ]
  },
  {
   "cell_type": "code",
   "execution_count": 3,
   "id": "f20978ae",
   "metadata": {},
   "outputs": [
    {
     "data": {
      "text/html": [
       "<div>\n",
       "<style scoped>\n",
       "    .dataframe tbody tr th:only-of-type {\n",
       "        vertical-align: middle;\n",
       "    }\n",
       "\n",
       "    .dataframe tbody tr th {\n",
       "        vertical-align: top;\n",
       "    }\n",
       "\n",
       "    .dataframe thead th {\n",
       "        text-align: right;\n",
       "    }\n",
       "</style>\n",
       "<table border=\"1\" class=\"dataframe\">\n",
       "  <thead>\n",
       "    <tr style=\"text-align: right;\">\n",
       "      <th></th>\n",
       "      <th>grind_setting</th>\n",
       "      <th>weight_in_grinder</th>\n",
       "      <th>weight_in_basket</th>\n",
       "      <th>depth_below_rim</th>\n",
       "      <th>notes</th>\n",
       "    </tr>\n",
       "    <tr>\n",
       "      <th>id</th>\n",
       "      <th></th>\n",
       "      <th></th>\n",
       "      <th></th>\n",
       "      <th></th>\n",
       "      <th></th>\n",
       "    </tr>\n",
       "  </thead>\n",
       "  <tbody>\n",
       "    <tr>\n",
       "      <th>65</th>\n",
       "      <td>5.25</td>\n",
       "      <td>15.19</td>\n",
       "      <td>15.17</td>\n",
       "      <td>15.03</td>\n",
       "      <td>NaN</td>\n",
       "    </tr>\n",
       "    <tr>\n",
       "      <th>66</th>\n",
       "      <td>5.25</td>\n",
       "      <td>15.10</td>\n",
       "      <td>15.01</td>\n",
       "      <td>15.41</td>\n",
       "      <td>NaN</td>\n",
       "    </tr>\n",
       "    <tr>\n",
       "      <th>67</th>\n",
       "      <td>5.75</td>\n",
       "      <td>15.12</td>\n",
       "      <td>15.01</td>\n",
       "      <td>14.96</td>\n",
       "      <td>NaN</td>\n",
       "    </tr>\n",
       "    <tr>\n",
       "      <th>68</th>\n",
       "      <td>5.75</td>\n",
       "      <td>15.15</td>\n",
       "      <td>15.12</td>\n",
       "      <td>14.86</td>\n",
       "      <td>NaN</td>\n",
       "    </tr>\n",
       "    <tr>\n",
       "      <th>69</th>\n",
       "      <td>5.75</td>\n",
       "      <td>15.11</td>\n",
       "      <td>15.01</td>\n",
       "      <td>15.27</td>\n",
       "      <td>NaN</td>\n",
       "    </tr>\n",
       "  </tbody>\n",
       "</table>\n",
       "</div>"
      ],
      "text/plain": [
       "    grind_setting  weight_in_grinder  weight_in_basket  depth_below_rim notes\n",
       "id                                                                           \n",
       "65           5.25              15.19             15.17            15.03   NaN\n",
       "66           5.25              15.10             15.01            15.41   NaN\n",
       "67           5.75              15.12             15.01            14.96   NaN\n",
       "68           5.75              15.15             15.12            14.86   NaN\n",
       "69           5.75              15.11             15.01            15.27   NaN"
      ]
     },
     "execution_count": 3,
     "metadata": {},
     "output_type": "execute_result"
    }
   ],
   "source": [
    "depths = pd.read_excel('depth-measurements.xlsx', sheet_name='Sheet1', header=0, index_col=0)\n",
    "depths.tail()"
   ]
  },
  {
   "cell_type": "code",
   "execution_count": 4,
   "id": "bde8aa5e",
   "metadata": {},
   "outputs": [
    {
     "data": {
      "text/html": [
       "<div>\n",
       "<style scoped>\n",
       "    .dataframe tbody tr th:only-of-type {\n",
       "        vertical-align: middle;\n",
       "    }\n",
       "\n",
       "    .dataframe tbody tr th {\n",
       "        vertical-align: top;\n",
       "    }\n",
       "\n",
       "    .dataframe thead th {\n",
       "        text-align: right;\n",
       "    }\n",
       "</style>\n",
       "<table border=\"1\" class=\"dataframe\">\n",
       "  <thead>\n",
       "    <tr style=\"text-align: right;\">\n",
       "      <th></th>\n",
       "      <th>grind_setting</th>\n",
       "      <th>weight_in_grinder</th>\n",
       "      <th>weight_in_basket</th>\n",
       "      <th>depth_below_rim</th>\n",
       "      <th>notes</th>\n",
       "      <th>bed_density</th>\n",
       "    </tr>\n",
       "    <tr>\n",
       "      <th>id</th>\n",
       "      <th></th>\n",
       "      <th></th>\n",
       "      <th></th>\n",
       "      <th></th>\n",
       "      <th></th>\n",
       "      <th></th>\n",
       "    </tr>\n",
       "  </thead>\n",
       "  <tbody>\n",
       "    <tr>\n",
       "      <th>65</th>\n",
       "      <td>5.25</td>\n",
       "      <td>15.19</td>\n",
       "      <td>15.17</td>\n",
       "      <td>15.03</td>\n",
       "      <td>NaN</td>\n",
       "      <td>0.418139</td>\n",
       "    </tr>\n",
       "    <tr>\n",
       "      <th>66</th>\n",
       "      <td>5.25</td>\n",
       "      <td>15.10</td>\n",
       "      <td>15.01</td>\n",
       "      <td>15.41</td>\n",
       "      <td>NaN</td>\n",
       "      <td>0.425926</td>\n",
       "    </tr>\n",
       "    <tr>\n",
       "      <th>67</th>\n",
       "      <td>5.75</td>\n",
       "      <td>15.12</td>\n",
       "      <td>15.01</td>\n",
       "      <td>14.96</td>\n",
       "      <td>NaN</td>\n",
       "      <td>0.411558</td>\n",
       "    </tr>\n",
       "    <tr>\n",
       "      <th>68</th>\n",
       "      <td>5.75</td>\n",
       "      <td>15.15</td>\n",
       "      <td>15.12</td>\n",
       "      <td>14.86</td>\n",
       "      <td>NaN</td>\n",
       "      <td>0.411489</td>\n",
       "    </tr>\n",
       "    <tr>\n",
       "      <th>69</th>\n",
       "      <td>5.75</td>\n",
       "      <td>15.11</td>\n",
       "      <td>15.01</td>\n",
       "      <td>15.27</td>\n",
       "      <td>NaN</td>\n",
       "      <td>0.421349</td>\n",
       "    </tr>\n",
       "  </tbody>\n",
       "</table>\n",
       "</div>"
      ],
      "text/plain": [
       "    grind_setting  weight_in_grinder  weight_in_basket  depth_below_rim notes  \\\n",
       "id                                                                              \n",
       "65           5.25              15.19             15.17            15.03   NaN   \n",
       "66           5.25              15.10             15.01            15.41   NaN   \n",
       "67           5.75              15.12             15.01            14.96   NaN   \n",
       "68           5.75              15.15             15.12            14.86   NaN   \n",
       "69           5.75              15.11             15.01            15.27   NaN   \n",
       "\n",
       "    bed_density  \n",
       "id               \n",
       "65     0.418139  \n",
       "66     0.425926  \n",
       "67     0.411558  \n",
       "68     0.411489  \n",
       "69     0.421349  "
      ]
     },
     "execution_count": 4,
     "metadata": {},
     "output_type": "execute_result"
    }
   ],
   "source": [
    "basket_depth = 28.30\n",
    "basket_diameter = 59.00\n",
    "depths['bed_density'] = depths['weight_in_basket'] / ((basket_depth - depths['depth_below_rim']) * np.pi * (basket_diameter/2)**2) * 1000.\n",
    "depths.tail()"
   ]
  },
  {
   "cell_type": "code",
   "execution_count": 5,
   "id": "3ac7a2a3",
   "metadata": {},
   "outputs": [
    {
     "data": {
      "text/plain": [
       "Text(0, 0.5, 'Puck Density (g/cm^3)')"
      ]
     },
     "execution_count": 5,
     "metadata": {},
     "output_type": "execute_result"
    },
    {
     "data": {
      "image/png": "[encoded data removed]",
      "text/plain": [
       "<Figure size 1080x648 with 1 Axes>"
      ]
     },
     "metadata": {
      "needs_background": "light"
     },
     "output_type": "display_data"
    }
   ],
   "source": [
    "fig, ax = plt.subplots(figsize=(15,9))\n",
    "\n",
    "xs = depths[(depths.index < 37)]['grind_setting'].to_numpy()\n",
    "ys = depths[(depths.index < 37)]['bed_density'].to_numpy()\n",
    "\n",
    "ax.scatter(xs, ys)\n",
    "\n",
    "xs = depths[(depths.index >= 37)]['grind_setting'].to_numpy()\n",
    "ys = depths[(depths.index >= 37)]['bed_density'].to_numpy()\n",
    "\n",
    "ax.scatter(xs, ys)\n",
    "\n",
    "ax.set_xlabel('Grind Setting')\n",
    "ax.set_ylabel('Puck Density (g/cm^3)')"
   ]
  }
 ],
 "metadata": {
  "kernelspec": {
   "display_name": "Python 3",
   "language": "python",
   "name": "python3"
  },
  "language_info": {
   "codemirror_mode": {
    "name": "ipython",
    "version": 3
   },
   "file_extension": ".py",
   "mimetype": "text/x-python",
   "name": "python",
   "nbconvert_exporter": "python",
   "pygments_lexer": "ipython3",
   "version": "3.9.5"
  }
 },
 "nbformat": 4,
 "nbformat_minor": 5
}
