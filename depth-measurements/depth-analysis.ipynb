{
 "cells": [
  {
   "cell_type": "code",
   "execution_count": 1,
   "id": "8bd2a920",
   "metadata": {},
   "outputs": [],
   "source": [
    "import numpy as np\n",
    "import pandas as pd\n",
    "import matplotlib.pyplot as plt\n",
    "from scipy.stats import norm\n",
    "from scipy.optimize import minimize\n",
    "from scipy.optimize import dual_annealing"
   ]
  },
  {
   "cell_type": "code",
   "execution_count": 2,
   "id": "6631dbf5",
   "metadata": {},
   "outputs": [
    {
     "data": {
      "text/html": [
       "\n",
       "<style>\n",
       ".output_png {\n",
       "    display: table-cell;\n",
       "    text-align: center;\n",
       "    vertical-align: middle;\n",
       "}\n",
       "</style>\n"
      ],
      "text/plain": [
       "<IPython.core.display.HTML object>"
      ]
     },
     "execution_count": 2,
     "metadata": {},
     "output_type": "execute_result"
    }
   ],
   "source": [
    "from IPython.core.display import HTML\n",
    "\n",
    "# Center plots\n",
    "HTML(\"\"\"\n",
    "<style>\n",
    ".output_png {\n",
    "    display: table-cell;\n",
    "    text-align: center;\n",
    "    vertical-align: middle;\n",
    "}\n",
    "</style>\n",
    "\"\"\")"
   ]
  },
  {
   "cell_type": "code",
   "execution_count": 3,
   "id": "f20978ae",
   "metadata": {},
   "outputs": [
    {
     "data": {
      "text/html": [
       "<div>\n",
       "<style scoped>\n",
       "    .dataframe tbody tr th:only-of-type {\n",
       "        vertical-align: middle;\n",
       "    }\n",
       "\n",
       "    .dataframe tbody tr th {\n",
       "        vertical-align: top;\n",
       "    }\n",
       "\n",
       "    .dataframe thead th {\n",
       "        text-align: right;\n",
       "    }\n",
       "</style>\n",
       "<table border=\"1\" class=\"dataframe\">\n",
       "  <thead>\n",
       "    <tr style=\"text-align: right;\">\n",
       "      <th></th>\n",
       "      <th>grind_setting</th>\n",
       "      <th>weight_in_grinder</th>\n",
       "      <th>weight_in_basket</th>\n",
       "      <th>depth_below_rim</th>\n",
       "      <th>notes</th>\n",
       "    </tr>\n",
       "    <tr>\n",
       "      <th>id</th>\n",
       "      <th></th>\n",
       "      <th></th>\n",
       "      <th></th>\n",
       "      <th></th>\n",
       "      <th></th>\n",
       "    </tr>\n",
       "  </thead>\n",
       "  <tbody>\n",
       "    <tr>\n",
       "      <th>65</th>\n",
       "      <td>5.25</td>\n",
       "      <td>15.19</td>\n",
       "      <td>15.17</td>\n",
       "      <td>15.03</td>\n",
       "      <td>NaN</td>\n",
       "    </tr>\n",
       "    <tr>\n",
       "      <th>66</th>\n",
       "      <td>5.25</td>\n",
       "      <td>15.10</td>\n",
       "      <td>15.01</td>\n",
       "      <td>15.41</td>\n",
       "      <td>NaN</td>\n",
       "    </tr>\n",
       "    <tr>\n",
       "      <th>67</th>\n",
       "      <td>5.75</td>\n",
       "      <td>15.12</td>\n",
       "      <td>15.01</td>\n",
       "      <td>14.96</td>\n",
       "      <td>NaN</td>\n",
       "    </tr>\n",
       "    <tr>\n",
       "      <th>68</th>\n",
       "      <td>5.75</td>\n",
       "      <td>15.15</td>\n",
       "      <td>15.12</td>\n",
       "      <td>14.86</td>\n",
       "      <td>NaN</td>\n",
       "    </tr>\n",
       "    <tr>\n",
       "      <th>69</th>\n",
       "      <td>5.75</td>\n",
       "      <td>15.11</td>\n",
       "      <td>15.01</td>\n",
       "      <td>15.27</td>\n",
       "      <td>NaN</td>\n",
       "    </tr>\n",
       "  </tbody>\n",
       "</table>\n",
       "</div>"
      ],
      "text/plain": [
       "    grind_setting  weight_in_grinder  weight_in_basket  depth_below_rim notes\n",
       "id                                                                           \n",
       "65           5.25              15.19             15.17            15.03   NaN\n",
       "66           5.25              15.10             15.01            15.41   NaN\n",
       "67           5.75              15.12             15.01            14.96   NaN\n",
       "68           5.75              15.15             15.12            14.86   NaN\n",
       "69           5.75              15.11             15.01            15.27   NaN"
      ]
     },
     "execution_count": 3,
     "metadata": {},
     "output_type": "execute_result"
    }
   ],
   "source": [
    "depths = pd.read_excel('depth-measurements.xlsx', sheet_name='Sheet1', header=0, index_col=0)\n",
    "depths.tail()"
   ]
  },
  {
   "cell_type": "code",
   "execution_count": 4,
   "id": "bde8aa5e",
   "metadata": {},
   "outputs": [
    {
     "data": {
      "text/html": [
       "<div>\n",
       "<style scoped>\n",
       "    .dataframe tbody tr th:only-of-type {\n",
       "        vertical-align: middle;\n",
       "    }\n",
       "\n",
       "    .dataframe tbody tr th {\n",
       "        vertical-align: top;\n",
       "    }\n",
       "\n",
       "    .dataframe thead th {\n",
       "        text-align: right;\n",
       "    }\n",
       "</style>\n",
       "<table border=\"1\" class=\"dataframe\">\n",
       "  <thead>\n",
       "    <tr style=\"text-align: right;\">\n",
       "      <th></th>\n",
       "      <th>grind_setting</th>\n",
       "      <th>weight_in_grinder</th>\n",
       "      <th>weight_in_basket</th>\n",
       "      <th>depth_below_rim</th>\n",
       "      <th>notes</th>\n",
       "      <th>bed_density</th>\n",
       "    </tr>\n",
       "    <tr>\n",
       "      <th>id</th>\n",
       "      <th></th>\n",
       "      <th></th>\n",
       "      <th></th>\n",
       "      <th></th>\n",
       "      <th></th>\n",
       "      <th></th>\n",
       "    </tr>\n",
       "  </thead>\n",
       "  <tbody>\n",
       "    <tr>\n",
       "      <th>65</th>\n",
       "      <td>5.25</td>\n",
       "      <td>15.19</td>\n",
       "      <td>15.17</td>\n",
       "      <td>15.03</td>\n",
       "      <td>NaN</td>\n",
       "      <td>0.418139</td>\n",
       "    </tr>\n",
       "    <tr>\n",
       "      <th>66</th>\n",
       "      <td>5.25</td>\n",
       "      <td>15.10</td>\n",
       "      <td>15.01</td>\n",
       "      <td>15.41</td>\n",
       "      <td>NaN</td>\n",
       "      <td>0.425926</td>\n",
       "    </tr>\n",
       "    <tr>\n",
       "      <th>67</th>\n",
       "      <td>5.75</td>\n",
       "      <td>15.12</td>\n",
       "      <td>15.01</td>\n",
       "      <td>14.96</td>\n",
       "      <td>NaN</td>\n",
       "      <td>0.411558</td>\n",
       "    </tr>\n",
       "    <tr>\n",
       "      <th>68</th>\n",
       "      <td>5.75</td>\n",
       "      <td>15.15</td>\n",
       "      <td>15.12</td>\n",
       "      <td>14.86</td>\n",
       "      <td>NaN</td>\n",
       "      <td>0.411489</td>\n",
       "    </tr>\n",
       "    <tr>\n",
       "      <th>69</th>\n",
       "      <td>5.75</td>\n",
       "      <td>15.11</td>\n",
       "      <td>15.01</td>\n",
       "      <td>15.27</td>\n",
       "      <td>NaN</td>\n",
       "      <td>0.421349</td>\n",
       "    </tr>\n",
       "  </tbody>\n",
       "</table>\n",
       "</div>"
      ],
      "text/plain": [
       "    grind_setting  weight_in_grinder  weight_in_basket  depth_below_rim notes  \\\n",
       "id                                                                              \n",
       "65           5.25              15.19             15.17            15.03   NaN   \n",
       "66           5.25              15.10             15.01            15.41   NaN   \n",
       "67           5.75              15.12             15.01            14.96   NaN   \n",
       "68           5.75              15.15             15.12            14.86   NaN   \n",
       "69           5.75              15.11             15.01            15.27   NaN   \n",
       "\n",
       "    bed_density  \n",
       "id               \n",
       "65     0.418139  \n",
       "66     0.425926  \n",
       "67     0.411558  \n",
       "68     0.411489  \n",
       "69     0.421349  "
      ]
     },
     "execution_count": 4,
     "metadata": {},
     "output_type": "execute_result"
    }
   ],
   "source": [
    "basket_depth = 28.30\n",
    "basket_diameter = 59.00\n",
    "depths['bed_density'] = depths['weight_in_basket'] / ((basket_depth - depths['depth_below_rim']) * np.pi * (basket_diameter/2)**2) * 1000.\n",
    "depths.tail()"
   ]
  },
  {
   "cell_type": "code",
   "execution_count": 5,
   "id": "3ac7a2a3",
   "metadata": {},
   "outputs": [
    {
     "data": {
      "text/plain": [
       "Text(0, 0.5, 'Puck Density (g/cm^3)')"
      ]
     },
     "execution_count": 5,
     "metadata": {},
     "output_type": "execute_result"
    },
    {
     "data": {
      "image/png": "[encoded data removed]",
      "text/plain": [
       "<Figure size 1080x648 with 1 Axes>"
      ]
     },
     "metadata": {
      "needs_background": "light"
     },
     "output_type": "display_data"
    }
   ],
   "source": [
    "fig, ax = plt.subplots(figsize=(15,9))\n",
    "\n",
    "xs = depths[(depths.index < 37)]['grind_setting'].to_numpy()\n",
    "ys = depths[(depths.index < 37)]['bed_density'].to_numpy()\n",
    "\n",
    "ax.scatter(xs, ys)\n",
    "\n",
    "xs = depths[(depths.index >= 37)]['grind_setting'].to_numpy()\n",
    "ys = depths[(depths.index >= 37)]['bed_density'].to_numpy()\n",
    "\n",
    "ax.scatter(xs, ys)\n",
    "\n",
    "ax.set_xlabel('Grind Setting')\n",
    "ax.set_ylabel('Puck Density (g/cm^3)')"
   ]
  },
  {
   "cell_type": "code",
   "execution_count": 6,
   "id": "f5307be8",
   "metadata": {},
   "outputs": [
    {
     "data": {
      "text/plain": [
       "(array([ 0.,  0.,  0.,  0.,  0.,  0.,  0.,  0.,  0.,  0.,  0.,  0.,  0.,\n",
       "         0.,  0.,  0.,  0.,  0.,  0.,  1.,  0.,  0.,  0.,  0.,  0.,  0.,\n",
       "         0.,  0.,  0.,  0.,  0.,  0.,  0.,  0.,  1.,  0.,  0.,  0.,  0.,\n",
       "         0.,  0.,  0.,  0.,  0.,  0.,  0.,  0.,  0.,  0.,  0.,  0.,  0.,\n",
       "         0.,  0.,  0.,  0.,  0.,  0.,  0.,  0.,  0.,  0.,  0.,  0.,  0.,\n",
       "         0.,  0.,  0.,  0.,  0.,  0.,  0.,  0.,  0.,  0.,  1.,  0.,  0.,\n",
       "         0.,  1.,  0.,  0.,  0.,  0.,  0.,  0.,  1.,  2.,  1.,  0.,  0.,\n",
       "         0.,  0.,  0.,  0.,  0.,  0.,  0.,  0.,  4.,  3., 25.,  0.,  0.,\n",
       "         0.,  0.,  0.,  0.,  0.,  0.,  5., 28.,  0., 13.,  8.,  6.,  3.,\n",
       "         8.,  3.,  3.,  5.,  4.,  2.,  2.,  1.,  4.,  1.,  0.,  0.,  1.,\n",
       "         0.,  0.,  0.,  0.,  0.,  0.,  1.,  0.,  0.,  0.,  0.,  0.,  0.,\n",
       "         0.,  0.,  0.,  0.,  0.,  0.,  0.,  0.,  0.,  0.,  0.,  0.,  0.,\n",
       "         0.,  0.,  0.,  0.,  0.,  0.,  0.,  0.,  0.,  0.,  0.,  0.,  0.,\n",
       "         0.,  0.,  0.,  0.,  0.,  0.,  0.,  0.,  0.,  0.,  0.,  0.,  0.,\n",
       "         0.,  0.,  0.,  0.,  0.,  0.,  0.,  0.,  0.,  0.,  0.,  0.,  0.,\n",
       "         0.,  0.,  0.,  0.,  0.]),\n",
       " array([14.  , 14.01, 14.02, 14.03, 14.04, 14.05, 14.06, 14.07, 14.08,\n",
       "        14.09, 14.1 , 14.11, 14.12, 14.13, 14.14, 14.15, 14.16, 14.17,\n",
       "        14.18, 14.19, 14.2 , 14.21, 14.22, 14.23, 14.24, 14.25, 14.26,\n",
       "        14.27, 14.28, 14.29, 14.3 , 14.31, 14.32, 14.33, 14.34, 14.35,\n",
       "        14.36, 14.37, 14.38, 14.39, 14.4 , 14.41, 14.42, 14.43, 14.44,\n",
       "        14.45, 14.46, 14.47, 14.48, 14.49, 14.5 , 14.51, 14.52, 14.53,\n",
       "        14.54, 14.55, 14.56, 14.57, 14.58, 14.59, 14.6 , 14.61, 14.62,\n",
       "        14.63, 14.64, 14.65, 14.66, 14.67, 14.68, 14.69, 14.7 , 14.71,\n",
       "        14.72, 14.73, 14.74, 14.75, 14.76, 14.77, 14.78, 14.79, 14.8 ,\n",
       "        14.81, 14.82, 14.83, 14.84, 14.85, 14.86, 14.87, 14.88, 14.89,\n",
       "        14.9 , 14.91, 14.92, 14.93, 14.94, 14.95, 14.96, 14.97, 14.98,\n",
       "        14.99, 15.  , 15.01, 15.02, 15.03, 15.04, 15.05, 15.06, 15.07,\n",
       "        15.08, 15.09, 15.1 , 15.11, 15.12, 15.13, 15.14, 15.15, 15.16,\n",
       "        15.17, 15.18, 15.19, 15.2 , 15.21, 15.22, 15.23, 15.24, 15.25,\n",
       "        15.26, 15.27, 15.28, 15.29, 15.3 , 15.31, 15.32, 15.33, 15.34,\n",
       "        15.35, 15.36, 15.37, 15.38, 15.39, 15.4 , 15.41, 15.42, 15.43,\n",
       "        15.44, 15.45, 15.46, 15.47, 15.48, 15.49, 15.5 , 15.51, 15.52,\n",
       "        15.53, 15.54, 15.55, 15.56, 15.57, 15.58, 15.59, 15.6 , 15.61,\n",
       "        15.62, 15.63, 15.64, 15.65, 15.66, 15.67, 15.68, 15.69, 15.7 ,\n",
       "        15.71, 15.72, 15.73, 15.74, 15.75, 15.76, 15.77, 15.78, 15.79,\n",
       "        15.8 , 15.81, 15.82, 15.83, 15.84, 15.85, 15.86, 15.87, 15.88,\n",
       "        15.89, 15.9 , 15.91, 15.92, 15.93, 15.94, 15.95, 15.96, 15.97,\n",
       "        15.98, 15.99, 16.  ]),\n",
       " <BarContainer object of 200 artists>)"
      ]
     },
     "execution_count": 6,
     "metadata": {},
     "output_type": "execute_result"
    },
    {
     "data": {
      "image/png": "[encoded data removed]",
      "text/plain": [
       "<Figure size 1080x648 with 1 Axes>"
      ]
     },
     "metadata": {
      "needs_background": "light"
     },
     "output_type": "display_data"
    }
   ],
   "source": [
    "fig, ax = plt.subplots(figsize=(15,9))\n",
    "\n",
    "weights = np.concatenate([depths['weight_in_grinder'], depths['weight_in_basket']])\n",
    "\n",
    "ax.hist(weights, bins=200, range=(14., 16.))"
   ]
  }
 ],
 "metadata": {
  "kernelspec": {
   "display_name": "Python 3",
   "language": "python",
   "name": "python3"
  },
  "language_info": {
   "codemirror_mode": {
    "name": "ipython",
    "version": 3
   },
   "file_extension": ".py",
   "mimetype": "text/x-python",
   "name": "python",
   "nbconvert_exporter": "python",
   "pygments_lexer": "ipython3",
   "version": "3.9.5"
  }
 },
 "nbformat": 4,
 "nbformat_minor": 5
}
