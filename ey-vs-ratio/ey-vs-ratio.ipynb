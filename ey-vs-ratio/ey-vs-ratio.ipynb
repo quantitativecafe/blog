{
 "cells": [
  {
   "cell_type": "code",
   "execution_count": 1,
   "id": "9b00067d",
   "metadata": {},
   "outputs": [],
   "source": [
    "import numpy as np\n",
    "import pandas as pd\n",
    "import matplotlib.pyplot as plt\n",
    "from scipy.optimize import minimize\n",
    "import emcee\n",
    "import corner\n",
    "from IPython.display import display, Math\n",
    "from lineticks import LineTicks\n",
    "from scipy import integrate\n",
    "from scipy.stats import norm"
   ]
  },
  {
   "cell_type": "code",
   "execution_count": 2,
   "id": "2203ed7b",
   "metadata": {},
   "outputs": [
    {
     "data": {
      "text/html": [
       "\n",
       "<style>\n",
       ".output_png {\n",
       "    display: table-cell;\n",
       "    text-align: center;\n",
       "    vertical-align: middle;\n",
       "}\n",
       "</style>\n"
      ],
      "text/plain": [
       "<IPython.core.display.HTML object>"
      ]
     },
     "execution_count": 2,
     "metadata": {},
     "output_type": "execute_result"
    }
   ],
   "source": [
    "from IPython.core.display import HTML\n",
    "\n",
    "# Center plots\n",
    "HTML(\"\"\"\n",
    "<style>\n",
    ".output_png {\n",
    "    display: table-cell;\n",
    "    text-align: center;\n",
    "    vertical-align: middle;\n",
    "}\n",
    "</style>\n",
    "\"\"\")"
   ]
  },
  {
   "cell_type": "markdown",
   "id": "4fde5a31",
   "metadata": {},
   "source": [
    "We define some things for $\\LaTeX$ here.\n",
    "$\n",
    "\\def\\D{\\mathrm{d}}\n",
    "\\def\\T{\\mathsf{T}}\n",
    "$"
   ]
  },
  {
   "cell_type": "markdown",
   "id": "6f6ef5c3",
   "metadata": {},
   "source": [
    "# The data\n",
    "\n",
    "Let's read some data. First we read the data for each shot."
   ]
  },
  {
   "cell_type": "code",
   "execution_count": 3,
   "id": "d3bc3ddb",
   "metadata": {},
   "outputs": [
    {
     "data": {
      "text/html": [
       "<div>\n",
       "<style scoped>\n",
       "    .dataframe tbody tr th:only-of-type {\n",
       "        vertical-align: middle;\n",
       "    }\n",
       "\n",
       "    .dataframe tbody tr th {\n",
       "        vertical-align: top;\n",
       "    }\n",
       "\n",
       "    .dataframe thead th {\n",
       "        text-align: right;\n",
       "    }\n",
       "</style>\n",
       "<table border=\"1\" class=\"dataframe\">\n",
       "  <thead>\n",
       "    <tr style=\"text-align: right;\">\n",
       "      <th></th>\n",
       "      <th>config_id</th>\n",
       "      <th>weight_in_basket</th>\n",
       "      <th>split_weight</th>\n",
       "      <th>split_brix</th>\n",
       "    </tr>\n",
       "    <tr>\n",
       "      <th>id</th>\n",
       "      <th></th>\n",
       "      <th></th>\n",
       "      <th></th>\n",
       "      <th></th>\n",
       "    </tr>\n",
       "  </thead>\n",
       "  <tbody>\n",
       "    <tr>\n",
       "      <th>6</th>\n",
       "      <td>1</td>\n",
       "      <td>18.06</td>\n",
       "      <td>10.06</td>\n",
       "      <td>26.2</td>\n",
       "    </tr>\n",
       "    <tr>\n",
       "      <th>7</th>\n",
       "      <td>1</td>\n",
       "      <td>18.07</td>\n",
       "      <td>41.39</td>\n",
       "      <td>10.7</td>\n",
       "    </tr>\n",
       "    <tr>\n",
       "      <th>8</th>\n",
       "      <td>1</td>\n",
       "      <td>18.18</td>\n",
       "      <td>39.86</td>\n",
       "      <td>10.3</td>\n",
       "    </tr>\n",
       "    <tr>\n",
       "      <th>9</th>\n",
       "      <td>1</td>\n",
       "      <td>18.14</td>\n",
       "      <td>9.97</td>\n",
       "      <td>25.9</td>\n",
       "    </tr>\n",
       "    <tr>\n",
       "      <th>10</th>\n",
       "      <td>1</td>\n",
       "      <td>18.11</td>\n",
       "      <td>9.63</td>\n",
       "      <td>25.9</td>\n",
       "    </tr>\n",
       "  </tbody>\n",
       "</table>\n",
       "</div>"
      ],
      "text/plain": [
       "    config_id  weight_in_basket  split_weight  split_brix\n",
       "id                                                       \n",
       "6           1             18.06         10.06        26.2\n",
       "7           1             18.07         41.39        10.7\n",
       "8           1             18.18         39.86        10.3\n",
       "9           1             18.14          9.97        25.9\n",
       "10          1             18.11          9.63        25.9"
      ]
     },
     "execution_count": 3,
     "metadata": {},
     "output_type": "execute_result"
    }
   ],
   "source": [
    "shots = pd.read_csv('shots.csv', index_col=0)\n",
    "shots.tail()"
   ]
  },
  {
   "cell_type": "markdown",
   "id": "9f0a4f48",
   "metadata": {},
   "source": [
    "Each shot belongs to a configuration. The description for each configuration is located in a second file."
   ]
  },
  {
   "cell_type": "code",
   "execution_count": 4,
   "id": "38cf6dca",
   "metadata": {},
   "outputs": [
    {
     "data": {
      "text/html": [
       "<div>\n",
       "<style scoped>\n",
       "    .dataframe tbody tr th:only-of-type {\n",
       "        vertical-align: middle;\n",
       "    }\n",
       "\n",
       "    .dataframe tbody tr th {\n",
       "        vertical-align: top;\n",
       "    }\n",
       "\n",
       "    .dataframe thead th {\n",
       "        text-align: right;\n",
       "    }\n",
       "</style>\n",
       "<table border=\"1\" class=\"dataframe\">\n",
       "  <thead>\n",
       "    <tr style=\"text-align: right;\">\n",
       "      <th></th>\n",
       "      <th>description</th>\n",
       "    </tr>\n",
       "    <tr>\n",
       "      <th>id</th>\n",
       "      <th></th>\n",
       "    </tr>\n",
       "  </thead>\n",
       "  <tbody>\n",
       "    <tr>\n",
       "      <th>1</th>\n",
       "      <td>Hana Asrat Uraga (6.5 bar, no filter, grind 2....</td>\n",
       "    </tr>\n",
       "  </tbody>\n",
       "</table>\n",
       "</div>"
      ],
      "text/plain": [
       "                                          description\n",
       "id                                                   \n",
       "1   Hana Asrat Uraga (6.5 bar, no filter, grind 2...."
      ]
     },
     "execution_count": 4,
     "metadata": {},
     "output_type": "execute_result"
    }
   ],
   "source": [
    "configs = pd.read_csv('configs.csv', index_col=0)\n",
    "configs.tail()"
   ]
  },
  {
   "cell_type": "markdown",
   "id": "add68573",
   "metadata": {},
   "source": [
    "Now we calculate brew ratio, EY, and TDS for each shot."
   ]
  },
  {
   "cell_type": "code",
   "execution_count": 5,
   "id": "16ce2d4f",
   "metadata": {},
   "outputs": [
    {
     "data": {
      "text/html": [
       "<div>\n",
       "<style scoped>\n",
       "    .dataframe tbody tr th:only-of-type {\n",
       "        vertical-align: middle;\n",
       "    }\n",
       "\n",
       "    .dataframe tbody tr th {\n",
       "        vertical-align: top;\n",
       "    }\n",
       "\n",
       "    .dataframe thead th {\n",
       "        text-align: right;\n",
       "    }\n",
       "</style>\n",
       "<table border=\"1\" class=\"dataframe\">\n",
       "  <thead>\n",
       "    <tr style=\"text-align: right;\">\n",
       "      <th></th>\n",
       "      <th>config_id</th>\n",
       "      <th>weight_in_basket</th>\n",
       "      <th>split_weight</th>\n",
       "      <th>split_brix</th>\n",
       "      <th>tds</th>\n",
       "      <th>ey</th>\n",
       "      <th>brew_ratio</th>\n",
       "    </tr>\n",
       "    <tr>\n",
       "      <th>id</th>\n",
       "      <th></th>\n",
       "      <th></th>\n",
       "      <th></th>\n",
       "      <th></th>\n",
       "      <th></th>\n",
       "      <th></th>\n",
       "      <th></th>\n",
       "    </tr>\n",
       "  </thead>\n",
       "  <tbody>\n",
       "    <tr>\n",
       "      <th>6</th>\n",
       "      <td>1</td>\n",
       "      <td>18.06</td>\n",
       "      <td>10.06</td>\n",
       "      <td>26.2</td>\n",
       "      <td>0.22270</td>\n",
       "      <td>0.124051</td>\n",
       "      <td>0.557032</td>\n",
       "    </tr>\n",
       "    <tr>\n",
       "      <th>7</th>\n",
       "      <td>1</td>\n",
       "      <td>18.07</td>\n",
       "      <td>41.39</td>\n",
       "      <td>10.7</td>\n",
       "      <td>0.09095</td>\n",
       "      <td>0.208324</td>\n",
       "      <td>2.290537</td>\n",
       "    </tr>\n",
       "    <tr>\n",
       "      <th>8</th>\n",
       "      <td>1</td>\n",
       "      <td>18.18</td>\n",
       "      <td>39.86</td>\n",
       "      <td>10.3</td>\n",
       "      <td>0.08755</td>\n",
       "      <td>0.191955</td>\n",
       "      <td>2.192519</td>\n",
       "    </tr>\n",
       "    <tr>\n",
       "      <th>9</th>\n",
       "      <td>1</td>\n",
       "      <td>18.14</td>\n",
       "      <td>9.97</td>\n",
       "      <td>25.9</td>\n",
       "      <td>0.22015</td>\n",
       "      <td>0.120998</td>\n",
       "      <td>0.549614</td>\n",
       "    </tr>\n",
       "    <tr>\n",
       "      <th>10</th>\n",
       "      <td>1</td>\n",
       "      <td>18.11</td>\n",
       "      <td>9.63</td>\n",
       "      <td>25.9</td>\n",
       "      <td>0.22015</td>\n",
       "      <td>0.117065</td>\n",
       "      <td>0.531750</td>\n",
       "    </tr>\n",
       "  </tbody>\n",
       "</table>\n",
       "</div>"
      ],
      "text/plain": [
       "    config_id  weight_in_basket  split_weight  split_brix      tds        ey  \\\n",
       "id                                                                             \n",
       "6           1             18.06         10.06        26.2  0.22270  0.124051   \n",
       "7           1             18.07         41.39        10.7  0.09095  0.208324   \n",
       "8           1             18.18         39.86        10.3  0.08755  0.191955   \n",
       "9           1             18.14          9.97        25.9  0.22015  0.120998   \n",
       "10          1             18.11          9.63        25.9  0.22015  0.117065   \n",
       "\n",
       "    brew_ratio  \n",
       "id              \n",
       "6     0.557032  \n",
       "7     2.290537  \n",
       "8     2.192519  \n",
       "9     0.549614  \n",
       "10    0.531750  "
      ]
     },
     "execution_count": 5,
     "metadata": {},
     "output_type": "execute_result"
    }
   ],
   "source": [
    "shots['tds'] = shots['split_brix'] / 100. * 0.85\n",
    "shots['ey'] = shots['tds'] * shots['split_weight'] / shots['weight_in_basket']\n",
    "shots['brew_ratio'] = shots['split_weight'] / shots['weight_in_basket']\n",
    "shots.tail()"
   ]
  },
  {
   "cell_type": "markdown",
   "id": "9d7764cf",
   "metadata": {},
   "source": [
    "# The model\n",
    "\n",
    "We start with the following model of the extraction process:\n",
    "\n",
    "$$\n",
    "\\text{EY} = M \\left( 1 - \\exp \\left( -\\frac{\\text{BR}}{\\tau} \\right) \\right)\n",
    "$$\n",
    "\n",
    "Here, $\\text{EY}$ is the extraction yield, $M$ is the asymptotic extraction yield, $\\text{BR}$ is the brew ratio, and $\\tau$ is the time constant for extraction.\n",
    "\n",
    "What does this look like?"
   ]
  },
  {
   "cell_type": "code",
   "execution_count": 6,
   "id": "6e0953dd",
   "metadata": {},
   "outputs": [
    {
     "data": {
      "text/plain": [
       "[<matplotlib.lines.Line2D at 0x1267c840370>]"
      ]
     },
     "execution_count": 6,
     "metadata": {},
     "output_type": "execute_result"
    },
    {
     "data": {
      "image/png": "[encoded data removed]",
      "text/plain": [
       "<Figure size 1080x648 with 1 Axes>"
      ]
     },
     "metadata": {
      "needs_background": "light"
     },
     "output_type": "display_data"
    }
   ],
   "source": [
    "def model_ey(br, m, tau):\n",
    "    return m * (1 - np.exp(-br / tau))\n",
    "\n",
    "fig, ax = plt.subplots(figsize=(15,9))\n",
    "\n",
    "ax.set_xlabel('Brew Ratio')\n",
    "ax.set_ylabel('Extraction Yield')\n",
    "\n",
    "xs = np.linspace(0., 5., 201)\n",
    "ys = model_ey(xs, 0.2, 0.7)\n",
    "\n",
    "ax.plot(xs, ys)"
   ]
  },
  {
   "cell_type": "markdown",
   "id": "a5731367",
   "metadata": {},
   "source": [
    "We don't measure brew ratio and extraction yield directly. Rather, we will be measuring the mass of dry coffee, $m_c$, the mass of the beverage, $m_b$, and the total dissolved solids, measured as degrees Brix, $\\text{TDS}_{\\text{Brix}}$. From these measurements, we calculate brew ratio and total dissolved solids, as a ratio, as follows:\n",
    "\n",
    "$$\n",
    "\\text{BR} = \\frac{m_b}{m_c}, \\quad \\text{TDS} = 0.85 \\times \\frac{\\text{TDS}_{\\text{Brix}}}{100}\n",
    "$$\n",
    "\n",
    "If we define the model in terms of brew ratio and extraction yield, as we did above, then we'll make our lives a little more difficult later on, because extraction yield depends on both mass and Brix measurements:\n",
    "\n",
    "$$\n",
    "\\text{EY} = \\text{BR} \\times \\text{TDS} = \\frac{m_b}{m_c} \\times 0.85 \\times \\frac{\\text{TDS}_{\\text{Brix}}}{100}\n",
    "$$\n",
    "\n",
    "This would make it more difficult to calculate the error associated with this model. Instead, we'll define the model in terms of brew ratio and TDS:\n",
    "\n",
    "$$\n",
    "\\text{TDS} = \\frac{M}{\\text{BR}} \\left( 1 - \\exp \\left( -\\frac{\\text{BR}}{\\tau} \\right) \\right)\n",
    "$$\n",
    "\n",
    "This will make it a lot easier to calculate model error. Let's see what this looks like."
   ]
  },
  {
   "cell_type": "code",
   "execution_count": 7,
   "id": "ded8498b",
   "metadata": {},
   "outputs": [
    {
     "data": {
      "text/plain": [
       "[<matplotlib.lines.Line2D at 0x1267e8cc790>]"
      ]
     },
     "execution_count": 7,
     "metadata": {},
     "output_type": "execute_result"
    },
    {
     "data": {
      "image/png": "[encoded data removed]",
      "text/plain": [
       "<Figure size 1080x648 with 1 Axes>"
      ]
     },
     "metadata": {
      "needs_background": "light"
     },
     "output_type": "display_data"
    }
   ],
   "source": [
    "def model_tds(br, m, tau):\n",
    "    return m / br * (1 - np.exp(-br / tau))\n",
    "\n",
    "fig, ax = plt.subplots(figsize=(15,9))\n",
    "\n",
    "ax.set_xlabel('Brew Ratio')\n",
    "ax.set_ylabel('Total Dissolved Solids')\n",
    "\n",
    "xs = np.linspace(0., 5., 201)[1:]\n",
    "ys = model_tds(xs, 0.2, 0.7)\n",
    "\n",
    "ax.plot(xs, ys)"
   ]
  },
  {
   "cell_type": "markdown",
   "id": "dc86b75d",
   "metadata": {},
   "source": [
    "# Measurement error\n",
    "\n",
    "We assume our measurement errors are Guassian, with standard deviation $\\sigma_m$ for mass measurements and $\\sigma_{\\text{Brix}}$ for Brix measurements. Now we want to propagate these measurement errors to our calculated values for $\\text{BR}$ and $\\text{TDS}$. First we calculate partial derivatives with respect to each measurement:\n",
    "\n",
    "$$\n",
    "\\begin{gather}\n",
    "\\frac{\\partial \\, \\text{BR}}{\\partial m_b} = \\frac{1}{m_c} \\\\\n",
    "\\frac{\\partial \\, \\text{BR}}{\\partial m_c} = -\\frac{m_b}{m_c^2} \\\\\n",
    "\\frac{\\partial \\, \\text{TDS}}{\\partial \\, \\text{TDS}_\\text{Brix}} = 0.0085 \\\\\n",
    "\\end{gather}\n",
    "$$\n",
    "\n",
    "Then:\n",
    "\n",
    "$$\n",
    "\\begin{align}\n",
    "\\sigma_\\text{BR}^2 &= \\left( \\frac{\\partial \\, \\text{BR}}{\\partial m_b} \\sigma_m \\right)^2 + \\left( \\frac{\\partial \\, \\text{BR}}{\\partial m_c} \\sigma_m \\right)^2 \\\\\n",
    "&= \\left( \\frac{1}{m_c} \\sigma_m \\right)^2 + \\left( -\\frac{m_b}{m_c^2} \\sigma_m \\right)^2 \\\\\n",
    "&= \\frac{\\sigma_m^2}{m_c^2} \\left( 1 + \\left( \\frac{m_b}{m_c} \\right)^2 \\right) \\\\\n",
    "\\end{align}\n",
    "$$\n",
    "\n",
    "and\n",
    "\n",
    "$$\n",
    "\\sigma_\\text{TDS}^2 = \\left( \\frac{\\partial \\, \\text{TDS}}{\\partial \\, \\text{TDS}_\\text{Brix}} \\sigma_\\text{Brix} \\right)^2 = (0.0085 \\times \\sigma_\\text{Brix})^2\n",
    "$$\n",
    "\n",
    "Let's calculate these measurement errors for each point in our data."
   ]
  },
  {
   "cell_type": "code",
   "execution_count": 8,
   "id": "0c1d66ee",
   "metadata": {},
   "outputs": [
    {
     "data": {
      "text/html": [
       "<div>\n",
       "<style scoped>\n",
       "    .dataframe tbody tr th:only-of-type {\n",
       "        vertical-align: middle;\n",
       "    }\n",
       "\n",
       "    .dataframe tbody tr th {\n",
       "        vertical-align: top;\n",
       "    }\n",
       "\n",
       "    .dataframe thead th {\n",
       "        text-align: right;\n",
       "    }\n",
       "</style>\n",
       "<table border=\"1\" class=\"dataframe\">\n",
       "  <thead>\n",
       "    <tr style=\"text-align: right;\">\n",
       "      <th></th>\n",
       "      <th>config_id</th>\n",
       "      <th>weight_in_basket</th>\n",
       "      <th>split_weight</th>\n",
       "      <th>split_brix</th>\n",
       "      <th>tds</th>\n",
       "      <th>ey</th>\n",
       "      <th>brew_ratio</th>\n",
       "      <th>s_tds</th>\n",
       "      <th>s_br</th>\n",
       "    </tr>\n",
       "    <tr>\n",
       "      <th>id</th>\n",
       "      <th></th>\n",
       "      <th></th>\n",
       "      <th></th>\n",
       "      <th></th>\n",
       "      <th></th>\n",
       "      <th></th>\n",
       "      <th></th>\n",
       "      <th></th>\n",
       "      <th></th>\n",
       "    </tr>\n",
       "  </thead>\n",
       "  <tbody>\n",
       "    <tr>\n",
       "      <th>6</th>\n",
       "      <td>1</td>\n",
       "      <td>18.06</td>\n",
       "      <td>10.06</td>\n",
       "      <td>26.2</td>\n",
       "      <td>0.22270</td>\n",
       "      <td>0.124051</td>\n",
       "      <td>0.557032</td>\n",
       "      <td>0.0017</td>\n",
       "      <td>0.003169</td>\n",
       "    </tr>\n",
       "    <tr>\n",
       "      <th>7</th>\n",
       "      <td>1</td>\n",
       "      <td>18.07</td>\n",
       "      <td>41.39</td>\n",
       "      <td>10.7</td>\n",
       "      <td>0.09095</td>\n",
       "      <td>0.208324</td>\n",
       "      <td>2.290537</td>\n",
       "      <td>0.0017</td>\n",
       "      <td>0.006916</td>\n",
       "    </tr>\n",
       "    <tr>\n",
       "      <th>8</th>\n",
       "      <td>1</td>\n",
       "      <td>18.18</td>\n",
       "      <td>39.86</td>\n",
       "      <td>10.3</td>\n",
       "      <td>0.08755</td>\n",
       "      <td>0.191955</td>\n",
       "      <td>2.192519</td>\n",
       "      <td>0.0017</td>\n",
       "      <td>0.006628</td>\n",
       "    </tr>\n",
       "    <tr>\n",
       "      <th>9</th>\n",
       "      <td>1</td>\n",
       "      <td>18.14</td>\n",
       "      <td>9.97</td>\n",
       "      <td>25.9</td>\n",
       "      <td>0.22015</td>\n",
       "      <td>0.120998</td>\n",
       "      <td>0.549614</td>\n",
       "      <td>0.0017</td>\n",
       "      <td>0.003145</td>\n",
       "    </tr>\n",
       "    <tr>\n",
       "      <th>10</th>\n",
       "      <td>1</td>\n",
       "      <td>18.11</td>\n",
       "      <td>9.63</td>\n",
       "      <td>25.9</td>\n",
       "      <td>0.22015</td>\n",
       "      <td>0.117065</td>\n",
       "      <td>0.531750</td>\n",
       "      <td>0.0017</td>\n",
       "      <td>0.003127</td>\n",
       "    </tr>\n",
       "  </tbody>\n",
       "</table>\n",
       "</div>"
      ],
      "text/plain": [
       "    config_id  weight_in_basket  split_weight  split_brix      tds        ey  \\\n",
       "id                                                                             \n",
       "6           1             18.06         10.06        26.2  0.22270  0.124051   \n",
       "7           1             18.07         41.39        10.7  0.09095  0.208324   \n",
       "8           1             18.18         39.86        10.3  0.08755  0.191955   \n",
       "9           1             18.14          9.97        25.9  0.22015  0.120998   \n",
       "10          1             18.11          9.63        25.9  0.22015  0.117065   \n",
       "\n",
       "    brew_ratio   s_tds      s_br  \n",
       "id                                \n",
       "6     0.557032  0.0017  0.003169  \n",
       "7     2.290537  0.0017  0.006916  \n",
       "8     2.192519  0.0017  0.006628  \n",
       "9     0.549614  0.0017  0.003145  \n",
       "10    0.531750  0.0017  0.003127  "
      ]
     },
     "execution_count": 8,
     "metadata": {},
     "output_type": "execute_result"
    }
   ],
   "source": [
    "s_m = 0.05   # Error in weight measurements\n",
    "s_brix = 0.2 # Error in Brix measurements\n",
    "\n",
    "shots['s_tds'] = 0.0085 * s_brix\n",
    "shots['s_br'] = s_m / shots['weight_in_basket'] * np.sqrt(1 + (shots['split_weight'] / shots['weight_in_basket'])**2)\n",
    "shots.tail()"
   ]
  },
  {
   "cell_type": "markdown",
   "id": "b5553b24",
   "metadata": {},
   "source": [
    "# Maximum likelihood\n",
    "\n",
    "There are two schools of thought on how to fit a model to experimental measurements: frequentism and Bayesianism. Jake VanderPlas has an excellent series of articles<sup>[1]</sup> discusing these two options. For this experiment, I'd like to try the Bayesian approach.\n",
    "\n",
    "Given a single measurement $D_i = (\\text{BR}_i, \\text{TDS}_i)$ and a point $x = (\\text{BR}_x, \\text{TDS}_x)$, we can define the probability distribution for that measurement using the errors we just calculated:\n",
    "\n",
    "$$\n",
    "\\begin{align}\n",
    "P(D_i\\,|\\,x) &= \\frac{1}{\\sqrt{\\det (2 \\pi \\Sigma)}} \\exp \\left( -\\frac{1}{2} (D_i - x)^\\T \\Sigma^{-1} (D_i - x) \\right) \\\\\n",
    "&= \\frac{1}{2 \\pi \\sigma_\\text{BR} \\sigma_\\text{TDS}} \\exp \\left( -\\frac{1}{2} \\left( \\frac{(\\text{BR}_i - \\text{BR}_x)^2}{\\sigma_\\text{BR}^2} + \\frac{(\\text{TDS}_i - \\text{TDS}_x)^2}{\\sigma_\\text{TDS}^2} \\right) \\right)\n",
    "\\end{align}\n",
    "$$\n",
    "\n",
    "Further, given a set of model parameters $\\theta$, we can integrate over our modelled curve to get the likelihood of the measurement $D_i$ given those model parameters:\n",
    "\n",
    "$$\n",
    "\\begin{align}\n",
    "\\mathcal{L}(D_i\\,|\\,\\theta) &= \\int P(D_i\\,|\\,x(u, \\theta))\\,\\D u\\\\\n",
    "&= \\int \\frac{1}{2 \\pi \\sigma_\\text{BR} \\sigma_\\text{TDS}} \\exp \\left( -\\frac{1}{2} \\left( \\frac{(\\text{BR}_i - \\text{BR}(u, \\theta))^2}{\\sigma_\\text{BR}^2} + \\frac{(\\text{TDS}_i - \\text{TDS}(u, \\theta))^2}{\\sigma_\\text{TDS}^2} \\right) \\right)\\,\\D u\n",
    "\\end{align}\n",
    "$$\n",
    "\n",
    "It doesn't look like we'll be able to get an analytic solution to this integral, so we'll need to integrate numerically. Let's define a function which returns the likelihood for a single measurement."
   ]
  },
  {
   "cell_type": "code",
   "execution_count": 9,
   "id": "b94a7198",
   "metadata": {},
   "outputs": [],
   "source": [
    "def single_probability(br_x, theta, br_i, tds_i, s_br_i, s_tds_i):\n",
    "    m, tau = theta\n",
    "    tds_x = model_tds(br_x, m, tau)\n",
    "    return norm.pdf(br_x, br_i, s_br_i) * norm.pdf(tds_x, tds_i, s_tds_i)\n",
    "\n",
    "def single_likelihood(theta, br_i, tds_i, s_br_i, s_tds_i):\n",
    "    xs = np.linspace(0., 5., 2501)[1:]\n",
    "    dx = xs[1] - xs[0]\n",
    "    return sum(single_probability(xs, theta, br_i, tds_i, s_br_i, s_tds_i)) * dx"
   ]
  },
  {
   "cell_type": "markdown",
   "id": "af189026",
   "metadata": {},
   "source": [
    "Let's do a sanity check at this point. The discrete integral above should return approximately the same result as numpy's integral."
   ]
  },
  {
   "cell_type": "code",
   "execution_count": 10,
   "id": "7df3c5da",
   "metadata": {},
   "outputs": [
    {
     "name": "stdout",
     "output_type": "stream",
     "text": [
      "Calling single_likelihood\n",
      "Wall time: 7.99 ms\n",
      "-> 3.9640429383561684\n",
      "\n",
      "Calling integrate.quad\n",
      "Wall time: 96 ms\n",
      "-> 3.9640429383561684\n"
     ]
    }
   ],
   "source": [
    "theta = (0.2, 0.7)\n",
    "br_i = 1.0\n",
    "tds_i = 0.16\n",
    "s_br_i = 0.1\n",
    "s_tds_i = 0.1\n",
    "\n",
    "print('Calling single_likelihood')\n",
    "%time res = single_likelihood(theta, br_i, tds_i, s_br_i, s_tds_i)\n",
    "print(f'-> {res}\\n')\n",
    "\n",
    "print('Calling integrate.quad')\n",
    "%time res = integrate.quad(single_probability, 0, np.inf, \\\n",
    "                           args=(theta, br_i, tds_i, s_br_i, s_tds_i))[0]\n",
    "print(f'-> {res}')"
   ]
  },
  {
   "cell_type": "markdown",
   "id": "5ae4abf4",
   "metadata": {},
   "source": [
    "The two results are nearly the same, and the discrete integral is much faster.\n",
    "\n",
    "Let's see what the probability density function looks like with actual data."
   ]
  },
  {
   "cell_type": "code",
   "execution_count": 11,
   "id": "423b1701",
   "metadata": {},
   "outputs": [
    {
     "data": {
      "image/png": "[encoded data removed]",
      "text/plain": [
       "<Figure size 1080x648 with 2 Axes>"
      ]
     },
     "metadata": {
      "needs_background": "light"
     },
     "output_type": "display_data"
    }
   ],
   "source": [
    "# Looking at just the first configuration\n",
    "some_shots = shots[shots['config_id'] == 1]\n",
    "\n",
    "fig, ax1 = plt.subplots(figsize=(15,9))\n",
    "ax2 = ax1.twinx()\n",
    "\n",
    "ax1.set_xlabel('Brew Ratio')\n",
    "ax1.set_ylabel('Total Dissolved Solids')\n",
    "ax2.set_ylabel('Probability Density')\n",
    "\n",
    "# Plot best model curve\n",
    "m, tau = theta\n",
    "xs = np.linspace(0., 5., 2501)[1:]\n",
    "ys = model_tds(xs, m, tau)\n",
    "\n",
    "ax1.plot(xs, ys)\n",
    "\n",
    "# Plot data points\n",
    "br = np.array(some_shots['brew_ratio'])\n",
    "tds = np.array(some_shots['tds'])\n",
    "s_br = np.array(some_shots['s_br'])\n",
    "s_tds = np.array(some_shots['s_tds'])\n",
    "\n",
    "ax1.scatter(br, tds)\n",
    "\n",
    "# Plot probability densities\n",
    "for br_i, tds_i, s_br_i, s_tds_i in zip(br, tds, s_br, s_tds):\n",
    "    ps = single_probability(xs, theta, br_i, tds_i, s_br_i, s_tds_i)\n",
    "    ax2.plot(xs, ps, c='C1')"
   ]
  },
  {
   "cell_type": "markdown",
   "id": "12428533",
   "metadata": {},
   "source": [
    "To get the likelihood for a set of measurements, we multiply the likelihoods for the individual measurements. Equivalently, we can get the log-likelihood for the set of measurements by adding up the log-likelihoods of the individual measurements:"
   ]
  },
  {
   "cell_type": "code",
   "execution_count": 12,
   "id": "402445d5",
   "metadata": {},
   "outputs": [],
   "source": [
    "def log_likelihood(theta, br, tds, s_br, s_tds):\n",
    "    likelihoods = [single_likelihood(theta, br_i, tds_i, s_br_i, s_tds_i) \n",
    "                   for br_i, tds_i, s_br_i, s_tds_i in zip(br, tds, s_br, s_tds)]\n",
    "    if np.all(np.array(likelihoods) > 0):\n",
    "        return sum(np.log(likelihoods))\n",
    "    else:\n",
    "        return -np.inf"
   ]
  },
  {
   "cell_type": "markdown",
   "id": "e1436b3a",
   "metadata": {},
   "source": [
    "We can maximize likelihood to find the best fit curve for each configuration."
   ]
  },
  {
   "cell_type": "code",
   "execution_count": 13,
   "id": "dcf6532a",
   "metadata": {},
   "outputs": [
    {
     "name": "stdout",
     "output_type": "stream",
     "text": [
      "Hana Asrat Uraga (6.5 bar, no filter, grind 2.20, 2 tamps)...\n"
     ]
    },
    {
     "name": "stderr",
     "output_type": "stream",
     "text": [
      "c:\\python39\\lib\\site-packages\\scipy\\optimize\\_numdiff.py:557: RuntimeWarning: invalid value encountered in subtract\n",
      "  df = fun(x) - f0\n"
     ]
    },
    {
     "data": {
      "text/html": [
       "<div>\n",
       "<style scoped>\n",
       "    .dataframe tbody tr th:only-of-type {\n",
       "        vertical-align: middle;\n",
       "    }\n",
       "\n",
       "    .dataframe tbody tr th {\n",
       "        vertical-align: top;\n",
       "    }\n",
       "\n",
       "    .dataframe thead th {\n",
       "        text-align: right;\n",
       "    }\n",
       "</style>\n",
       "<table border=\"1\" class=\"dataframe\">\n",
       "  <thead>\n",
       "    <tr style=\"text-align: right;\">\n",
       "      <th></th>\n",
       "      <th>description</th>\n",
       "      <th>fit_m</th>\n",
       "      <th>fit_tau</th>\n",
       "    </tr>\n",
       "    <tr>\n",
       "      <th>id</th>\n",
       "      <th></th>\n",
       "      <th></th>\n",
       "      <th></th>\n",
       "    </tr>\n",
       "  </thead>\n",
       "  <tbody>\n",
       "    <tr>\n",
       "      <th>1</th>\n",
       "      <td>Hana Asrat Uraga (6.5 bar, no filter, grind 2....</td>\n",
       "      <td>0.207739</td>\n",
       "      <td>0.630416</td>\n",
       "    </tr>\n",
       "  </tbody>\n",
       "</table>\n",
       "</div>"
      ],
      "text/plain": [
       "                                          description     fit_m   fit_tau\n",
       "id                                                                       \n",
       "1   Hana Asrat Uraga (6.5 bar, no filter, grind 2....  0.207739  0.630416"
      ]
     },
     "execution_count": 13,
     "metadata": {},
     "output_type": "execute_result"
    }
   ],
   "source": [
    "nll = lambda *args: -log_likelihood(*args)\n",
    "\n",
    "# Optimize each configuration\n",
    "for index, row in configs.iterrows():\n",
    "    print(row['description'] + '...')\n",
    "\n",
    "    some_shots = shots[shots['config_id'] == index]\n",
    "\n",
    "    br = np.array(some_shots['brew_ratio'])\n",
    "    tds = np.array(some_shots['tds'])\n",
    "    s_br = np.array(some_shots['s_br'])\n",
    "    s_tds = np.array(some_shots['s_tds'])\n",
    "    \n",
    "    initial = np.array([1., 1.])\n",
    "    bounds = [(0., None), (0., None)]\n",
    "\n",
    "    # We need to ease into the optimization\n",
    "    for r in np.logspace(2., 0., num=3):\n",
    "        soln = minimize(nll, initial, args=(br, tds, r * s_br, r * s_tds), bounds=bounds)\n",
    "        initial = soln.x\n",
    "    \n",
    "    configs.at[index, 'fit_m'] = soln.x[0]\n",
    "    configs.at[index, 'fit_tau'] = soln.x[1]\n",
    "\n",
    "configs"
   ]
  },
  {
   "cell_type": "markdown",
   "id": "78370e98",
   "metadata": {},
   "source": [
    "Now we can plot the maximum likelihood curve along with the data for each configuration. Although we calculate maximum likelihood in terms of TDS vs. brew ratio, we can transform the curve, e.g., to draw it in a plot of TDS vs. EY:"
   ]
  },
  {
   "cell_type": "code",
   "execution_count": 26,
   "id": "2f83af8c",
   "metadata": {},
   "outputs": [
    {
     "data": {
      "text/plain": [
       "<matplotlib.legend.Legend at 0x12600615700>"
      ]
     },
     "execution_count": 26,
     "metadata": {},
     "output_type": "execute_result"
    },
    {
     "data": {
      "image/png": "[encoded data removed]",
      "text/plain": [
       "<Figure size 1080x648 with 1 Axes>"
      ]
     },
     "metadata": {
      "needs_background": "light"
     },
     "output_type": "display_data"
    }
   ],
   "source": [
    "def plot_fit(ax, row, color=None, draw_ticks=False):\n",
    "    m = row['fit_m']\n",
    "    tau = row['fit_tau']\n",
    "    \n",
    "    fit_br = np.append([1e-6], np.linspace(0., 5., 201)[1:])\n",
    "    fit_tds = model_tds(fit_br, m, tau)\n",
    "    fit_ey = fit_br * fit_tds\n",
    "    \n",
    "    # Draw maximum likelihood curve\n",
    "    traj, = ax.plot(fit_ey, fit_tds, color=color, label=row['description'])    \n",
    "\n",
    "    if draw_ticks:\n",
    "        # Draw ticks to indicate brew ratio\n",
    "        major_ticks = LineTicks(traj, range(0, 201, 40), 10, lw=1, \n",
    "                                label=['{:.0f}'.format(round(tt)) for tt in fit_br[::40]])\n",
    "        minor_ticks = LineTicks(traj, range(0, 201, 4), 4, lw=1)\n",
    "\n",
    "def plot_points(ax, some_shots, color=None):\n",
    "    br = np.array(some_shots['brew_ratio'])\n",
    "    tds = np.array(some_shots['tds'])\n",
    "    ey = br * tds\n",
    "    \n",
    "    # Draw data points\n",
    "    ax.scatter(ey, tds, color=color)\n",
    "\n",
    "fig, ax = plt.subplots(figsize=(15,9))\n",
    "\n",
    "ax.set_xlabel('Extraction Yield')\n",
    "ax.set_ylabel('Total Dissolved Solids')\n",
    "\n",
    "for ci, (index, row) in enumerate(configs.iterrows()):\n",
    "    some_shots = shots[shots['config_id'] == index]\n",
    "    \n",
    "    # Get plot colour\n",
    "    color = f'C{ci}'\n",
    "\n",
    "    # Plot maximum likelihood fit\n",
    "    plot_fit(ax, row, color)\n",
    "\n",
    "    # Plot points\n",
    "    plot_points(ax, some_shots, color)\n",
    "\n",
    "# We will use these values later\n",
    "plt_xlim = ax.get_xlim()\n",
    "plt_ylim = ax.get_ylim()\n",
    "    \n",
    "ax.legend()"
   ]
  },
  {
   "cell_type": "markdown",
   "id": "f59c1a1a",
   "metadata": {},
   "source": [
    "# Markov chain Monte Carlo\n",
    "\n",
    "At this point we've determined a best fit for each configuration, but we haven't estimated the accuracy of these results. To do this, we'll be using something called Markov chain Monte Carlo analysis. Jake VanderPlas's article includes sample code using a Python package called emcee<sup>[2]</sup>, and we will largely follow in his footsteps here.\n",
    "\n",
    "The first thing we need to do is to define the prior probability distribution, also called simply \"the prior\". The prior encodes what we know about the model parameters before we make any experimental measurements. This can include the limits of each parameter, as well as the symmetry of each parameter--for example, if the parameter should be invariant under changes of scale or orientation.\n",
    "\n",
    "For the time being, we'll use what's called a \"flat\" prior. A flat prior is easy to implement, but not necessarily \"uninformative\"--that is, it encodes some assumptions about the model parameters. It's worth reading the concerns about this prior in Jake's articles. Because the data has relatively tight error bars, I think the information contained in our likelihood will probably dominate the information in the prior anyway."
   ]
  },
  {
   "cell_type": "code",
   "execution_count": 15,
   "id": "a912d8b3",
   "metadata": {},
   "outputs": [],
   "source": [
    "def log_prior(theta):\n",
    "    m, tau = theta\n",
    "    if m > 0 and tau > 0:\n",
    "        return 0.\n",
    "    else:\n",
    "        return -np.inf"
   ]
  },
  {
   "cell_type": "markdown",
   "id": "399501f3",
   "metadata": {},
   "source": [
    "Now we define the posterior distribution, which is just the product of the prior and the likelihood we defined above."
   ]
  },
  {
   "cell_type": "code",
   "execution_count": 16,
   "id": "91db505d",
   "metadata": {},
   "outputs": [],
   "source": [
    "def log_posterior(theta, br, tds, s_br, s_tds):\n",
    "    lp = log_prior(theta)\n",
    "    ll = log_likelihood(theta, br, tds, s_br, s_tds)\n",
    "    if np.isfinite(lp) and np.isfinite(ll) :\n",
    "        return lp + ll\n",
    "    else:\n",
    "        return -np.inf"
   ]
  },
  {
   "cell_type": "markdown",
   "id": "981eabe9",
   "metadata": {},
   "source": [
    "Now we set up the computation:"
   ]
  },
  {
   "cell_type": "code",
   "execution_count": 17,
   "id": "8a3bac9e",
   "metadata": {},
   "outputs": [],
   "source": [
    "ndim = 2  # number of parameters in the model\n",
    "nwalkers = 50  # number of MCMC walkers\n",
    "nburn = 100  # \"burn-in\" period to let chains stabilize\n",
    "nthin = 15 # thin by about half the autocorrelation time\n",
    "nsteps = 2000  # number of MCMC steps to take"
   ]
  },
  {
   "cell_type": "markdown",
   "id": "efa3b13f",
   "metadata": {},
   "source": [
    "Then we sample the distribution using emcee:"
   ]
  },
  {
   "cell_type": "code",
   "execution_count": 18,
   "id": "9cf78acf",
   "metadata": {},
   "outputs": [
    {
     "name": "stdout",
     "output_type": "stream",
     "text": [
      "Hana Asrat Uraga (6.5 bar, no filter, grind 2.20, 2 tamps)...\n"
     ]
    },
    {
     "name": "stderr",
     "output_type": "stream",
     "text": [
      "100%|██████████████████████████████████████████████████████████████████████████████| 2000/2000 [26:16<00:00,  1.27it/s]\n"
     ]
    }
   ],
   "source": [
    "samplers = {}\n",
    "\n",
    "for index, row in configs.iterrows():\n",
    "    print(row['description'] + '...')\n",
    "    \n",
    "    some_shots = shots[shots['config_id'] == index]\n",
    "\n",
    "    m = row['fit_m']\n",
    "    tau = row['fit_tau']\n",
    "\n",
    "    starting_guesses = [m, tau] + 1e-4 * np.random.randn(nwalkers, ndim)\n",
    "\n",
    "    br = np.array(some_shots['brew_ratio'])\n",
    "    tds = np.array(some_shots['tds'])\n",
    "    s_br = np.array(some_shots['s_br'])\n",
    "    s_tds = np.array(some_shots['s_tds'])\n",
    "\n",
    "    samplers[index] = emcee.EnsembleSampler(nwalkers, ndim, log_posterior, args=[br, tds, s_br, s_tds])\n",
    "    samplers[index].run_mcmc(starting_guesses, nsteps, progress=True);"
   ]
  },
  {
   "cell_type": "markdown",
   "id": "6c71dc31",
   "metadata": {},
   "source": [
    "The first thing we should take a look at is the autocorrelation time. Essentially, the autocorrelation time measures how independent our samples are--this is about how long it takes for the chain to \"forget\" a past state. We will get an error if the autocorrelation time is greater than 1/50 the number of samples."
   ]
  },
  {
   "cell_type": "code",
   "execution_count": 19,
   "id": "296f05a6",
   "metadata": {},
   "outputs": [
    {
     "name": "stdout",
     "output_type": "stream",
     "text": [
      "Hana Asrat Uraga (6.5 bar, no filter, grind 2.20, 2 tamps):\n",
      "    [26.95411101 26.95534237]\n"
     ]
    }
   ],
   "source": [
    "for index, s in samplers.items():\n",
    "    row = configs.loc[index]\n",
    "    print(row['description'] + ':')\n",
    "    print('    ' + str(s.get_autocorr_time()))"
   ]
  },
  {
   "cell_type": "markdown",
   "id": "ece94cd8",
   "metadata": {},
   "source": [
    "Another useful diagnostic is the \"corner plot\". This shows the distribution of fit parameters within the generated samples, as well as the cross-correlation between the parameters."
   ]
  },
  {
   "cell_type": "code",
   "execution_count": 20,
   "id": "525458ae",
   "metadata": {},
   "outputs": [
    {
     "data": {
      "image/png": "[encoded data removed]",
      "text/plain": [
       "<Figure size 396x396 with 4 Axes>"
      ]
     },
     "metadata": {
      "needs_background": "light"
     },
     "output_type": "display_data"
    }
   ],
   "source": [
    "labels = ['m', 'tau']\n",
    "\n",
    "for index, row in configs.iterrows():\n",
    "    sampler = samplers[index]\n",
    "    flat_samples = sampler.get_chain(flat=True)\n",
    "\n",
    "    m = row['fit_m']\n",
    "    tau = row['fit_tau']\n",
    "    \n",
    "    fig = corner.corner(\n",
    "        flat_samples, labels=labels, truths=[m, tau]\n",
    "    )\n",
    "    \n",
    "    fig.suptitle(row['description'])"
   ]
  },
  {
   "cell_type": "markdown",
   "id": "51fc3ffb",
   "metadata": {},
   "source": [
    "This is about what we expect--roughly Gaussian distributions for $M$ and $\\tau$, and a positive correlation between the two, i.e., when we increase $M$, $\\tau$ also increases to get the best fit to the data.\n",
    "\n",
    "We can report the fit parameters along with uncertainties based on the 16th and 84th percentiles as follows:"
   ]
  },
  {
   "cell_type": "code",
   "execution_count": 21,
   "id": "6ee912fe",
   "metadata": {},
   "outputs": [
    {
     "name": "stdout",
     "output_type": "stream",
     "text": [
      "Hana Asrat Uraga (6.5 bar, no filter, grind 2.20, 2 tamps):\n"
     ]
    },
    {
     "data": {
      "text/latex": [
       "$\\displaystyle \\mathrm{m} = 0.207_{-0.002}^{0.002}$"
      ],
      "text/plain": [
       "<IPython.core.display.Math object>"
      ]
     },
     "metadata": {},
     "output_type": "display_data"
    },
    {
     "data": {
      "text/latex": [
       "$\\displaystyle \\mathrm{tau} = 0.624_{-0.012}^{0.012}$"
      ],
      "text/plain": [
       "<IPython.core.display.Math object>"
      ]
     },
     "metadata": {},
     "output_type": "display_data"
    }
   ],
   "source": [
    "for index, s in samplers.items():\n",
    "    row = configs.loc[index]\n",
    "    print(row['description'] + ':')\n",
    "\n",
    "    flat_samples = s.get_chain(flat=True)\n",
    "\n",
    "    for i in range(ndim):\n",
    "        mcmc = np.percentile(flat_samples[:, i], [16, 50, 84])\n",
    "        q = np.diff(mcmc)\n",
    "        txt = \"\\mathrm{{{3}}} = {0:.3f}_{{-{1:.3f}}}^{{{2:.3f}}}\"\n",
    "        txt = txt.format(mcmc[1], q[0], q[1], labels[i])\n",
    "        display(Math(txt))"
   ]
  },
  {
   "cell_type": "markdown",
   "id": "721ff315",
   "metadata": {},
   "source": [
    "Finally, we can use the generated samples to measure the 95% credible interval for our fit parameters as follows:\n",
    "\n",
    "1. We use $M$ and $\\tau$ from each of the generated samples to calculate TDS for several brew ratios.\n",
    "2. For each brew ratio, we calculate the standard deviation of the calculated TDS values.\n",
    "3. We generate upper and lower bounds for TDS using two standard deviations (95% credible interval).\n",
    "4. Finally, we transform this region to our TDS vs. EY plot and display it as a filled area.\n",
    "\n",
    "Here's what it looks like:"
   ]
  },
  {
   "cell_type": "code",
   "execution_count": 27,
   "id": "e0b53431",
   "metadata": {},
   "outputs": [
    {
     "data": {
      "text/plain": [
       "<matplotlib.legend.Legend at 0x1260051e3d0>"
      ]
     },
     "execution_count": 27,
     "metadata": {},
     "output_type": "execute_result"
    },
    {
     "data": {
      "image/png": "[encoded data removed]",
      "text/plain": [
       "<Figure size 1080x648 with 1 Axes>"
      ]
     },
     "metadata": {
      "needs_background": "light"
     },
     "output_type": "display_data"
    }
   ],
   "source": [
    "def plot_credible_interval(ax, sampler, color=None):\n",
    "    emcee_m, emcee_tau = sampler.get_chain(discard=nburn, thin=nthin, flat=True).T\n",
    "\n",
    "    emcee_br = np.append([1e-6], np.linspace(0., 5., 201)[1:])\n",
    "    emcee_tds = model_tds(emcee_br, emcee_m[:, None], emcee_tau[:, None])\n",
    "    \n",
    "    mu = emcee_tds.mean(0)\n",
    "    sig = 2 * emcee_tds.std(0)\n",
    "\n",
    "    tds_upper = mu + sig\n",
    "    tds_lower = mu - sig\n",
    "\n",
    "    ey_upper = emcee_br * tds_upper\n",
    "    ey_lower = emcee_br * tds_lower\n",
    "\n",
    "    # Plot 95% credible interval\n",
    "    plt.fill(np.append(ey_upper, ey_lower[::-1]), \n",
    "             np.append(tds_upper, tds_lower[::-1]), color=color, alpha=0.2)\n",
    "\n",
    "fig, ax = plt.subplots(figsize=(15,9))\n",
    "\n",
    "ax.set_xlabel('Extraction Yield')\n",
    "ax.set_ylabel('Total Dissolved Solids')\n",
    "\n",
    "plt.xlim(plt_xlim)\n",
    "plt.ylim(plt_ylim)\n",
    "\n",
    "for ci, (index, row) in enumerate(configs.iterrows()):\n",
    "    some_shots = shots[shots['config_id'] == index]\n",
    "    \n",
    "    # Get plot colour\n",
    "    color = f'C{ci}'\n",
    "\n",
    "    # Plot maximum likelihood fit\n",
    "    plot_fit(ax, row, color, draw_ticks=True)\n",
    "\n",
    "    # Plot points\n",
    "    plot_points(ax, some_shots, color)\n",
    "    \n",
    "    # Plot 95% credible interval\n",
    "    plot_credible_interval(ax, samplers[index], color)\n",
    "\n",
    "ax.legend()"
   ]
  },
  {
   "cell_type": "markdown",
   "id": "001d6d0c",
   "metadata": {},
   "source": [
    "# Process error\n",
    "\n",
    "**TO DO:** Discuss process error in the above plot."
   ]
  },
  {
   "cell_type": "markdown",
   "id": "7fe1358d",
   "metadata": {},
   "source": [
    "# To do\n",
    "\n",
    "- What if we calculate deviation from the model, then split into first shot of the day and second shot of the day? Will we see a pattern due to the OPV issues?\n",
    "- Should look at effect of temperature on EY."
   ]
  },
  {
   "cell_type": "markdown",
   "id": "0cd47f40",
   "metadata": {},
   "source": [
    "# References\n",
    "\n",
    "[1] http://jakevdp.github.io/blog/2014/03/11/frequentism-and-bayesianism-a-practical-intro/ \\\n",
    "[2] https://emcee.readthedocs.io/en/stable/"
   ]
  }
 ],
 "metadata": {
  "kernelspec": {
   "display_name": "Python 3",
   "language": "python",
   "name": "python3"
  },
  "language_info": {
   "codemirror_mode": {
    "name": "ipython",
    "version": 3
   },
   "file_extension": ".py",
   "mimetype": "text/x-python",
   "name": "python",
   "nbconvert_exporter": "python",
   "pygments_lexer": "ipython3",
   "version": "3.9.5"
  }
 },
 "nbformat": 4,
 "nbformat_minor": 5
}
